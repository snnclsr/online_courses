{
 "cells": [
  {
   "cell_type": "markdown",
   "metadata": {},
   "source": [
    "# C4_W1\n",
    "\n",
    "- Teacher Forcing: https://towardsdatascience.com/what-is-teacher-forcing-3da6217fed1c\n",
    "\n",
    "\n",
    "This course drew from the following resources:\n",
    "\n",
    "- Exploring the Limits of Transfer Learning with a Unified Text-to-Text Transformer (Raffel et al, 2019)\n",
    "\n",
    "- Reformer: The Efficient Transformer (Kitaev et al, 2020)\n",
    "\n",
    "- Attention Is All You Need (Vaswani et al, 2017)\n",
    "\n",
    "- Deep contextualized word representations (Peters et al, 2018)\n",
    "\n",
    "- The Illustrated Transformer (Alammar, 2018)\n",
    "\n",
    "- The Illustrated GPT-2 (Visualizing Transformer Language Models) (Alammar, 2019)\n",
    "\n",
    "- BERT: Pre-training of Deep Bidirectional Transformers for Language Understanding (Devlin et al, 2018)\n",
    "\n",
    "- How GPT3 Works - Visualizations and Animations (Alammar, 2020)"
   ]
  },
  {
   "cell_type": "code",
   "execution_count": null,
   "metadata": {},
   "outputs": [],
   "source": []
  }
 ],
 "metadata": {
  "kernelspec": {
   "display_name": "Python 3",
   "language": "python",
   "name": "python3"
  },
  "language_info": {
   "codemirror_mode": {
    "name": "ipython",
    "version": 3
   },
   "file_extension": ".py",
   "mimetype": "text/x-python",
   "name": "python",
   "nbconvert_exporter": "python",
   "pygments_lexer": "ipython3",
   "version": "3.6.9"
  }
 },
 "nbformat": 4,
 "nbformat_minor": 2
}
