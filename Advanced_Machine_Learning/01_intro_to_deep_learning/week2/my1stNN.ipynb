{
 "cells": [
  {
   "cell_type": "code",
   "execution_count": 1,
   "metadata": {},
   "outputs": [
    {
     "name": "stderr",
     "output_type": "stream",
     "text": [
      "Using TensorFlow backend.\n"
     ]
    },
    {
     "name": "stdout",
     "output_type": "stream",
     "text": [
      "(50000, 28, 28) (50000,)\n"
     ]
    },
    {
     "data": {
      "image/png": "[encoded data removed]",
      "text/plain": [
       "<matplotlib.figure.Figure at 0x7fbf60cdae10>"
      ]
     },
     "metadata": {},
     "output_type": "display_data"
    }
   ],
   "source": [
    "from preprocessed_mnist import load_dataset\n",
    "X_train, y_train, X_val, y_val, X_test, y_test = load_dataset()\n",
    "print(X_train.shape, y_train.shape)\n",
    "import matplotlib.pyplot as plt\n",
    "%matplotlib inline\n",
    "plt.imshow(X_train[0], cmap=\"Greys\");"
   ]
  },
  {
   "cell_type": "code",
   "execution_count": 2,
   "metadata": {
    "collapsed": true
   },
   "outputs": [],
   "source": [
    "import tensorflow as tf\n",
    "import numpy as np\n",
    "import matplotlib.pyplot as plt"
   ]
  },
  {
   "cell_type": "code",
   "execution_count": 3,
   "metadata": {},
   "outputs": [
    {
     "name": "stdout",
     "output_type": "stream",
     "text": [
      "X_train shape (50000, 28, 28)\n",
      "y_train shape (50000,)\n",
      "X_val shape (10000, 28, 28)\n",
      "y_val shape (10000,)\n",
      "X_test shape (10000, 28, 28)\n",
      "y_test shape (10000,)\n"
     ]
    }
   ],
   "source": [
    "# Printing the shapes of the data\n",
    "print(\"X_train shape\", X_train.shape)\n",
    "print(\"y_train shape\", y_train.shape)\n",
    "print(\"X_val shape\", X_val.shape)\n",
    "print(\"y_val shape\", y_val.shape)\n",
    "print(\"X_test shape\", X_test.shape)\n",
    "print(\"y_test shape\", y_test.shape)"
   ]
  },
  {
   "cell_type": "code",
   "execution_count": 4,
   "metadata": {
    "collapsed": true
   },
   "outputs": [],
   "source": [
    "# Our network expects (None, 784) shaped data.\n",
    "X_train = np.reshape(X_train, (50000, 784))\n",
    "X_test = np.reshape(X_test, (10000, 784))"
   ]
  },
  {
   "cell_type": "code",
   "execution_count": 5,
   "metadata": {},
   "outputs": [
    {
     "name": "stdout",
     "output_type": "stream",
     "text": [
      "X_train shape :  (50000, 784)\n",
      "X_test shape :  (10000, 784)\n"
     ]
    }
   ],
   "source": [
    "print(\"X_train shape : \", X_train.shape)\n",
    "print(\"X_test shape : \", X_test.shape)"
   ]
  },
  {
   "cell_type": "code",
   "execution_count": 6,
   "metadata": {},
   "outputs": [],
   "source": [
    "# This cell contains our feed forward neural network.\n",
    "# Operation order is like this \n",
    "# Linear_forward->ReLu->Linear_forward->ReLu->Linear_forward->Softmax\n",
    "\n",
    "# I used tf.get_variable for defining the variables with xavier_initializer()\n",
    "# which is -> x = sqrt(6. / (in + out))\n",
    "# https://www.tensorflow.org/api_docs/python/tf/contrib/layers/xavier_initializer\n",
    "X = tf.placeholder(tf.float32, shape=(None, 784), name='input_data')\n",
    "\n",
    "W1 = tf.get_variable(\"W1\", shape=(784, 128), initializer=tf.contrib.layers.xavier_initializer())\n",
    "b1 = tf.Variable(tf.zeros(shape=(128)))\n",
    "a1 = tf.matmul(X, W1) + b1\n",
    "z1 = tf.nn.relu(a1)\n",
    "\n",
    "W2 = tf.get_variable(\"W2\", shape=(128, 128), initializer=tf.contrib.layers.xavier_initializer())\n",
    "b2 = tf.Variable(tf.zeros(shape=(128)))\n",
    "a2 = tf.matmul(z1, W2) + b2\n",
    "z2 = tf.nn.relu(a2)\n",
    "\n",
    "W3 = tf.get_variable(\"W3\", shape=(128, 10), initializer=tf.contrib.layers.xavier_initializer())\n",
    "b3 = tf.Variable(tf.zeros(shape=(10)))\n",
    "z3 = tf.matmul(z2, W3) + b3\n",
    "\n",
    "y = tf.nn.softmax(z3)"
   ]
  },
  {
   "cell_type": "code",
   "execution_count": 7,
   "metadata": {
    "collapsed": true
   },
   "outputs": [],
   "source": [
    "# This variable will hold our labels.\n",
    "y_ = tf.placeholder(dtype=tf.int64, shape=(None))"
   ]
  },
  {
   "cell_type": "code",
   "execution_count": 8,
   "metadata": {
    "collapsed": true
   },
   "outputs": [],
   "source": [
    "# loss function to calculate gradients.\n",
    "loss = tf.losses.sparse_softmax_cross_entropy(labels=y_, logits=y)\n",
    "# We use adam optimizer to minimize the loss function.\n",
    "optimizer = tf.train.AdamOptimizer().minimize(loss)"
   ]
  },
  {
   "cell_type": "code",
   "execution_count": 10,
   "metadata": {},
   "outputs": [
    {
     "name": "stdout",
     "output_type": "stream",
     "text": [
      "Training started.\n",
      "Loss after epoch 0 : 1.5218993425369263\n",
      "Loss after epoch 1 : 1.5072813034057617\n",
      "Loss after epoch 2 : 1.4967666864395142\n",
      "Loss after epoch 3 : 1.491233229637146\n",
      "Loss after epoch 4 : 1.4904087781906128\n",
      "Loss after epoch 5 : 1.4867184162139893\n",
      "Loss after epoch 6 : 1.4808650016784668\n",
      "Loss after epoch 7 : 1.4834506511688232\n",
      "Loss after epoch 8 : 1.481643795967102\n",
      "Loss after epoch 9 : 1.4847134351730347\n",
      "Loss after epoch 10 : 1.4772961139678955\n",
      "Loss after epoch 11 : 1.4812266826629639\n",
      "Loss after epoch 12 : 1.4794018268585205\n",
      "Loss after epoch 13 : 1.4784969091415405\n",
      "Loss after epoch 14 : 1.4805785417556763\n",
      "Loss after epoch 15 : 1.4752949476242065\n",
      "Loss after epoch 16 : 1.476860523223877\n",
      "Loss after epoch 17 : 1.4728806018829346\n",
      "Loss after epoch 18 : 1.477700114250183\n",
      "Loss after epoch 19 : 1.4733928442001343\n"
     ]
    },
    {
     "data": {
      "image/png": "[encoded data removed]",
      "text/plain": [
       "<matplotlib.figure.Figure at 0x7fbf52a83780>"
      ]
     },
     "metadata": {},
     "output_type": "display_data"
    },
    {
     "name": "stdout",
     "output_type": "stream",
     "text": [
      "Train accuracy :  0.9876\n",
      "Test accuracy :  0.9755\n"
     ]
    }
   ],
   "source": [
    "batch_size = 32\n",
    "EPOCHS = 20\n",
    "with tf.Session() as sess:\n",
    "    sess.run(tf.global_variables_initializer())\n",
    "    train_loss = []\n",
    "    test_loss = []\n",
    "    print(\"Training started.\")\n",
    "    for epoch in range(0, EPOCHS):\n",
    "        for batch in range(0, 50000, batch_size):\n",
    "            sess.run(optimizer, feed_dict={X:X_train[batch:batch+batch_size], y_:y_train[batch:batch+batch_size]})\n",
    "        \n",
    "        train_loss.append(sess.run(loss, feed_dict={X:X_train, y_:y_train}))\n",
    "        test_loss.append(sess.run(loss, feed_dict={X:X_test, y_:y_test}))\n",
    "        # printing the current loss after every epoch.\n",
    "        print(\"Loss after epoch {} : {}\".format(epoch, train_loss[-1]))\n",
    "    # Plotting the train and test loss\n",
    "    total_iter = list(range(EPOCHS))\n",
    "    plt.plot(total_iter, train_loss, label='Train')\n",
    "    plt.plot(total_iter, test_loss, label='Test')\n",
    "    plt.legend(['Train', 'Test'])\n",
    "    plt.show()\n",
    "    \n",
    "    # Metrics to use calculating the accuracy.\n",
    "    correct_prediction = tf.equal(tf.argmax(y, 1), y_)\n",
    "    accuracy = tf.reduce_mean(tf.cast(correct_prediction, tf.float32))\n",
    "    \n",
    "    # Accuracy on the train and test set.\n",
    "    train_acc = accuracy.eval(feed_dict={X: X_train,y_: y_train })\n",
    "    test_acc = accuracy.eval(feed_dict={X: X_test,y_: y_test })\n",
    "    print(\"Train accuracy : \", train_acc)\n",
    "    print(\"Test accuracy : \", test_acc)"
   ]
  },
  {
   "cell_type": "code",
   "execution_count": null,
   "metadata": {
    "collapsed": true
   },
   "outputs": [],
   "source": []
  }
 ],
 "metadata": {
  "kernelspec": {
   "display_name": "Python 3",
   "language": "python",
   "name": "python3"
  },
  "language_info": {
   "codemirror_mode": {
    "name": "ipython",
    "version": 3
   },
   "file_extension": ".py",
   "mimetype": "text/x-python",
   "name": "python",
   "nbconvert_exporter": "python",
   "pygments_lexer": "ipython3",
   "version": "3.6.0"
  }
 },
 "nbformat": 4,
 "nbformat_minor": 2
}
