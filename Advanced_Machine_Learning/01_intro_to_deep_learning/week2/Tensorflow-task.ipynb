{
 "cells": [
  {
   "cell_type": "markdown",
   "metadata": {
    "slideshow": {
     "slide_type": "slide"
    }
   },
   "source": [
    "# Going deeper with Tensorflow\n",
    "\n",
    "In this video, we're going to study the tools you'll use to build deep learning models. Namely, [Tensorflow](https://www.tensorflow.org/).\n",
    "\n",
    "If you're running this notebook outside the course environment, you'll need to install tensorflow:\n",
    "* `pip install tensorflow` should install cpu-only TF on Linux & Mac OS\n",
    "* If you want GPU support from offset, see [TF install page](https://www.tensorflow.org/install/)"
   ]
  },
  {
   "cell_type": "code",
   "execution_count": 1,
   "metadata": {
    "collapsed": true
   },
   "outputs": [],
   "source": [
    "import sys\n",
    "sys.path.append(\"..\")\n",
    "import grading"
   ]
  },
  {
   "cell_type": "markdown",
   "metadata": {},
   "source": [
    "# Visualization"
   ]
  },
  {
   "cell_type": "markdown",
   "metadata": {},
   "source": [
    "Plase note that if you are running on the Coursera platform, you won't be able to access the tensorboard instance due to the network setup there. If you run the notebook locally, you should be able to access TensorBoard on http://127.0.0.1:7007/"
   ]
  },
  {
   "cell_type": "code",
   "execution_count": 2,
   "metadata": {},
   "outputs": [
    {
     "name": "stdout",
     "output_type": "stream",
     "text": [
      "/bin/sh: 1: killall: not found\r\n"
     ]
    }
   ],
   "source": [
    "! killall tensorboard\n",
    "import os\n",
    "os.system(\"tensorboard --logdir=/tmp/tboard --port=7007 &\");"
   ]
  },
  {
   "cell_type": "code",
   "execution_count": 3,
   "metadata": {
    "collapsed": true
   },
   "outputs": [],
   "source": [
    "import tensorflow as tf\n",
    "s = tf.InteractiveSession()"
   ]
  },
  {
   "cell_type": "markdown",
   "metadata": {},
   "source": [
    "# Warming up\n",
    "For starters, let's implement a python function that computes the sum of squares of numbers from 0 to N-1."
   ]
  },
  {
   "cell_type": "code",
   "execution_count": 4,
   "metadata": {
    "collapsed": true
   },
   "outputs": [],
   "source": [
    "import numpy as np\n",
    "def sum_sin(N):\n",
    "    return np.sum(np.arange(N)**2)"
   ]
  },
  {
   "cell_type": "code",
   "execution_count": 5,
   "metadata": {},
   "outputs": [
    {
     "name": "stdout",
     "output_type": "stream",
     "text": [
      "CPU times: user 204 ms, sys: 2.69 s, total: 2.9 s\n",
      "Wall time: 3.57 s\n"
     ]
    },
    {
     "data": {
      "text/plain": [
       "662921401752298880"
      ]
     },
     "execution_count": 5,
     "metadata": {},
     "output_type": "execute_result"
    }
   ],
   "source": [
    "%%time\n",
    "sum_sin(10**8)"
   ]
  },
  {
   "cell_type": "markdown",
   "metadata": {},
   "source": [
    "# Tensoflow teaser\n",
    "\n",
    "Doing the very same thing"
   ]
  },
  {
   "cell_type": "code",
   "execution_count": 6,
   "metadata": {
    "collapsed": true
   },
   "outputs": [],
   "source": [
    "# An integer parameter\n",
    "N = tf.placeholder('int64', name=\"input_to_your_function\")\n",
    "\n",
    "# A recipe on how to produce the same result\n",
    "result = tf.reduce_sum(tf.range(N)**2)"
   ]
  },
  {
   "cell_type": "code",
   "execution_count": 7,
   "metadata": {},
   "outputs": [
    {
     "data": {
      "text/plain": [
       "<tf.Tensor 'Sum:0' shape=() dtype=int64>"
      ]
     },
     "execution_count": 7,
     "metadata": {},
     "output_type": "execute_result"
    }
   ],
   "source": [
    "result"
   ]
  },
  {
   "cell_type": "code",
   "execution_count": 8,
   "metadata": {},
   "outputs": [
    {
     "name": "stdout",
     "output_type": "stream",
     "text": [
      "CPU times: user 500 ms, sys: 1.32 s, total: 1.82 s\n",
      "Wall time: 2.02 s\n"
     ]
    },
    {
     "data": {
      "text/plain": [
       "662921401752298880"
      ]
     },
     "execution_count": 8,
     "metadata": {},
     "output_type": "execute_result"
    }
   ],
   "source": [
    "%%time\n",
    "result.eval({N: 10**8})"
   ]
  },
  {
   "cell_type": "code",
   "execution_count": 9,
   "metadata": {
    "collapsed": true
   },
   "outputs": [],
   "source": [
    "writer = tf.summary.FileWriter(\"/tmp/tboard\", graph=s.graph)"
   ]
  },
  {
   "cell_type": "markdown",
   "metadata": {},
   "source": [
    "# How does it work?\n",
    "1. Define placeholders where you'll send inputs\n",
    "2. Make symbolic graph: a recipe for mathematical transformation of those placeholders\n",
    "3. Compute outputs of your graph with particular values for each placeholder\n",
    "  * `output.eval({placeholder:value})`\n",
    "  * `s.run(output, {placeholder:value})`\n",
    "\n",
    "So far there are two main entities: \"placeholder\" and \"transformation\"\n",
    "* Both can be numbers, vectors, matrices, tensors, etc.\n",
    "* Both can be int32/64, floats, booleans (uint8) of various size.\n",
    "\n",
    "* You can define new transformations as an arbitrary operation on placeholders and other transformations\n",
    " * `tf.reduce_sum(tf.arange(N)**2)` are 3 sequential transformations of placeholder `N`\n",
    " * There's a tensorflow symbolic version for every numpy function\n",
    "   * `a+b, a/b, a**b, ...` behave just like in numpy\n",
    "   * `np.mean` -> `tf.reduce_mean`\n",
    "   * `np.arange` -> `tf.range`\n",
    "   * `np.cumsum` -> `tf.cumsum`\n",
    "   * If if you can't find the op you need, see the [docs](https://www.tensorflow.org/api_docs/python).\n",
    "   \n",
    "`tf.contrib` has many high-level features, may be worth a look."
   ]
  },
  {
   "cell_type": "code",
   "execution_count": 10,
   "metadata": {
    "collapsed": true
   },
   "outputs": [],
   "source": [
    "with tf.name_scope(\"Placeholders_examples\"):\n",
    "    # Default placeholder that can be arbitrary float32\n",
    "    # scalar, vertor, matrix, etc.\n",
    "    arbitrary_input = tf.placeholder('float32')\n",
    "\n",
    "    # Input vector of arbitrary length\n",
    "    input_vector = tf.placeholder('float32', shape=(None,))\n",
    "\n",
    "    # Input vector that _must_ have 10 elements and integer type\n",
    "    fixed_vector = tf.placeholder('int32', shape=(10,))\n",
    "\n",
    "    # Matrix of arbitrary n_rows and 15 columns\n",
    "    # (e.g. a minibatch your data table)\n",
    "    input_matrix = tf.placeholder('float32', shape=(None, 15))\n",
    "    \n",
    "    # You can generally use None whenever you don't need a specific shape\n",
    "    input1 = tf.placeholder('float64', shape=(None, 100, None))\n",
    "    input2 = tf.placeholder('int32', shape=(None, None, 3, 224, 224))\n",
    "\n",
    "    # elementwise multiplication\n",
    "    double_the_vector = input_vector*2\n",
    "\n",
    "    # elementwise cosine\n",
    "    elementwise_cosine = tf.cos(input_vector)\n",
    "\n",
    "    # difference between squared vector and vector itself plus one\n",
    "    vector_squares = input_vector**2 - input_vector + 1"
   ]
  },
  {
   "cell_type": "code",
   "execution_count": 11,
   "metadata": {
    "collapsed": true
   },
   "outputs": [],
   "source": [
    "my_vector =  tf.placeholder('float32', shape=(None,), name=\"VECTOR_1\")\n",
    "my_vector2 = tf.placeholder('float32', shape=(None,))\n",
    "my_transformation = my_vector * my_vector2 / (tf.sin(my_vector) + 1)"
   ]
  },
  {
   "cell_type": "code",
   "execution_count": 12,
   "metadata": {},
   "outputs": [
    {
     "name": "stdout",
     "output_type": "stream",
     "text": [
      "Tensor(\"truediv:0\", shape=(?,), dtype=float32)\n"
     ]
    }
   ],
   "source": [
    "print(my_transformation)"
   ]
  },
  {
   "cell_type": "code",
   "execution_count": 13,
   "metadata": {},
   "outputs": [
    {
     "name": "stdout",
     "output_type": "stream",
     "text": [
      "[ 0.  1.  2.  3.  4.]\n"
     ]
    },
    {
     "data": {
      "text/plain": [
       "array([ 0.        ,  1.62913239,  2.09501147,  2.62899613,  0.        ], dtype=float32)"
      ]
     },
     "execution_count": 13,
     "metadata": {},
     "output_type": "execute_result"
    }
   ],
   "source": [
    "dummy = np.arange(5).astype('float32')\n",
    "print(dummy)\n",
    "my_transformation.eval({my_vector:dummy, my_vector2:dummy[::-1]})"
   ]
  },
  {
   "cell_type": "code",
   "execution_count": 14,
   "metadata": {
    "collapsed": true
   },
   "outputs": [],
   "source": [
    "writer.add_graph(my_transformation.graph)\n",
    "writer.flush()"
   ]
  },
  {
   "cell_type": "markdown",
   "metadata": {},
   "source": [
    "TensorBoard allows writing scalars, images, audio, histogram. You can read more on tensorboard usage [here](https://www.tensorflow.org/get_started/graph_viz)."
   ]
  },
  {
   "cell_type": "markdown",
   "metadata": {},
   "source": [
    "# Summary\n",
    "* Tensorflow is based on computation graphs\n",
    "* The graphs consist of placehlders and transformations"
   ]
  },
  {
   "cell_type": "markdown",
   "metadata": {},
   "source": [
    "# Mean squared error\n",
    "\n",
    "Your assignment is to implement mean squared error in tensorflow."
   ]
  },
  {
   "cell_type": "code",
   "execution_count": 15,
   "metadata": {
    "collapsed": true
   },
   "outputs": [],
   "source": [
    "with tf.name_scope(\"MSE\"):\n",
    "    y_true = tf.placeholder(\"float32\", shape=(None,), name=\"y_true\")\n",
    "    y_predicted = tf.placeholder(\"float32\", shape=(None,), name=\"y_predicted\")\n",
    "    # Your code goes here\n",
    "    # You want to use tf.reduce_mean\n",
    "    # mse = tf.<...>\n",
    "    mse = tf.reduce_mean((y_true - y_predicted) ** 2)\n",
    "    \n",
    "def compute_mse(vector1, vector2):\n",
    "    return mse.eval({y_true: vector1, y_predicted: vector2})"
   ]
  },
  {
   "cell_type": "code",
   "execution_count": 16,
   "metadata": {
    "collapsed": true
   },
   "outputs": [],
   "source": [
    "writer.add_graph(mse.graph)\n",
    "writer.flush()"
   ]
  },
  {
   "cell_type": "markdown",
   "metadata": {},
   "source": [
    "Tests and result submission. Please use the credentials obtained from the Coursera assignment page."
   ]
  },
  {
   "cell_type": "code",
   "execution_count": 17,
   "metadata": {
    "collapsed": true
   },
   "outputs": [],
   "source": [
    "import submit"
   ]
  },
  {
   "cell_type": "code",
   "execution_count": 18,
   "metadata": {},
   "outputs": [
    {
     "name": "stdout",
     "output_type": "stream",
     "text": [
      "Submitted to Coursera platform. See results on assignment page!\n"
     ]
    }
   ],
   "source": [
    "submit.submit_mse(compute_mse, '', '')"
   ]
  },
  {
   "cell_type": "markdown",
   "metadata": {},
   "source": [
    "# Variables\n",
    "\n",
    "The inputs and transformations have no value outside function call. This isn't too comfortable if you want your model to have parameters (e.g. network weights) that are always present, but can change their value over time.\n",
    "\n",
    "Tensorflow solves this with `tf.Variable` objects.\n",
    "* You can assign variable a value at any time in your graph\n",
    "* Unlike placeholders, there's no need to explicitly pass values to variables when `s.run(...)`-ing\n",
    "* You can use variables the same way you use transformations \n",
    " "
   ]
  },
  {
   "cell_type": "code",
   "execution_count": 19,
   "metadata": {
    "collapsed": true
   },
   "outputs": [],
   "source": [
    "# Creating a shared variable\n",
    "shared_vector_1 = tf.Variable(initial_value=np.ones(5),\n",
    "                              name=\"example_variable\")"
   ]
  },
  {
   "cell_type": "code",
   "execution_count": 20,
   "metadata": {},
   "outputs": [
    {
     "name": "stdout",
     "output_type": "stream",
     "text": [
      "Initial value [ 1.  1.  1.  1.  1.]\n"
     ]
    }
   ],
   "source": [
    "# Initialize variable(s) with initial values\n",
    "s.run(tf.global_variables_initializer())\n",
    "\n",
    "# Evaluating shared variable (outside symbolicd graph)\n",
    "print(\"Initial value\", s.run(shared_vector_1))\n",
    "\n",
    "# Within symbolic graph you use them just\n",
    "# as any other inout or transformation, not \"get value\" needed"
   ]
  },
  {
   "cell_type": "code",
   "execution_count": 21,
   "metadata": {},
   "outputs": [
    {
     "name": "stdout",
     "output_type": "stream",
     "text": [
      "New value [ 0.  1.  2.  3.  4.]\n"
     ]
    }
   ],
   "source": [
    "# Setting a new value\n",
    "s.run(shared_vector_1.assign(np.arange(5)))\n",
    "\n",
    "# Getting that new value\n",
    "print(\"New value\", s.run(shared_vector_1))"
   ]
  },
  {
   "cell_type": "markdown",
   "metadata": {},
   "source": [
    "# tf.gradients - why graphs matter\n",
    "* Tensorflow can compute derivatives and gradients automatically using the computation graph\n",
    "* True to its name it can manage matrix derivatives\n",
    "* Gradients are computed as a product of elementary derivatives via the chain rule:\n",
    "\n",
    "$$ {\\partial f(g(x)) \\over \\partial x} = {\\partial f(g(x)) \\over \\partial g(x)}\\cdot {\\partial g(x) \\over \\partial x} $$\n",
    "\n",
    "It can get you the derivative of any graph as long as it knows how to differentiate elementary operations"
   ]
  },
  {
   "cell_type": "code",
   "execution_count": 22,
   "metadata": {
    "collapsed": true
   },
   "outputs": [],
   "source": [
    "my_scalar = tf.placeholder('float32')\n",
    "\n",
    "scalar_squared = my_scalar**2\n",
    "\n",
    "# A derivative of scalar_squared by my_scalar\n",
    "derivative = tf.gradients(scalar_squared, [my_scalar, ])"
   ]
  },
  {
   "cell_type": "code",
   "execution_count": 23,
   "metadata": {},
   "outputs": [
    {
     "data": {
      "text/plain": [
       "[<tf.Tensor 'gradients/pow_1_grad/Reshape:0' shape=<unknown> dtype=float32>]"
      ]
     },
     "execution_count": 23,
     "metadata": {},
     "output_type": "execute_result"
    }
   ],
   "source": [
    "derivative"
   ]
  },
  {
   "cell_type": "code",
   "execution_count": 24,
   "metadata": {},
   "outputs": [
    {
     "data": {
      "image/png": "[encoded data removed]",
      "text/plain": [
       "<matplotlib.figure.Figure at 0x7fc6765617b8>"
      ]
     },
     "metadata": {},
     "output_type": "display_data"
    }
   ],
   "source": [
    "import matplotlib.pyplot as plt\n",
    "%matplotlib inline\n",
    "\n",
    "x = np.linspace(-3, 3)\n",
    "x_squared, x_squared_der = s.run([scalar_squared, derivative[0]],\n",
    "                                 {my_scalar:x})\n",
    "\n",
    "plt.plot(x, x_squared,label=\"$x^2$\")\n",
    "plt.plot(x, x_squared_der, label=r\"$\\frac{dx^2}{dx}$\")\n",
    "plt.legend();"
   ]
  },
  {
   "cell_type": "markdown",
   "metadata": {},
   "source": [
    "# Why that rocks"
   ]
  },
  {
   "cell_type": "code",
   "execution_count": 25,
   "metadata": {
    "collapsed": true
   },
   "outputs": [],
   "source": [
    "my_vector = tf.placeholder('float32', [None])\n",
    "# Compute the gradient of the next weird function over my_scalar and my_vector\n",
    "# Warning! Trying to understand the meaning of that function may result in permanent brain damage\n",
    "weird_psychotic_function = tf.reduce_mean(\n",
    "    (my_vector+my_scalar)**(1+tf.nn.moments(my_vector,[0])[1]) + \n",
    "    1./ tf.atan(my_scalar))/(my_scalar**2 + 1) + 0.01*tf.sin(\n",
    "    2*my_scalar**1.5)*(tf.reduce_sum(my_vector)* my_scalar**2\n",
    "                      )*tf.exp((my_scalar-4)**2)/(\n",
    "    1+tf.exp((my_scalar-4)**2))*(1.-(tf.exp(-(my_scalar-4)**2)\n",
    "                                    )/(1+tf.exp(-(my_scalar-4)**2)))**2\n",
    "\n",
    "der_by_scalar = tf.gradients(weird_psychotic_function, my_scalar)\n",
    "der_by_vector = tf.gradients(weird_psychotic_function, my_vector)"
   ]
  },
  {
   "cell_type": "code",
   "execution_count": 26,
   "metadata": {},
   "outputs": [
    {
     "data": {
      "image/png": "[encoded data removed]",
      "text/plain": [
       "<matplotlib.figure.Figure at 0x7fc673916fd0>"
      ]
     },
     "metadata": {},
     "output_type": "display_data"
    }
   ],
   "source": [
    "# Plotting the derivative\n",
    "scalar_space = np.linspace(1, 7, 100)\n",
    "\n",
    "y = [s.run(weird_psychotic_function, {my_scalar:x, my_vector:[1, 2, 3]})\n",
    "     for x in scalar_space]\n",
    "\n",
    "plt.plot(scalar_space, y, label='function')\n",
    "\n",
    "y_der_by_scalar = [s.run(der_by_scalar,\n",
    "                         {my_scalar:x, my_vector:[1, 2, 3]})\n",
    "                   for x in scalar_space]\n",
    "\n",
    "plt.plot(scalar_space, y_der_by_scalar, label='derivative')\n",
    "plt.grid()\n",
    "plt.legend();"
   ]
  },
  {
   "cell_type": "markdown",
   "metadata": {},
   "source": [
    "# Almost done - optimizers\n",
    "\n",
    "While you can perform gradient descent by hand with automatic grads from above, tensorflow also has some optimization methods implemented for you. Recall momentum & rmsprop?"
   ]
  },
  {
   "cell_type": "code",
   "execution_count": 27,
   "metadata": {
    "collapsed": true
   },
   "outputs": [],
   "source": [
    "y_guess = tf.Variable(np.zeros(2, dtype='float32'))\n",
    "y_true = tf.range(1, 3, dtype='float32')\n",
    "loss = tf.reduce_mean((y_guess - y_true + tf.random_normal([2]))**2) \n",
    "#loss = tf.reduce_mean((y_guess - y_true)**2) \n",
    "optimizer = tf.train.MomentumOptimizer(0.01, 0.5).minimize(\n",
    "    loss, var_list=y_guess)"
   ]
  },
  {
   "cell_type": "code",
   "execution_count": 28,
   "metadata": {},
   "outputs": [
    {
     "data": {
      "image/png": "[encoded data removed]",
      "text/plain": [
       "<matplotlib.figure.Figure at 0x7fc672b1d588>"
      ]
     },
     "metadata": {},
     "output_type": "display_data"
    }
   ],
   "source": [
    "from matplotlib import animation, rc\n",
    "import matplotlib_utils\n",
    "from IPython.display import HTML, display_html\n",
    "\n",
    "fig, ax = plt.subplots()\n",
    "y_true_value = s.run(y_true)\n",
    "level_x = np.arange(0, 2, 0.02)\n",
    "level_y = np.arange(0, 3, 0.02)\n",
    "X, Y = np.meshgrid(level_x, level_y)\n",
    "Z = (X - y_true_value[0])**2 + (Y - y_true_value[1])**2\n",
    "ax.set_xlim(-0.02, 2)\n",
    "ax.set_ylim(-0.02, 3)\n",
    "s.run(tf.global_variables_initializer())\n",
    "ax.scatter(*s.run(y_true), c='red')\n",
    "contour = ax.contour(X, Y, Z, 10)\n",
    "ax.clabel(contour, inline=1, fontsize=10)\n",
    "line, = ax.plot([], [], lw=2)\n",
    "\n",
    "def init():\n",
    "    line.set_data([], [])\n",
    "    return (line,)\n",
    "\n",
    "guesses = [s.run(y_guess)]\n",
    "\n",
    "def animate(i):\n",
    "    s.run(optimizer)\n",
    "    guesses.append(s.run(y_guess))\n",
    "    line.set_data(*zip(*guesses))\n",
    "    return (line,)\n",
    "\n",
    "anim = animation.FuncAnimation(fig, animate, init_func=init,\n",
    "                               frames=400, interval=20, blit=True)"
   ]
  },
  {
   "cell_type": "code",
   "execution_count": 29,
   "metadata": {},
   "outputs": [
    {
     "data": {
      "text/html": [
       "<img src=\"data:image/jpeg;base64,/9j/4AAQSkZJRgABAQAAAQABAAD/2wBDAAIBAQEBAQIBAQECAgICAgQDAgICAgUEBAMEBgUGBgYFBgYGBwkIBgcJBwYGCAsICQoKCgoKBggLDAsKDAkKCgr/2wBDAQICAgICAgUDAwUKBwYHCgoKCgoKCgoKCgoKCgoKCgoKCgoKCgoKCgoKCgoKCgoKCgoKCgoKCgoKCgoKCgoKCgr/wAARCAEgAbADASIAAhEBAxEB/8QAHwAAAQUBAQEBAQEAAAAAAAAAAAECAwQFBgcICQoL/8QAtRAAAgEDAwIEAwUFBAQAAAF9AQIDAAQRBRIhMUEGE1FhByJxFDKBkaEII0KxwRVS0fAkM2JyggkKFhcYGRolJicoKSo0NTY3ODk6Q0RFRkdISUpTVFVWV1hZWmNkZWZnaGlqc3R1dnd4eXqDhIWGh4iJipKTlJWWl5iZmqKjpKWmp6ipqrKztLW2t7i5usLDxMXGx8jJytLT1NXW19jZ2uHi4%2BTl5ufo6erx8vP09fb3%2BPn6/8QAHwEAAwEBAQEBAQEBAQAAAAAAAAECAwQFBgcICQoL/8QAtREAAgECBAQDBAcFBAQAAQJ3AAECAxEEBSExBhJBUQdhcRMiMoEIFEKRobHBCSMzUvAVYnLRChYkNOEl8RcYGRomJygpKjU2Nzg5OkNERUZHSElKU1RVVldYWVpjZGVmZ2hpanN0dXZ3eHl6goOEhYaHiImKkpOUlZaXmJmaoqOkpaanqKmqsrO0tba3uLm6wsPExcbHyMnK0tPU1dbX2Nna4uPk5ebn6Onq8vP09fb3%2BPn6/9oADAMBAAIRAxEAPwD9/KKKKACiiigAooooAKKKKACiiigAooooAKKKKACiiigAooooAKKKKACiiigAooooAKKKKACiiigAooooAKKKKACiiigAooooAKKKKACiiigAooooAKKKKACiiigAooooAKKKKACiiigAooooAKKKKACiiigAorj/AAR%2B0J8A/iZ431n4Z/Dj44eD/EHiTw5JJH4h8P6J4ltbu%2B0t0kMTrcQRSNJAVkBQh1GGG088VZtfjb8Gb74p3PwLsvi54Ym8b2dgL288HRa/btqsFqQpE72gfzljIdPnK7fmXnkUAdPRRRQAUUUUAFFFFABRRRQAUUUUAFFFFABRRRQAUUUUAFFFFABRRRQAUUUUAFFFFABRRRQAUUUUAFFFFABRRRQAUUUUAFFFFABRRRQAUUUUAFFFFABRRRQAUUUUAFFFFABRRRQAUUUUAfIz%2BIrvxH/wUT0j40aVp3xZ1nw/4Z8I6/pWr2XiP4WX%2Bn6b4Ukmn0yMNpUo06CbVWu5bUtJiS%2BRUQyxvbxjbLy/g74f/EGL9qTw98N5fhR4oh17Qf2nfEnj3WvGcvhq6TSpvDt5oWp29tImpmP7NPIVvbDT/sqyGZPszMYxHCr19w0UAeIftr%2BO/wBp34WeFtF8bfAPx94D022ufF/hzw/qFj4v8B3uqyO%2Bq67Y6X9ojlttVsxGIkvDJ5ZR95jA3oDkWf8AhB/%2BChf/AEdB8Gf/AAw%2Brf8AzUUft4f8kQ0P/ss3w4/9TXRK9moA8Z/4Qf8A4KF/9HQfBn/ww%2Brf/NRVbWdA/bz8OaRdeIPEP7W3wQsLCyt3nvb29%2BB2qRQ28SAs0ju3ikKigAkkkAAZrtvhz8ddL%2BIPxC8S/DO58F65oGp%2BHTHIkWuxQx/2nZvJNEt5biOVy0JlglTLBW4UlQHUnwnxj4Y%2BMnh7SfE/w8%2BNujX%2BsaZ8RPFEvhqz8ZS%2BM3nuFS8eQ2EkOlRwrDawQsyQuY2EpCNOwKqSOulhHOfLN2emnVp9tbOyu/6dsZ1Uo3Svv/X3lHxB8b/27NYt/Cy/AD9pj4A%2BOLnxXqV3bWWPhRqtnboLWBp58y/8JHKfNCqAsRUFtwJKoC47H4Paz%2B3j8Zfh1p3xD0P9pT4RWkd4JYrqwvPgJqyz2V1DK8FxbSj/AISjiSKaOSNscbkOOKzfC3wc%2BK/xk%2BI914s8Z%2BCNU8Aatplhpl2de32sscviW1M0TXVtHHI3m272k8sT7wm%2BO5ZPvLlPb/gn8K5vhL4RuNG1LxGNX1PUtYvNV1nU0sVtUuLu5lMkjJCpYRoMgBdzHC5LMSSdcTTwtKlyxfvffvfqtNrbWflrpNKVWUrvb%2BvmeEeBx/wWR8RfFHWNF8XeKPgJ4e8H2FxPDpniCf4dapc32qbWxHMlnF4gKRRuAW/eThxkZTOcegf8IP8A8FC/%2BjoPgz/4YfVv/mor2aiuKclN3UUvS/6tm0U0tXc8Z/4Qf/goX/0dB8Gf/DD6t/8ANRR/wg//AAUL/wCjoPgz/wCGH1b/AOaivZqw/iF8T/ht8JPDsni/4qfEDRPDWlQ/63Ute1SGzgXjODJKyrn8amMZSdoq7K3PNf8AhB/%2BChf/AEdB8Gf/AAw%2Brf8AzUUf8IP/AMFC/wDo6D4M/wDhh9W/%2BaiuQn/4Kh/BjxncPpn7Lfwu%2BInxlulcx/afAPhOX%2BzEkzgB9SvDBaBf9pZH78HFNHiv/gqv8XOfD3wo%2BFXwe0%2BX5Wl8V65ceJtVjH98QWQgtVb2M7jPr1rs/s/ER/i2h/iaT%2B7WX/kpfJLrodj/AMIP/wAFC/8Ao6D4M/8Ahh9W/wDmorK8XH9tXwBpZ1vx5%2B2j8BNEsl%2B9eav8F9Stoh/wOTxUB%2BtYn/DB3xr%2BIH779or/AIKJfFfXc8PpvgZ7TwnYsvdStjGbgj63BODyTWt4R/4JZ/sB%2BE9UGv3H7NOh%2BItT6vqnjiWfX7h267i%2BoyTHOeeMY7Yo9lgYfHVcv8Mf1k1%2BQWgup4x4q/4KMP4T1I6Kf%2BCo37O2tXwyBZeD/gRrmuzE%2BgTTvEs5J7YxWb/w3d%2B3rr//ACSnwjrXi1H/AOPe8tP2O9a022l9CJdT8W2w2%2B/P0r7m8K%2BCvBvgTTRovgjwlpmjWa/dtNKsI7eIf8BjUD9K06Pa4CPw0pP1lb8Ix/ULw7HwPH8av%2BDgjxA4bwj%2BzN8I7OBz8k3jHRfsJx6lLTxNeMv0IzXffCy1/wCC7ev%2BI7T/AIW94p/ZT8N6I%2B77ZLo/hPxHqd9F8jbdsTalBE3z7QcyjAJPJAB%2BuqKieIpSjaNKK/8AAm/xl%2BgnJdjxn/hB/wDgoX/0dB8Gf/DD6t/81FH/AAg//BQv/o6D4M/%2BGH1b/wCaivZqK5STxn/hB/8AgoX/ANHQfBn/AMMPq3/zUUf8IP8A8FC/%2BjoPgz/4YfVv/mor2aigDxn/AIQf/goX/wBHQfBn/wAMPq3/AM1FH/CD/wDBQv8A6Og%2BDP8A4YfVv/mor2aigDxn/hB/%2BChf/R0HwZ/8MPq3/wA1FH/CD/8ABQvt%2B1B8Gf8Aww%2Brf/NRXs1FAHxJ4k1P/g4i8P7pdK0j9kfX0H3E0%2Bw8RW8jD3E96qg/8CNYI/aJ/wCC63hg%2Bd8Sv2XvBot1/wBZP4J8CQ6wf%2BAxyeMLaRv%2B%2BRX3zRXZHE0bWlRi/wDwJflJ/kVzLsfK/wCz98Sv%2BChPx%2B0zUr9/GnhvwRNpk8cU1j8Qf2YtX06WYspO6EjxY6TKMYLIxAJA71pfEvxF/wAFBvh74t8EeC7f9oL4M6he%2BNvEj6Xbr/wpTVYRaxRWNzeTXJ/4qZt4VLbbs%2BXLSKNwr6Wrzbx/%2BzPoHjv4y6D8dU%2BI/jDSdb8O288NhbafrKyaeVmiaKQtZ3EcsIYqeXRVf5R83XMU5Yd13Jq0bOy1lrZ27PfW/QFy3PBf2g/jh/wUO%2BCWpXmmaH8V/hH4kfQPDMniXxhJD8GdStk0nR42kDT5fxOTNKfJmKQqAWELfMOM60Hxz/aoufinb/CGL9rP4VnUrm7SyS7/AOGbde%2BwrfvaC8Wxa6/4SXyluTbETeUWB2%2B4xXb/ABj/AGSvHXxJ8U31xpHxXtLTR/Fvh6w0bx8l1ope9u7e1mkk3WsiSpHCZlkeGRWjZQrFkw2c8PqP7PH7SK6v4g8LaD4b06z0/TfFeu%2BL9B8S/wBqKf7Sv5bcppVsIBmSLySyrK78MLddmRIQnXTo4GpSScrO3e333XR9F038qSg0dT4Q179rv4gavqvh/wACftzfs%2Ba1qGhXAg1ux0r4O6hcTafISQEnRPFZaIkq2AwGcH0rf/4Qf/goX/0dB8Gf/DD6t/8ANRXF/sZeCtWfxvoXiLRPBHiDw54Z8GfCDTvCaQeJdBm0271HUzMJrl3imVXkEIiTE2NjyXc5RnBLH0f4l/ttfsqfBj4q2/wW%2BMHxs0fwr4gu7OO5s4vEbPZW1wjlgoS7mVbdnypygk3jIyBuGeethJKu6dFOVlfRXfntfyfW1yXHWyMz/hB/%2BChf/R0HwZ/8MPq3/wA1FH/CD/8ABQv/AKOg%2BDP/AIYfVv8A5qK9f0vVdM1zTodX0XUoLy0uYxJb3VrMskcqHoyspIYH1FT1x7EnjP8Awg//AAUL/wCjoPgz/wCGH1b/AOaivP8AwGP%2BCyGo/FLVfB/xL8UfATSfDkFvLNo3i/R/h1ql9HeYlVUhltpPEEMsEpRi5wHjGxhvPy5%2BpqKuM1FNOKd/XTzWv53Jaba1Pmf48eIv%2BCh/wV%2BHFx41sPjv8F9d1F7q3sdG0I/BrV7RtRvriVYbeBZB4jl2lpHUE7DhdzHhTV/4ieI/2wPhBo9pr3xY/ba%2BAnh2zvb2Ozgu9W%2BCmqQwtcPnam9/FIAzg8nA47V6B8VvgFqvxB%2BJ3hf4raX8TdStJfCt2bq28M30Edzo93N9nuIVmki2rKkyi5YrIkgA2qSjEDHC/tNQ/EnxB4m8NL4X%2BFfixvF2g3kEnhzWNKeCbQLk3Pl29/HeCQsUiSCSfJliRyozCxc7R10aVCqoQv3bezXZa6WVt9d3poZTnUhzO3a39I2bTwl/wUAv7WK/sP2qvgrPBPGskM0PwK1VkkQjIZSPFOCCDkEVJ/wg/wDwUL/6Og%2BDP/hh9W/%2BaivNdS%2BMuueHtf0z4uRfEy50Hw1a%2BK9StLHwjZ20MenQeGNKW4TULuaLZv377d3VwRtCRqnDkN7F8G/j74n%2BIXjWbwN47%2BFzeFr2Xw3a6/pVrLq4uZ3sppHj23MYjX7NOrpgx5cfNw5KsqzVwVWnHmWq/L/O11e2g4V4SdjjNS8Y/tm/CX40/Crw18Ufi38MPEvh/wAeeNbvQdTtNA%2BF2o6ReW4j8P6vqcc0VxNrl2gPm6dGjK0JysjYKkA19A14z%2B1B/wAlv/Zx/wCyzX3/AKhXiivZq4zYKKKKACiiigAooooAKKKKACiiigDxn9vD/kiGh/8AZZvhx/6muiV0/gH9pT4cfFD4t%2BIvhB4Dg1jUbnwoGj17Wo9HlXS7a8V1VrEXTAJJcru3MibtoByQRiuY/bw/5Ihof/ZZvhx/6muiV7KiJGCI0CgkkgDHJ5Jq4umovmV301tb/P00Jak2rM8u%2BLvwe%2BKHi/41eDviZ8MfGOkeHP7Ds72013Ubqwe8ub%2BynMTGzSHckajfEsgmdm2OgxGwZs9XafB34fJ4nsPHus%2BHrbV/EemWrW9l4i1W2jlvIUZmLBH2gR53EHYFyMA8AV09FW69VxUb2sraaaeb3e//AABKnFNvuFVtY1nSPD2lXOva/qttY2NnA015e3k6xRQRqMs7uxAVQASSTgAVT8bjxq3hHUV%2BHEulprptWGlPrUUj2izY%2BUyrGyuyDuFZSemR1rxI634q/ae/ZI8b/C/4i32k6V430d7vw94oxGYLAalAUeGULIzMltcxtbTKCzER3O3cWXNOlR9ouZvS6T7q/W3b9TRK50PxC/a50a2t/C6/s/aJp3xJufFUeoXGm/2P4khjtpYLKBZpglwFkR52EkYjh%2BXduLFkVGYeLeI/2k/G2seIvHnx48DfE3XI38H2eka/o3gW/mt4dP1fwsSseoRLGU3C/W5ttShLl2MU0duufLlUHV8I/Br4i/Gf40%2BIfGll4M1/4Z3UA0vV5dQ1PTY2iTxVbyPb3Eluqybby2ubGOGOZl2hl2bX3l9nr/gL9kj4Z6b4G0zw78X/AA5oHjjU7DXb3WhqeqeG4hFDfXVzJcubaGQym3iV5SI497lAifMSoNelfA4RWau9L7N66vvHbTRp63NPcid/418PXXjjwNqfhfTfFeqaDNqumy28GtaQUjvLBpEKrPF5qMqyoSGG9CARyp6V4z8Pf%2BCZ37IngzxFH498YeA7r4ieK05bxb8UtVl8QX5bsym7LRwkdvJjjA7CvfaK82nicRRg405OKe9tPxWvyvbyM1KSWgy3t4LSBLW1gSOKNAsccahVVQMAADoBT6KKwEFFFc/8SPiv8Lfg34bk8ZfF34k6B4V0iLPm6p4j1iCxt04zzJMyqPzpqMpOyV2NJydktToKK%2BVbz/gsN%2Byj4lvJdI/Zo8N/Eb4330LlJYvhD4AvNTtUYcfNfyrDYgZ4z5%2BB37UwftEf8FW/iv8Au/hN/wAE/PB3w9tZPmg1f4x/FJJZdnYtY6NDclWxztadT2OOtdX1HEr40o/4mo/g3f8AA6fqWIXxpR/xNL8G7/gfVtFfKY/Z0/4KwfEX/S/iR/wUZ8HeBkk4l0v4VfByGTYO4W61i5ujn38ketL/AMOsh4k/efF//goR%2B0x4saTm5th8UTo1rJ6jydIgtcL/ALJJ%2BtH1fDx%2BKsvkpP8ASKD2FCPxVV8lJ/okfVTukal3YKoGSScACuR8S/tBfAXwYzJ4w%2BN3hDSSn3xqXiW1gK/XfIMV4Kn/AARR/wCCal2wm8Xfs%2BXXimbOZJ/GfjjWtZaRvUi8vJF/IAV13hr/AIJX/wDBNPwkqjRP2BvhAGT7st18PdPuJB/wOWJm/WjlwC%2B1J/8AbsV%2BcmHLgl9qT%2BSX5yZtar/wUO/YB0Jimt/ty/B6zK/eF18TNKjI/wC%2BrgVjzf8ABUv/AIJoQNtf/goJ8Fyf9j4m6W38p67DSv2Nf2QdCULon7Knw2swv3Ra%2BBtPjx/3zCK2If2d/wBn%2B3XZB8DPByD0TwzaD%2BUdF8v7T/8AJP8AIP8AYe0//Jf8jzq2/wCCon/BNS7YJD/wUE%2BCuT0D/FDSl/8AQrgVvaN%2B3p%2Bwz4iYJ4f/AGz/AIT3xb7os/iLpkuf%2B%2BZzXSXX7N/7O96uy9%2BAnguYHqJfC1ow/WOsHWP2HP2KfEKlNf8A2PvhbfBvvC8%2BH%2Bmy5/76hNH/AAn/AN//AMkD/Yf7/wD5Kdn4X%2BK3wu8blV8F/EnQNXLfdGl6xBcZ%2Bnlsa36%2BdPFH/BIn/gl74vDDVv2B/hVFu6nS/BtrYn8DbIhFYB/4Iv8A7BGknz/hr4P8beBrkf6u68DfFnxDphj/AN1Ir7yx/wB8UcmAe05L1in%2BUg5cE9pyXrFP8pH1VRXyp/w7X%2BLPg7/Svgj/AMFR/wBojQrhf9VD4n1/TvE9qvplNTspZG/GWk/4Vb/wWO%2BGf/Im/tY/Bf4oQdfI%2BIPw3vNBuSPT7Rpd1LGD/tfZ8f7NP6tRl8FaPzUo/mmvxD6vRl8NVfNSj%2Baa/E%2BrKK%2BUT%2B2h%2B338Kv8Ak4f/AIJda/qljD8s%2Bu/BXx3p/iFXP95bK7%2BxXQHsFc8dzgVreB/%2BCvP7BfiXxDD4G8efF24%2BGfiWY7T4Z%2BL2gXnhe7V%2BmwHUY4opGyQP3bvycUngcVa8Y8y/utS/Jt/gDweJteMeZf3Wpfk2/wAD6YoqtpGsaR4g0yDW9B1W2vrK5jEltd2c6yxSoejK6khh7g1Zrk2OXYKzfFng3wh4%2B0Kfwt468K6brWmXK4udO1axjuYJR6NHICrfiK0qKabi7oD5r1P/AIJe/A3wrqVx4o/ZU8aeMPglrM8hmkk%2BHGuNDps8nUedpdwJbKRAf4REv1FV28af8FL/ANnH/kffh14Z%2BPfhuD7%2BseCGXQPEiRjlnfT7l2tLlsdFhmiJ7L2P05RXasfWnpWSqL%2B9q/8AwJWl%2BLL5299Txv4E/t6/s0fH/wARv8PNA8ZT6B40gH%2Bm/D/xrp8mka5btjJH2S5CtKB3eLzE/wBqvZK4T48fsxfAD9p3w4nhb48/CjSPEltCd1nLfW%2BLmyf/AJ6W9whWW3f/AG43VvevFn%2BCH7cf7JP%2Bn/syfFR/i/4Og5b4a/FHVNmr28Y/g0/W9uWPQLHeK6gDHmjrR7LCYj%2BFLkl2lt8p/wDySXqFoy20PqSivHP2eP24fgz%2B0D4hufhkU1Twd8QdNi36x8N/Gtl9g1i1UdZEjYlbqHjImgaSMgg5GcV7HXLVo1aE%2BSorP%2BvvXmm15ktNOzPOPHX7K3wb8WeG/GGmaH4K0nQNT8a2jRazrul6TCtxNIWDrLJ8uJT5gV2DcOR82au/CL4O6j4C1zXPH3jbxmfEfirxILWPVdXWw%2ByQrb2yOsFtBAHfyokaWeTBdiXnkJY547qiqeIrOm4OV0/%2BB13totPJGfs4KV7HjH7TrF/jb%2BzkShX/AIvPfjB9vBXijmvZ68Z/ag/5Lf8As4/9lmvv/UK8UV7NWJYUUUUAFFFFABRRRQAUUUUAeD%2BFPjN%2B0Fof7Z9v%2Bzp8QvEHgjxJpes%2BEdV8RLF4V8OXlje%2BFbaC9toLFb6Wa9uI7oXQmuFR1jtSXsZiiSKshiwvhX%2B1P8Xdd/bS8V/A34seJtE8M6Lb%2BJ7nTfAGgX/wn1u0ufE9tFpdvdm4tdenuxp93IrtdlreCBpBHauSAEZx0Xwm/YlvPg58QvG/xG8OftZfE27uvH2uT6rrcGrW3h2cLO7IIljm/sgXHlW8KLbwxPK6RxcBS3z1v337LUHiL45aL8a/Hvxv8a%2BIofC2tXOr%2BEfB2pHTI9J0W%2Bms7iyaeL7NZRXUxW2u7qNBc3EyqJ2IG5UZQDjP%2BChfxc%2BFHhrwf4M%2BFHiP4neHtP8AFPiD4w/D2XQfDV7rUEWoakkfjPRmka3t2cSTBVVixRSAFJOMGvoevGf28P8AkiGh/wDZZvhx/wCprolezUAFcT8ff2h/hD%2BzH8PZviZ8Z/F8OlaakqwWsexpbm/uX4jtraFAXuJnPCxoCx5PQEjH/an/AGpPBn7LXge11zV9Ivde8Ra7fLpvgvwXowD6h4h1Fx8ltAvYD7zyt8kaAs3YHhP2dv2RfGep/EGD9rX9tPVbLxL8UXiYaDpFsS%2Bj%2BBbZ%2BtppyNw05GBLeN%2B8kIwpVOG7KOHgqftq7tDolvJ9l2S6yei2V3oqUVa72PRP2afih8YvjD4JuvHvxb%2BBs3w%2BjvdRZvDWhanqaz6kdO2J5ct9Gi7LWdm3kwB3KKVViGBFJo37LXwo0z40678ftSt9Q1bxJrwgSWTVdQaS1tYoVVYo4bVdsClduRKyNNyQZCOK9GorF1pKcnT91S0sr7dtdenz/AV9dAooorEQUUV4H%2B1B/wAFAfh78BfGlt8Bfhr4M1b4o/F/VbYTaR8L/BpRrtIjgC6v53Pk6ZaZK5nnIyD8iuQRWlKlUrT5YK7/AK1fRLzdkaU6VStLlgrv%2Bt%2By82e9SyxQRNNNIqIilndjgKB1JPYV8w%2BP/wDgqp8FLjxfe/CX9kbwN4l%2BP3jayk8m70n4YWyT6bpsx6LfavKyWNoM5BBlZ1I5SsC0/YK%2BP/7YEi%2BKf%2BCnXxm%2B3aJMwktvgR8Nr%2Bew8M2y9Vj1G6UpdazIMKWDtHb7gcRFTX1L8Pfhx8PvhL4Qsvh/8LfA%2BkeHNC06Ly7DR9D06O0tbdfRIolVV/AV08uEofE%2BeXZaR%2B/d/JJeZvy4Wh8T532Wkfv3fySXmfMq/CH/AIKp/tN/6R8Z/wBofwz8AvDVx97wp8IrJdZ19om6xzazqEfkQyD%2B9bWp9nrovht/wSX/AGGvAviSP4g%2BMfhTN8S/Fy8yeMvi7q8/ifUXfOd6tftJHCfTyUjA7CvpKipljcRblg%2BRdo6fe1q/nITxle1oPlXaOn4rV/NkVlZWWm2cWn6daRW9vCgSGCCMIkagYCqo4AA7CpaKK5DlCiiigAooooAKKKKACiiigAooooAKKKKACsjxx8PvAXxO8OzeEPiV4I0jxDpNwMXGl65psV3by/70cqsrfiK16Kabi7oabTuj5W1n/gkN%2BzT4Z1OfxV%2ByV4t8cfAPXJpDK9x8JPE0llp88nUedpUwlsJUz1XyFyO44Ipv4k/4K0/stjd4r8JeDf2lvC0H%2Bs1DwwE8K%2BLI4%2BpdrSZ30%2B8YD%2BGOW3Zj0XkCvrWiutY2tLSraa/vav8A8C0l%2BLOlYyrLSraa/vav79Jfizwn9nX/AIKOfst/tH%2BLX%2BFWk%2BKdQ8I/EG3TN98MviJpUmieILfgk4tLjBuFwM%2BZA0seP4q92rzr9o79kr9nD9rfwmngv9or4QaP4otIH8ywnvYCl3p8uQRLa3MZWa1kBA%2BeJ0b3rwGb4c/8FBP2BR/afwV8Wap%2B0Z8LLUZuPAfjDUI08aaNAOT/AGfqb7Y9VVRki3u9sxCqqzMTT9lhq/8ACfLLtJ6fKWn3SS9R%2Bzw9f%2BG%2BV9pPT5S/%2BSS9T7DorzL9lz9r/wCA/wC2F4MuPF/wU8WvcTaZc/ZPEfh7VLR7PVtBvBndaX1nKBLbSqQwwww20lSy816bXLOnOlNxmrNdGc04TpycZKzQUUUVBJ5z%2B0Z%2Byj8Dv2p/D1tonxd8ICe702Xz9B8Q6dcNaarotwMFZ7O7iIlgcEA/Kdp2gMGHFeKj42/tJfsAzppH7W9/efEf4So4js/jJp2n/wDE18Px5wq65aQjEsQHH26BccZljUtur6wplxb293bva3UCSxSoUkjkUMrqRggg8EEdq66OLcIeyqrmh2fTzi94v8H1T3KUrKz2KvhvxL4d8Y6BZeK/CWu2eqaXqNslxp%2Bo6fcrNBcwuMrJG6Eq6kEEEEg1dr5I8Y/CT4if8E5NevfjV%2Byv4bvtf%2BEF3cveePvg5YL5kuhhjum1TQkP3ccvLYjCONxj2tgD6a%2BGPxN8A/GbwBpPxT%2BF3im01vw/rlkl1pWqWUm6OeJu47gg5BUgMrAqQCCKWIw6pxVSm%2BaD2fVPtJdH%2BDWqdtiUbarY82/ag/5Lf%2Bzj/wBlmvv/AFCvFFezV4z%2B1B/yW/8AZx/7LNff%2BoV4or2auUkKKKKACiiigAooooAKKKKACiiigDxn9vD/AJIhof8A2Wb4cf8Aqa6JXoXxh%2BLfgP4D/C7XvjH8T9cTTtA8OabLfapduMlY0GdqjqzscKqjlmZVHJFee/t4f8kQ0P8A7LN8OP8A1NdErg/2h7YftXfts%2BDv2S5P3/gz4c2Nv4%2B%2BJUA5ivrzzmj0XTpexXzYp7x42BDC2iz1rpwtGNar7%2BkUm5ei3t5vRLzfkVFXepe/Y4%2BC3jz4i%2BNLj9vT9qPQXtvHXiayMPgrwrd/Mvgbw%2B53RWaKeBeTLtkuZcBizCIbVQg/SlFFTiK8sRU5notklsktkvJfjq3q2KTcmFFFFYCCiivnH/goV%2B0B8UPCGmeE/wBlX9mPUYrb4t/GPUZtL8MalJF5ieG9OhQPqWuyp0ZbWFhsUn555YVw2SK1o0pV6ihHr9yW7b8ktTSlSlWqKC/4ZdW/JLU539oD9qD42/tFfGTVf2I/%2BCf2r21hq2iMsPxY%2BMdzai5sPA6uM/YrWM/JeauyHIiJ8uAENLydo9e/ZT/Y7%2BCH7HXgq48KfCXRLmW/1a5%2B2eKfFuuXRvNZ8R3xyXu7%2B7f57iViWPOFXcQiqvFaX7L/AOzR8Lf2Rvgro/wM%2BEemSxaZpaM9ze3kvm3eqXkh33F9dSnma4mkLO7nqTgYAAHoFbVq8eX2VHSH4yfd/otl5u7Nq1ePL7KlpD8Zeb/RbLzd2FFFFchyhRRRQAUUUUAFFFFABRRRQAUUUUAFFFFABRRRQAUUUUAFFFFABRRRQAUUUUAfPH7WH7BenfF/xlB%2B0r%2Bzv42f4ZfHDRbby9H8faXbhotVhXBGnavbDC6hZNtA2v8AvIsBo2UjBt/saftoX/x31XXPgJ8efAyeA/jV4HijPjPwS1yZILm3Y7YtW0yVsG60%2BYj5XHzRMfLkAYAt75Xzz%2B31%2Byj4t%2BMugaP8ff2c7230b43fDCSTUvh1rcnyx34I/wBI0W8OR5lleIDE4JGxykikFDntpVY14qjWf%2BGX8vk/7vdfZ3XVPspVY1oqlVfpL%2BXyf93y6brqn9DUV5t%2ByJ%2B0x4R/a%2B/Z48N/H7wfp9xp6a1asup6LejFzpGoQu0N3YzggESwTxyRNkDOzI4Ir0muScJ05uElZrRnLOEqc3GSs1oFFFFSSFfI/iuw/wCHa3x9X4m%2BHl%2Bz/Aj4na/HB4y0teLfwT4huXCRapEOkVldSFY514WOVkkBAZlr64rB%2BKHw08GfGT4c658KPiLoseo6F4i0ubT9VspRxLBKhRgD/C2DkMOQQCOQK6sLXVGbjNXhLSS8u681un302bKi7PXY83/ag/5Ld%2Bzj/wBlmvv/AFCvFFezV8vz/DTx98G7X9kv4U/Ez4jDxbq/h74qXthJ4iNoYXvYYvBnipYGkUsxMohEau%2BfndWbA3YH1BWFSMYTcYu6T37%2BfzE9GFFFFQIKKKKACiiigAooooA5DwL%2B0H8A/ih4y1n4dfDT43%2BEPEXiHw67J4g0LQvEtrd3mmMrmNluIIpGeEhwVIcDDAjrVi1%2BNvwZvvinc/Auy%2BLnhibxvZ2AvbzwdFr9u2qwWpCkTvaB/OWMh0%2Bcrt%2BZeeRXzX8NfivpnxY/bf1b4p%2BLPhJ8RfCWk/CzSda8L%2BBdNuPg14hh/tr7VeWZ1HVmuhYfZ3gkltIEtYIpGZ41muXB3xiHmfB3w/8AiDF%2B1J4e%2BG8vwo8UQ69oP7TviTx7rXjOXw1dJpU3h280LU7e2kTUzH9mnkK3thp/2VZDMn2ZmMYjhV6APe/28P8AkiGh/wDZZvhx/wCprolch/wTui/4TbxD8c/2ir8ebd%2BMvjTqthaXX97TNHCaVaoP9kG2nce8pq9/wUL034rz%2BD/Bmo%2BHPGnh618LQ/GH4ejXtGvfDE9xqF458Z6N5bW94t7HHbBW2lg9tMWAIBTIIr/8EsZo4v2X9R8OvbJDeaL8UvGVhqUSFjtuE8QXzNncSdxDqx578ADArto6YGs11cF8ryf5pFr4H8j6PoooriICiiigAr5L/ZFs2%2BOv/BRL9of9qbWWFxbeCL7T/hT4I3jmzhtLaHUdWK/9db29iUt1ItFGeMD60r5U/wCCW7LYah%2B0l4Uu/lv9O/al8VS3cbcNsuks7yByPQwzx4P%2Bz7V2Yf3cNWkt7RXyctfySOqh7uHqyW9kvk5a/kkfVdFFFcZyhRRRQAUUUUAFFFFABRRRQAV8KeK/2nf26de/a/139mnUPi/4G%2BFt%2BmoN/wAIBp%2BqeD7i7g8U2h3NG63bMy7ygUOBsIYlVXcpA%2BnP2yf2jT%2ByZ%2Bzf4j%2BP48INrp0FbYLpgvBbiVp7qK3UmTa20BpQThSTjHGcjifF3wT%2BBX7fvwI%2BHXx6%2BMWkXnhzUG8PWmt6Vq2ja%2B9pdaR9rt45ZIVuQF3JyBll/hyMZNfQZP7LCU3icVSUqU24KXKpuM0lK6g3ro0pd0/dakj5zOva4yosLharjVglUceZwUoNuNnNLR3TcbbNe8nFnkF7/wAFYvFn7L/xSufgV%2B214P0DWdbQwrZ6n8Gr1b6MOxw0Vza3MyzQSjKHaeWDfKhGCfp/4HftQfB79qLwTfeJ/wBn/wAd2WqT2gaK4s7yGSGaxucHalzA4WRBuHXGGw20nFfLf7Tv/BIrwHd/BXT3/Y18N2Q%2BIEfiaDVT448S%2BKLtr2VPnkeZZ0JVpTIIiMrtwXYYfDV8ef8ABTXQf2kf2hPjFceGPC/7IEEXxQ8PaWx%2BJFt8PbiXV49a06U2zWczxQfN5kblw6upkZXiJysY29%2BbU%2BG55TPHYdSTppufLG7XK4rm9gm5cjvryTco7uLTaWnB2A4pzbizD5HXqU4rETUacqtSNOL5ozlyfWaijSVRcto%2B1jCEm0ueLs39ieIv2rv29P8Agn2g8bft6yeD/Hvg7XNaWC3vfBV9DbX%2BlFldvKgt5Ybc3SgAcMSygEtJivXPgF/wVY/Yk/aFvrPQPD3xWGha1fYEOieK7VrGXeSAIxKc27uScBElZiegNfLv/BO//gkbN8Vf2fND8X/8FBLHxkmqWuo3h8PeBbrXpbe2sNNkiiVPNgA823mMiO5VHThYg6nBFe/ftFf8Ejf2YfiD%2BzbL8HPgf8NtB8I61p9z9s8P680Eks/n7izRXNyxa4mhdWZCGdtnyFR%2B7VamljeD83wtGpUU4VKlryjT9lGKezlTlKWq0vazad973zzjIuNuE88xeAhUo16eHlKKXtvb87ja/JXhGCabbSfvRTTSbVmfTPjr4geBfhh4Yn8a/EfxhpmhaPalBc6nq96lvBEXYIgZ3IUEswUc8kgV51%2B0N%2B3b%2Byl%2BytrFh4d%2BOfxbg0jUdUsDe2FhDp11eSy2%2B4qJCLaKTYrMGCl9oYo2CdrY/E79oP45/tGQ6Hd/se/Efx9NeeGvAviuZbbQ5GW5jsb22863ZYrmWMXDQrvmVI3cqFI4JANfQnwi039rf/gsOl74Z%2BIH7SPwzhOl3EhGj6r4Ws11uytN8LmWzMVmJRb7ykZK3CkldsmQwLe9/qFQwNKOKx1dex1cnHS0Xbka92erveSemyUtbnyH/EQsRj608JgMO/baKKlZ3kr86fvw0VrRabe7cdLH6AfsG/t9p%2B2xpGueIbv4R3Pg2ws9UW18OXOo6ss39uKRKXMQ8tPnjEa71QyBS/3uDX0TX8/fxl%2BAPxj/AGRPiFBp/iTxDr%2BieNtC1p00y4tdMuIYWs4FLJqNleocyRgDJCqrJznkMB%2Bgn/BHD/gobrvxklvP2XfjHr%2Bt%2BIfFFo11qGjeKr2Zrhb2zDLuikZlEiFScqXzuD7cqVVW5uIuD6dDDSzHLpKVHR8qu7R0XMpNvmXV9dXZWVl1cNcaVMRioZZmcHGvquZ2V5avlcUlyvoumiu7tN/oBRRRX56fpAUUUUAFFFFABRRRQB8m/swWq/AD/gpl8df2a9PHlaB8QNC0r4reHrKP/V215cSS6brGPeS4tbWcj%2B9cMf4q%2Bsq%2BVJ2XVP8Agt7afYTu/sT9le5XUyv8JvfElubcN7kWNyQPrX1XXZjNZwk93CLfrZr8kjqxesoSe7jFv7mvySCiiiuM5QooooA8Z/ag/wCS3/s4/wDZZr7/ANQrxRXs1eM/tQf8lv8A2cf%2ByzX3/qFeKK9moAKKKKACiiigAooooAKKKKACiiigDxn9vD/kiGh/9lm%2BHH/qa6JXGfsnTD4N/tn/AB2/Zk1H91Dr%2BsW3xL8Jh%2Btza6jEltqG32jv7ViR/wBPSn%2BKuz/bw/5Ihof/AGWb4cf%2Bprolcv8At%2B%2BBPGnhI%2BFP23vg3oM%2BpeK/hDcz3Gq6LZr%2B91/w1cKq6nYKP45QiJcwg5xLbgAEvXbgmpylQk7c6sv8Sd4/jp/28XDXTufR1FYnw2%2BI3gv4veANH%2BKPw58QQaroWv6dFfaVqFs2UngkUMreoODgg8ggggEEVt1xyjKMnFqzRGwUUUUgCvkW%2Bvx%2Bx/8A8FU5dX1pvs/gj9p/RbS0hvpOIrPxrpEDRxwMeFQ3umhQmeXk0/aMlhX11Xm37Wf7MPgL9r/4Gav8EPH1zdWSXhiutG13TZPLvdD1KBxLaahayDmOeGVVdSDzgqcqzA9OGqwpzcZ/DJWf%2BfyaT%2B9dTow9SEJuM/hkrP8Az%2BTSf39z0mivmn9ib9rnx3r/AIpvv2L/ANsWC10b45eDbISXTRJ5Vl420tTsj17TM4DxyYHnQr81vLuRlUba%2BlqzrUZ0KnLL/gNdGu6f9a3Szq0p0Z8sv%2BA10a8n/XVBRRRWRmFFFFABRRRQB47%2B1t%2B298Hf2Lo/DN78ZLLW/sXifUJrWG/0rTxPHZmNFZnm%2BYED5hgKGY4YhTtNeF/G3/guJ%2Byv4a0230f9n2e48ceINTYw2JubeTSdNs5SVVGup71YiiZbJKgqAjbnjGDX2R4kk8OWmi3GreLPsi2FhE11cz3yr5UCRqWaRi3ChVBOewzXw18Av2O/gF/wUM%2BKnjj9sj4zfB6JvB%2Brakmm/DfSoEl0sXllbfK%2BqTfZWieZ5nyFMhJCqVIIVNv1OS08glh5V8fSnanu1JWlKT92PLZO9rt2mtE27XPks8qcRRxMcPl9aF6uylB3hGK96XNdq17JXg9ZJK9ix8K/gZ8Yf2/fCXl/F/8A4KCaN478D2nimOTxp4P8I%2BEYY7Rr63kSc6dFfgq81qA0ZEoDBxgqTw9dR8Sf%2BCGv7Cvjy8hu9A07xV4SEQfzIPDviDfHMWOcsL2O4K45wEKjnoeMfUnw1%2BFfw2%2BDnhaLwR8KfAuleHtJhculhpFkkEZcgAuwUDc5AGWOWOBkmt%2BsK3EmZU8Q3gqsqVNN8qiox37qC5W/OzdrK%2Bl300eGMsq4ZLH0o1ajS5pScp7X0Tm%2BZLyule7trZfmt8Ydf/as/wCCNHwZ1/wH8Prix8V/DvxDqZtvh54h1O%2BX7d4ZvJkklkWWDygs%2BQkjrtxHvXccbzGd39hn/gop/wAEz/gF4Au9GuPiN4ns/EWrXH27xb4r8W%2BGria91%2B%2BbJeV2tPtBCgs21CcKCeWZmZvRv2o/%2BCXfxg/aJ%2BMvib4l6N%2B3d4l8O6T4msVsrjwq2jSXdrFa%2BQImtwq3kUbRHLsFMeQzlsliXPnngj/g3m%2BBOnxAfEf4/eLNWcL8zaLZWunqT9JVuDj2z%2BNfUxx3CuMyu2YV37WbUpulGUXJ2Xxpx5W4%2BTUXK8rXPkpZfxdgs1vluHXsYJxgqsoyUVd35GpcyUvNOUY2hzcuh7z8Jf8Agq/%2Bxb8bvi3Y/Bn4e%2BO9TudV1W6NvpU8%2BgXMNvdybSwCs6hlyAfvqtfSFeM/Ab/gnz%2Bx/wDs2albeIPhV8FNNt9YtMmDXNQZ7y8jYgqWSWdmMRIJB8vbwSOhr2avhs0llLxC/s9TULa87TbffTZeR99lUc4WHf8AaUoObenImkl213d%2Buh8o/tK/8Ecv2Rv2lPiJc/FO%2BXX/AAvrGp3T3OtyeGL6JItRmcgtM8c8UqpISMlowoZmZmDMxavWv2d/2Kv2Zv2WraFvg38K9O0/Uo7AWk%2BvzR%2BdqFynylvMnb5vnZQzKu1cgYUAAD1SinWznNsRhY4apXk6a0Ubu1u3mvJtoVDI8nw2LliqWHgqktXJRV79/J92kmzO8WeEPC/jvw9eeE/GWg2upabqFrLbXtneQh0likQo6EHsysyn2Jrgfgb%2Bxf8Asu/s2aqdf%2BCXwa0rQdQawNk%2BowmWW4aAsrFDLK7uclVJJOTtGScV6fRXHDFYmnRlShNqMt0m0n6q9n8zsqYTC1a0a06cXOOzaTa9Ha6%2BTCiiisDoCiiigAooooAKg1XVNM0PTLnW9a1CC0s7OB57u7uZQkcMSKWZ3Y8KoAJJPAAqeviv4/eN9Y/4KffFbU/2HvgPrFzH8HvDepC3/aA%2BImnTFItUZCGbwpp8y/6ySTgXkqHEMRMW7fIVrfD0HWlq7RWrfZf5vZLq/nbehRdaWrtFat9l/n0S6v526H/gmVDqXx28T/FT/go1rtjNBb/GTX7e1%2BHsF1EUePwhpSSW2nTbWG6M3Uj3d4V7rcRnpivrOquhaFovhfRLPw14c0q3sNO060jtbCxtIRHFbwxqESNFXhVVQAAOAABVqliKvt6zmlZbJdktEvuX33FXq%2B2quSVl0XZLRL7l%2BYUUUViYhRRXkX7af7Sdz%2BzX8HW1Twfo66z458S30ehfDnw0py%2Bq61cZWBCO0UfM0rEgLFE5JHFaUaU69VU4LV/193Vvok2NJt2RW/ag/wCS3/s4/wDZZr7/ANQrxRXs1fL0/wAKPEnwPtf2S/hf4z%2BIOpeK9b0v4qXo1vxFq15JPNf3sngzxVLPIGkJZY/NdwidEjCIMBRX1DSqRjGbUXdJ79/P5g9GFFFFQIKKKKACiiigAooooAKK8X/Y5%2BLvxw%2BJV18UvB3x%2BvfCl3rPw/8AiY3h62vvB%2Bi3Nha3Fq2jaVqSForm6uXMitqDxlw4VxGrBEyRXJfsT/tT/F340fELxH4I%2BPfibRNH121udYl0n4fn4T634f1BNNtdWktIb%2BO%2B1G7kh1eBofsrPLaQrGr3UeWXeqkA6/8Abw/5Ihof/ZZvhx/6muiV7NXzx/wUL%2BLnwo8NeD/Bnwo8R/E7w9p/inxB8Yfh7LoPhq91qCLUNSSPxnozSNb27OJJgqqxYopACknGDX0PQB8hX8l5/wAEufinea8LaV/2cvG%2BstcagIYyy/DbWbiT55to%2B5pVzI2Wx8tvM5OFR%2BfriyvbPUrOHUdOu4ri3uIlkgngkDpIjDKsrDgggggjgg1HrWi6P4k0e68PeIdKtr%2BwvrZ7e9sryBZYbiJ1KvG6MCGVlJBBGCDivk5vC/xj/wCCY93Jf/DLQNZ8f/s%2BNK0l34Tsw93rfw%2BUklpLFSS99pq5Ja3yZYB8yb1DLXo%2B7mC1dqv4T%2BfSfrpLupfFfx%2Bv5/8ABPrqiud%2BFPxb%2BGnxy8Baf8UPhD4207xD4f1WHzLHVNMuBJHIO4PdWB4ZGAZSCGAIIroq4JRlCTjJWaI2CiiipA8k/a5/Y2%2BF37YHhHT9N8XXeo6D4m8N3h1DwN4%2B8N3H2fWPDN/jAuLWYDgEACSJsxyr8rqcAjxzwP8At0/Fj9kjxLY/An/gqRYWOkC5uFs/Cvx80a1MXhbxKScRpfdRot8w%2B9FKfIdg5ikxha%2BvqzvFvhHwp4%2B8M33gvx14Z0/WdH1O2a31LStVs0uLa6iYYaOSOQFXU9wQQa6qWISh7KquaPTuv8L/ADT0fk9Tpp10oezqrmj%2BK9H%2Baej8nqXbW6tb61jvbK5jmhmjDwzROGV1IyGBHBBHIIqSvkKT9gr9oX9kK5k8Qf8ABMj422%2Bm%2BHxIZZ/gX8TZri%2B8Mtk5ZdOulLXejk5YhEMsG5h%2B6AFafhL/AIKr/DXwb4htPhr%2B3f8AC3xB%2Bz34rupRBbv452TeHdRl/wCnLXYM2co6cStDJzygqng3Nc1B867L4l6x3%2Ba5kU8K5q9B867faXrHf5q6Pqqiq%2Bk6vpOv6Zb63oWp297ZXUSy2t3aTrJFMhGQyOpIZSOQQcGvC/2jP%2BChfwU%2BDEk3gLwBfDx/8RbjdDo3gPwmxvLqa5wcLOYQwt1BwWLfMFyQpqMLg8VjavsqEHJ/l5t7JLq20l3PLxeNwuApOpiJqK892%2ByW7fZJNvse%2BVm6n4x8I6JObbWfFWm2kgGTHdX0cbfkxFfBvwf/AOCXP7UPxZ%2BKJ%2BIn7ePxwvda8M3f2qceCIPG2p3MtqZSWjh80GNI1jJwRGSpC4GM5HvOl/8ABJn/AIJ66RCIbf8AZusJecl7zWL%2BdifUmScmvVxOAyTBz5J4p1HbX2cE4p9rylG9vJW7M8fDZhnuNp%2B0hhFTV9FUm1JrvyxjKyfm790eY/t9/wDBUj9nTwponxB/ZQ8P3d/qniW/8DajajWLMQHS7a5nsJGWFp2mDPJsZcCNHG90jzu3hPoL9hTUfCGp/sa/DCXwL4gg1TTYPBOn2qXtufleWGBYZgR/CyypIrKeVZSDyKyNc/4J1fsdah8K9a%2BE3h/4F%2BH9Attb097SfVtI0e2/tGFW/jjuJo5GDqcFS27BGQK8t%2BBv/BOv9pX9k3xfY6b%2Bzn%2B29qC/DtdchuL/AME%2BKvDsV5i0EheWKObOEeTc%2B5oUgyW3HJUV3VJ8PYrKPq2HqSpTjLm/eaqfuOL1gnyvtHVd3qcFKHEeEzn61iacasJR5f3dk6a51JK02udd5aPstLH2BRRRXyZ9gFFFFABRRRQAUUUUAFFFFABRRRQAUUVzfxW%2BMfwl%2BBPg64%2BIXxp%2BJeheE9CtR%2B/1bxDqsVnbqcZ275WUFjjhRyewNOMZSdoq7Goyk7JXZ0lc78Vvi58MPgX4C1H4pfGTx9pPhnw7pUJl1DWdavkt7eFewLOQCxPAUZLEgAEkCvmeb/gol8av2nydD/4JofsyX/i2xmOxfi98SobjQfCMA/56wCRBe6qAQRi3iVDwfNxzWx8MP%2BCaek69490749/t3/Fi9%2BOPj/TZvtGjR65Ypa%2BGvDcvY6Zo6EwxuvA%2B0TGWc7Q29TXZ9VjR1xEuX%2B6tZfdtH/t5/wDbp1fVo0ta75fJay%2B7Zf8Abz%2BRxt940/ae/wCCqCnw/wDCJPEnwc/Z6uuNS8eXlu9j4q8eWx6xaXA4D6XYyL1vJQJ5FZfLRAWavq74OfBr4Xfs%2BfDPR/g58F/BFh4c8M6DaC20rSNNi2RQoCST3LuzEszsSzszMxLEk9NRWVbEOpFQiuWC2X6t9X5v0SSM6td1IqEVyxXT9W%2Br8/uSQUUUVzmAUUV5l%2B0x%2B1p8JP2WPD9neeO7y71DXNamNt4V8GaBbG71jX7rtBaWy/M5zjc5wiZBZlFXTpVK01CCu30Gk27I6H44fHD4Yfs5fDDVfjB8YPFMOkaFpEO%2B5uZcs8jE4SGJB80srsQqRqCzMQAOa8V/ZZ%2BEHxO%2BNPxZP7eX7U/hibR9cmsJLL4WeAL0hm8G6PLjfLMOg1K6AUzMOY0Cwg8MKb8Hf2ZPi18dfiZpf7Vn7d1taLq2kTG5%2BHnwosboXGl%2BDiR8tzO4%2BW%2B1PacGfHlxEkRDow%2BmK7Zzp4Sm6VN3m9JSWyX8sX1/vS67LS7lTairLc8Z/ag/5Lf%2Bzj/2Wa%2B/9QrxRXs1eM/tQf8AJb/2cf8Ass19/wCoV4or2avPICiiigAooooAKKKKACiiigDxf4E/seax8CfGni/xraftZfErxHJ448Vw%2BINesfENp4dED3aWtvZkJ9k0iB0je3tLaJgHziEMpV2dm1Ph/wDstQeE/jQvx58bfG/xr4616y0O%2B0bw7/wlR0yODRLG8uLa4uobePT7K13mR7KzBkuDNIFt1Acbn3%2BqUUAeM/t4f8kQ0P8A7LN8OP8A1NdEr2avGf28P%2BSIaH/2Wb4cf%2Bprolanhn9sD4Na18adR/Z58RXt/wCFvGFpdyR6bpHiuyNkdchU4Fzp8jHy7uJucBGLjB3IuK0hSqVU3BXtq7dF3/r52JlOMbXdrnqVFFFZlHzj8UP2HPEPg7x7qH7QP7Cfj%2B1%2BHHjbUZvtHiHw9dWrTeGPFknc39mhBhmbp9rt9soyxYSZqX4X/wDBQTw5b%2BM7T4Iftf8AgO6%2BDvxBun8qwsvEF0smja8443aZqYAhuM5X9y5jmBYKYyRmvomsD4mfCv4bfGfwbd/Dz4teBNK8R6Hfptu9K1mxS4gk9DtcEBh1DDBB5BBruji4VYqGJXNbaS%2BJfPaS8pfKSL5k9JG/RXy6v7IH7TX7Lv8Apn7CPx6F54ch5X4R/Fi5n1DTIkH/ACzsNRBa8sAAMKjmePJ5UAVe0L/gpT4H8D6tb%2BCv21vhZ4g%2BB2uzyiGG88WKtx4evJD2ttZt82zDHOJjC4zyooeBlUV8PL2i7LSS9YvX/wAB5kHJf4dT6UoqromuaJ4m0m31/wAN6xa6hYXcQktb2xuFlhmQ9GR1JVgfUHFWq4WmnZkBWf4p8KeFvHPh%2B78JeNvDWn6xpV/CYr7TNVs0uLe4jPVJI5AVdfYgitCimm07oE2ndH5t/Af/AIJ/fAj9pD9oD4hXv7P0eu/DX4F6DrUem/8ACO%2BBtdntNP8AFOsQybr2ZYCzRQW2w%2BTiBYw2VdCreZn6G%2BPPwV%2BEH7KfwH0v4ffs6eE7PwCvjHxnovhnUfEuhR7L62tbq8RJpWu2zJu8sMgkd/lLggg4rx39uP8AZD%2BBXwevLDwl8GtD8d6h41%2BK/iC8Twp4F03xncWehrdkCW5upkQqI4Yg4corDI4G1QSv0P8AsdfsKeBP2bf2W2/Z08epZeNItau5NQ8WxazZJc2V7dSrGrosMwIMQEUYAYEsVLEAtgfZ5riac8DSrxxEvZuyjSatdRVpTk%2BZ8zUr%2B9JNSei0jp8nkksQs8n9bw8Z1U3KpW5uZpyd4wXNHT3eW0U/diryu5a8h8EPGfxM8MfshfFnxJ8Bm8QeMk0XXNbT4RJf6lNq9zfW8UKCCOKe8lZ7mNbkSonmSnIQruwABZ%2BHP7W3xTt/hp4X0ax1nRfij478T%2BIbzRrGyutDn8G/2dNZWsk98NWSR757VovLVT5cRJNxDtiKtvr2fxZ%2Bz94E8Q%2BFrjwt4fvNZ8JpMlokN34M1iXTZbRbYFYVhERCIiqSpTbsZeGVgBjyvxZ%2BwPeaPpehXH7PXxkn8N6/ph1/%2B0/EPifS21qfVJNZWL7beuBPAEvQ8MbxSfNDGNyeQyEKvzkauFqN8%2B7d9V5dWul9Xbd36H3kauGqN8/V31Xl1a6X10636F3Rv%2BCi/wAFrnwp4T8Qa9oHiG1n8QaJZ6nrtvZaW93F4Vgubh7WOTUZkwsEZuIp4g%2BD/qJGIVVJHv8AXx14t/YM%2BI9hrXib4HfDzRdNb4c/EG28L2mu%2BKbzXmXUNN0vSdi3Om/ZhDib7SqTEShwA9/cFlAC5%2BlPjtovx0134b3enfs4%2BO/D3hzxWZ4nsdT8U6DLqVkqBwZEeCKeFzuXKhg42k5wcYrKvTw3NH2T37vZdL6aduu1%2BplXp4e8fZvfu9vXt267XOxor5V%2B2/8ABbbw5802gfsveLY0%2B99n1HxDocsg9laO9UH6tipLX9o7/gq1pMhtvEn/AATM8F6mEjdjd%2BG/j/DiRgpIUR3WmxEZIAGWxzzgCl9Tm/hnB/8Aby/WwvqkntOL/wC3l%2Btj6mor5V/4bR/4KF2J/wCJz/wR48Zso6vpXxe8LXA/APeRt%2BlL/wAN7/tgQjF3/wAEg/jErdxD4s8LyD8xqdH1HEdOX/wKH/yQfU6/l/4FH/5I%2BqaK%2BVv%2BG8f2zLj5dO/4JAfFxm7C58aeFoR%2BZ1I0n/DYv/BR6%2B/5BX/BH3xBCD91tZ%2BNfhqAfj5M0xH5UfUa/Xl/8Dh/8kH1Ov1t/wCBR/8Akj6qor5VPx3/AOCvPif9z4f/AOCevws8Mk8LP4p%2BPEt0B7lLLSW/IMaP7J/4LZ%2BKP3F740/Zj8GxP9%2BXTtE8Qa7NGP8AZMs1mhP1Wj6nJfFOC/7eT/JMPqjXxTiv%2B3k/yTPqqivlP/hjH/goX4z/AHPxX/4K0%2BIbW1k/19n8NfhRouikD0Se7W9lXHru98UH/gj7%2Bzd4t5/aG%2BLnxp%2BLY/59/iH8XtUltc/9elnJbW%2BD/d8vb7U/YYWPxVb/AOGMn%2BfKg9jho/FV%2B6Lf58qPUPjn%2B3z%2BxP8As0Rzf8L3/ap8CeGbiD7%2Bnaj4kt/tpPcLbKxmc%2Byoa8r/AOHqNv8AFEfZf2Mf2L/jJ8W2m4stdTwofDegyn1Ooa0bYFfeOOT2ByM%2Bu/BH9h39jj9mzypPgN%2By74D8KXEQ%2BW/0bwvbQ3Te7XATzXPuzE16nRz4Gn8MHL/E7L7o6/8Akw%2BfBw%2BGDl6uy%2B6Ov4nyafBP/BXj9oc58a/Fv4b/ALPmgz/MdO8C6c/irxCEPBje%2BvkhsoWx/FHbS46g%2BnQ/Cv8A4JUfskeBfGNv8VviZout/FzxzbcxeN/jHrcniC9hOcgwRz/6NaYPT7PDHjoOgr6RopSxte3LC0F2irfe9385CeLrW5YWiv7qt973fzYiqqqFUAADAA7UtFFchyhRXnHi79rP4AeFNB8Y6vB8SdL1m58CafNd%2BJNG0LUIbm9thEBuQxhxtcFlU7ioVnXeVzmvOvGH7U/xF8Z6z4Z%2BEXhSwk%2BGXizWPFx0fXT4p0yDU20zOm3d9bCMQXAhl%2B0i0kRJA7KDHIm3eUrpp4PEVOll56dL%2Bu3ZPp3KUWz6Mql4j8SeHfB%2BhXfijxbr1lpemWEDTX2o6jdJBBbxjq7yOQqKO5JArkP2b/i1rHxj%2BGQ8QeK9Gt9N1/TNY1DRfEenWrlooL%2Byu5bWUxlufLcxCWPJJMcqHJzmvPvEv/BP7wB8YPivefE/9qP4g%2BIPibZx6q114X8D%2BIZY4vD2hx7sxqLCBVju5FB2%2Bdc%2BaSMcA80Qo0o1ZRry5bdldvyWy%2Bbdrd9gSV9TmNR/bT%2BMH7U95N4M/wCCdHgGHUtL8xoNQ%2BNfjG0lh8OWWDtc2EXyzavMuGA8vbAGC7pSDiu%2B/Zu/Yp%2BH/wABfEF58V/E3iLU/HvxN1mAR6/8SfFZWS/nTqbe3VR5djagk7beEKoGNxcgGvYbKys9Ns4tO060it7eCNY4IIIwiRoowFVRwAAMADpUtXUxdoOnRjyRe/Vv/FL9FaPkwctLLQKKKZc3NtZW8l5eXCRQxIXlllcKqKBkkk8AAd64yTxz9qD/AJLf%2Bzj/ANlmvv8A1CvFFezV4V8ePFXhjxv8UP2aPFfgzxFY6tpd78Y797PUdMu0ngnX/hC/FI3JIhKsMgjIPavdabTTswTTCiiikAUUUUAFFFFABRRRQAUVzPws%2BNPwc%2BOeiXfib4J/Fnwz4x02w1KTTr7UPC2vW%2BoQW95GFaS3kkgd1SVQ6FoyQwDqSORSeDvjb8GfiJ4v134e/D/4ueGNd1/wtOIfE2h6Pr9vdXmkSEsAl1DG7PbsSrACQKcqfQ0AcB%2B3h/yRDQ/%2ByzfDj/1NdErufjN8CPhB%2B0L4Pk8B/Gf4f6d4g0x23xw3sXz28naWGRSHhkHaSNlYdjXDft4f8kQ0P/ss3w4/9TXRK9mqoTnTkpRdmuqE0pKzWh82L8L/ANtT9lT978DPGn/C4vBcP3fBHjzUxb69ZR/3LPVSNlyB2ju1zhQPOrsPg3%2B3N8CPi34nHwz1O/1DwV45UDz/AAH48sTpmqAn/nkkh2XSnGQ8DyKRzmvY65L4xfAb4M/tBeGD4O%2BNXw00jxLp4JaKHVLNXaBj/HFJ9%2BF/9tCrD1rs%2Bs0a/wDHjr/NGyfzXwv/AMlfmY%2BznD%2BG9Oz2%2BT3X4o62ivnFf2Vv2nPgL%2B//AGRP2m577SYv9V8P/i75urWKr0EdvqCEXtsoHChjOo/u44p4/b11r4TH7D%2B2b%2Bzd4r%2BHKx8SeKtMhOveHmHQObyzUyW4PXE8MeB1PBNL6lKprQkp%2BS0l/wCAvX7nIftlH%2BIuX8vvX62Pouqut6HoniXSbjQPEej2uoWF3EY7qyvbdZYZkPVXRgVYH0IxWP8ADP4vfCr4z%2BH18V/CT4j6J4l01sf6boepxXUak/wsY2O1v9k4I7iuirklGdOVmmmvk/0NU01dHzbrX/BMn4Q%2BF9XuPF/7JnxB8W/A/Wp5DNIPh5qYTSLmXsZ9JuFkspFHosaH/aquPFP/AAVF%2BBB8nxR8N/Anx10WH5RqPhS/PhnXSo6u9pdtJZytj%2BGOeLPoO/01RXWsfWkrVkqi/vK7/wDAlaX4s05311Pm/Sv%2BCpn7MOlajD4d/aAtvFvwc1ed9kdh8V/C8%2BlQyN32XuHsnXPdZyD%2BdeC%2BHvjJ%2B0z/AMFarfxl4F%2BE37Qvh/4TeG9GuPLXQ9Mgmudd1CAsDFNPOjoiW8mPvWzsDyjb1ILe4ft1fF7xx471iH9gv9njSob3xv440WSXXNWuy62vhfRmJje9lZOfNY5WJRyGwepQNyXws/4Ig/sifDCEajYeKPiANeNsA2v6T4xn0q4iuTtL3ETWXlMpYg/K7SLg8hiAa%2BjwMsry3BvFVVyVp2dNNKrZJ/FyuySlqk5Xel4q2p8rmXtc5x0cJQ5vYwbVZqXKndfCmvfco6NqLUfetJ30PJvh/wD8ESPj7q1/cax8dP2zNW/tHSIjJ4F1Pw/qV1cSadeFlPnuLjYyjCL8sToxIHzjaM/oT8P9F8S%2BG/AeieHfGXio67q9hpNtb6rrbWogOoXKRKslwY1JEZdwz7QcDdgV4B/wx7%2B2F8OOPgJ/wUf8VzWsfzJpHxX8LWHiONz/AHTcxi1ugO2TIx9cml/4T/8A4KtfDnnxT%2Bzx8IviVbjjzfBXja80G6I9TBqEE0Wfbz8e4rjzTMMdnfL7WvTko7Kyp201teK33a5mr67no5Vw9lmTczwiact25Sbet1fmbV1snvbTY%2BlaK%2Ba/%2BHg/jfwj/o/xr/4J8/HTw5Mn/Hxc6J4atvEVmg7kS6XczOQPXyxxU1h/wVp/4J/yXaaZ4n%2BPa%2BFbxztaz8b%2BHdR0R0b%2B6ft1vEvHsSPevI/s7HfZpt/4bS/9Jcj2eSfY%2BjqK898Gftb/ALKnxGCH4f8A7THw/wBcL/dXSfGNlcE%2B2I5Sc%2B1d/b3NveQLc2lwksbjKSRuGVh6gjrXLOnUpu04teqa/NIlprcfRRRUCCiiigAooooAKKKKACiqmsa9ofh20OoeINatLGBes95crEg/FiBXmXjb9vH9iX4chx43/a4%2BG%2BnSJ963n8aWXnfhGJS5/AVpTo1qrtTi36Jv8kxpN7HrFFfNjf8ABWX9i/WCbf4XeJvFnj%2B6P%2BrtfAHw61nVTJ/uyQ2piP8A33SH9uH9ozxr8vwR/wCCaXxUvx/z9eO9Q0vwzB9cT3Mk%2BP8Atju/2a6f7Oxq%2BKHL/iaj/wClNfkVyS7H0pRXzVv/AOCs/wASfu2/wR%2BFllP3d9S8Uajbj6AWVuW/76B9qQ/sDfFn4hfvP2kf%2BCg3xZ8TK3EuleELm18KafIvdGTToxcMvbm4Jx1Jo%2BqUofxK0V6Xk/wSX4hypbs%2BlBLG0jRLIpZQCyg8jPTP5V4t8K/FfxA%2BF3x78X/B/wCNHxYvPENjfaNB4p8Ka1rNpaWogthIbW9sgYIooxHA/wBkcFgXIvPmZjXUfs%2BfsqfAP9ljSdR0f4FfD9NFTWLhJ9XuJNQuLu5vpUUqsk09zJJLKwBIyzHrWh4k/Z4%2BCXjP4p6d8a/Gfw203WPE%2BjWhttF1XVojcnTUJJY2ySlkt3bPzSRqrsAAzEAARGeHhKcdXFrR2V76W6u2t767CTirnzRbfBLxN4n8U%2BEvg5cfDvVL/TrPxH4hkl8cWextL1Hwlq63U8qm5QkC5a4%2BxP5e07pIt%2BNpLD0jwH%2Bxz4u1ufU5/wBpPxrpuuSnw/pGkaPe%2BG4Lixukk055JItWaUyFor0ySA/uzsTyxjO9hX0F06UVrUzGvJWjp%2Be9736X7LQbmznfhd8L/C3wg8IReDPCRvpLdbia5uLvVNRlu7q7uJpGklnmmlZnkd3ZmJJwM4AAAA6KivPPjX%2B1j%2Bzh%2BzrGo%2BMvxi0TRLqXH2fSpLnzb%2B4z0EVpEGnlJ9EQ9RXLGNbEVLRTlJ9tX%2BBnKcYq8nY9DqO6uraxtpL29uI4YYkLyyyuFVFAyWJPAAHevndv2ov2q/jgPsv7K37KN3pGnS8R%2BN/jHI%2BkWgHZ4tOj3XtwpHI3iAH1HWnW37A9z8VrmPW/22fjrr3xRkVxIvhWMf2R4agYHKgafbNm42njdcyS5HUCuj6pGlrXmo%2BS96X3J2Xzl8jH2zl/Djfz2X46v5Is%2BKf%2BCgPg/wAR69c/Dz9kTwBqnxj8TW0hium8MSrFomnSf9PerSf6PH3%2BWMyycY2ZrPg/Y4%2BLH7RNxHr37enxXj1rTt4kh%2BFXgl5rLw7CQcgXUhIuNTIIB/elIsg/usGvoLwx4V8MeCdBtvCvgzw5YaRpllGI7PTtMs0gggT%2B6kaAKo9gKv0/rcaOmGjy/wB56y%2B/aP8A26r/AN4PZOf8R38tl/wfn9x4Z8fvDnh7wh8Uv2Z/DHhPQrPTNNsfjBew2Wn6fbJDBbxjwT4owiIgCqo9AAK9zrxn9qD/AJLf%2Bzj/ANlmvv8A1CvFFezVxNtu7N9gooopAFFFFABRRRQAUUUUAfKv7C3xS8NQ/Fn47adD8L/iLoVp4g%2BMtvfeG31v4PeIdJtbqybw7olis0cl1YRRiMXFjcoTkBBGGbCOjNxH7Cnw/wDiDpfxh%2BFPhjVvhR4o0PUPhP8ADPxjoPxK17WfDV1ZWep6nf6zpc0LWt1LGsWprcvZ3d951u8qxhx5hSSYrX3DRQB88f8ABQvTfivP4P8ABmo%2BHPGnh618LQ/GH4ejXtGvfDE9xqF458Z6N5bW94t7HHbBW2lg9tMWAIBTII2vHKftz/DLxjqXiz4fy%2BF/id4Xu7t54fCOoAaLq2nRk8Q212u6C4VR/wA91Rj0396n/bw/5Ihof/ZZvhx/6muiV7NWlKp7N7Jp9Gv%2BGa%2BTMa9H20UlJxa2adv80/Rpo8S8G/t8/ArU9fh8C/Fg6t8MfE8x2poHxGsDppmbp%2B4uWJtrgE8AxysT6DOK9rhmhuIVuLeVXjdQyOjZDA9CCOorN8Y%2BCPBnxD0Gbwr4%2B8JaZremXAxPp2r2MdzBJ/vJICp/KvFpf2CdD8ATPqX7KPxp8XfCufcXXSdKvf7R0RnPUtp15vjUH/pkYvYitrYSrs3B%2BfvL717y%2B5nNfMKG6VReXuy%2B53i/k4nvtBAIwRkHqK8BHxD/AG%2BvhB%2B7%2BIXwS8M/FHS4uusfD3VP7M1IIOrPYXzGN3I5xHcfQdqv%2BG/%2BChf7Ml9q8Xhb4ieJdR%2BHWuSnA0X4laPNosufRZLgCCTPbZI2e3UUPB12rwXMv7rv%2BC1/AazHCp2qNwfaa5fxfuv5SLHxK/4J/fsrfEnxA3jmH4cnwt4oOSni3wHfzaJqSuf4zNZtH5p/66Bx7cVzo%2BBv7enwhGfgr%2B1lpXjvTo%2BIdA%2BMPh8GcJ6DU9OEchb3kgk9819A6Vq2la7p8WraJqdveWs6boLm1mWSORfVWUkEfSrFVHG4mK5ZvmS6SXN%2Beq%2BTR0expP3o6ea0/LR/cfO4/bG%2BP/w2/c/tG/sK%2BNbKJeG134b3UPieyYDrIY4fLu4174MBI9%2Bte%2B6Brdl4l0Gy8R6ak62%2BoWkdzbrdWzwyhHUMoeNwGRsEZVgCDwQCKt1Hdwy3FrLbwXTwO8bKk8aqWjJGAwDAgkdeQR6g1lVqUqluWCi%2Btm7fc72%2B9lwjOO8r/cfIX7DUfifxL%2B39%2B0jr3xe1ZdS8W%2BGNR03R9MurObbaW%2BhXKSXVrbpFtGJFCJvYliWz0O4t7z4D/aW8OeN21vU5/A/iDRNA0OTUBL4u1qO1TTLhLKZ4riVJY53ZEVo5OZUj4RjjAr5y/wCCaHgPxxH8Yv2hvi9Z/EGHxI2qfEyfR31nVtMEbaj9hhcI6PblIlUSThW2xEFV4rrfGP7MPxcl8OePtc0r4WeEvD6eINHsbe98FeBdSMsOuzJqAuL29dpba1T7RJbtLCiMvzMzb5cMCPezSnQnmEoVZJNRpRXRL3IXSXz06LW%2B54uUStgFOktJSqPve85Wbfd2172VtLHv3gn42/Cr4h%2BFrrxr4U8a2kumWNybe%2BurkNbfZpRtO2RZgjRkh0I3Abg6kZBBPURSxTxLNDIro6hkdTkMD0IPcV8i%2BN7GSDx5pXxl/aI8EXej%2BCPEvjS81DWNA1TTftZza6YbTTEvYYBIpaXMsuDuVWhtkJ3bQPcv2SfDXirwP%2BzX4W0Xxzpb6ffw6c88mlGPnTYpJZJYrMKOnkRPHCF7eVivIxOFp0qanF7vbR%2Bqut2nv01R61OrKcuVr%2Bv%2BCelVDf6fYapaPYanYw3MEgxJDPEHRh6EHg14HF/wVG/YotJFtfGXxQ1Dwnc5w9t4y8IappRQ%2Bha5tkT8mNdv4T/bO/ZD8dhR4O/ai%2BH2ou/SG18YWTSD2KeZuB9iKzlgsbTV5U5L5P8ANJ/mUq9GT0kvvRD4z/Yh/Yz%2BIhd/HX7J/wAN9Wkf70994KsZJc%2BocxbgfcGuBuP%2BCRv/AATteZ7nSv2bLLRpHOS/hrXdR0o59vsdxFj8K%2BhdJ1vRdetRe6Hq9rewnpNaXCyKfxUkVapwxuOpK0asl/29L8r/AKG6nK2jPm3/AIdc/AzTePA3xl%2BN3hhR91NC%2BNuuoq/QS3L/AK0f8O5b%2B240f/goF%2B0lZgdB/wALGgucf%2BBVnLn8a%2BkqKr%2B0cd1nf1UX%2BcWPnn3Pm3/hgz4zWnGkf8FNfjsgHT7bPoVwfzbTBmj/AIYm/abTiD/gqJ8WgP8AppoPh5j%2Bf9nV9JUUf2hiu6/8Bh/8gHPL%2Brf5Hzb/AMMR/tKS8Xf/AAVC%2BLrDv5Oi%2BHoz%2BY06j/hgL4pXoxrf/BS/9oGT1FjquiW2f%2B%2BdLOK%2BkqKP7QxfRr/wGH/yAc8v6t/kfNp/4JvQXX/Ib/bs/aSvQfvD/haz2uf/AAEhix%2BGKP8Ah1T%2By7qn/I%2BeJfir4qz97/hIvjP4hlDfUJeIDX0lRR/aOO6VGvSy/KKDnn3PnfR/%2BCTf/BOXR7sX7fsleF9SnH/LbxAk2psfqbuSTP416b4J/Zc/Zm%2BGjI3w5/Z28C6AY/8AVtovhKztSv0MUS13dZfiPxz4J8HxGfxb4w0rS0AyX1HUI4Bj6uwqJ4vG19JVJS8ryf4X/QlzlbVmoAFAVQAAOAKK8i8Xft/fsQeBgw8S/tafD2GRPv28Hiu1nlH/AGzidn/SuYP/AAU5/Zb1j938Mh458czfww%2BC/hrrF9u%2BkgthGfweiOBxs1dU5W9Gl97svxMXXoJ2cl9//Dn0JRXz3/w2R%2B0B4t4%2BEf8AwTt%2BJl4P%2BfjxnqOl%2BH4vria5klx/2zz7Uh1f/gqJ46%2Bew8G/Bn4e20vBGp6tqPiG8hHrthjtISR/vke1V9Rqx%2BOUY%2Bso/kuZi9vB/Cm/RP8AWx9C1S8QeJPDvhPS5Nc8Va9ZaZZQjM15qF0kMSD3dyAPxNeD/wDDIv7TXjjj41f8FCvG0sB5Nh8PNA0/w7GD3HmhJ7jH/bUH0Iq5oH/BND9jbT9Uj8ReMfhZL441ZDltW%2BI2tXevzO394i%2BlkjB/3UAo9jg4fHVv/hi/zlyr8A560to29X/lcXxL/wAFKv2P9L1WTwz4I%2BJE/j7Wk4XRPhro1zr87t/d3WSPGp/3nUVnn9oX9uL4rHyvgf8AsYQ%2BFLKX/U%2BIPjD4mjtCo9Tp1h585Ps7x/h2958N%2BFvDPg7SY9B8IeHLDSrGEYistNs0giT6IgAH4Cr9P2%2BEp/w6V/OTv%2BEeVfiw5Ksvilb0X6u7PnY/siftG/Ff99%2B03%2B2x4kltJPmk8L/C2xTw3YjP3o2uFaW9mTHH%2BuTPp1z6F8Ff2Q/2aP2eJGvPg/8ABrRdIv5c/aNaNubjUJyepku5i88mefvOep9a9Hrzy/8Ajfr%2BifFLTvBHiT4T6hp%2Bj61rEmlaP4hn1G2b7Vdrby3H/HujF1iZIJdrk7iUOUUYNJ4nF14uCdo9laK%2B5Wv87kSWHoNSlu3a7u/x1t%2BB6HWV4w8b%2BF/AXhq/8XeK9VFtYabGHvZUieVkBIAASMM7MSwAVQSSQADmvDfiH8WviV4U%2BJHizxqPiBPDpfg7xLpFnd%2BEpbaD7LNpF5FbpJdhxH53miWfzA/mbVWFk2dSfLvDHw3OpR2vwO%2BG%2B3SPHY0m%2Bj8YRm2MSvqWmXi3Wm6vdhQBIZ7gKfPwfOSWVcnbgXTwSa5py00/zd/k1rrucVbM3GThThd6rXq9Urd9U9G07L7vr3wD8RfCPxN0Rtf8Hak88Mc7QXMU9rJbz20ygFoZoZVWSGQBlJR1DDIyOa83%2BJ37VniLRvHF/wDCX4H/ALPHi7x54m05kS%2BkS1/szR7J3RZFE2o3QWMnY6tiFZTg4xnitT4EeHPHcfj/AMdfEjxd4HuvDEXie80%2BSPRLrUre5LXFvaC3luw0DsqiRUgjAJDFbdWZVLFR6fWD9jRqu65l69fO29ttGjqX1jEYdWlyO7u7a2u1opbX0eqdu2x4D8Ybjx5dePP2Ybn4n6Zpdnr7/F69OqWuiXck9rFL/wAIV4p%2BWOSREZhjHJUc5r36vGf2oP8Akt/7OP8A2Wa%2B/wDUK8UV7NWDd3c64rlile4UUUUhhRRRQAUUUUAFFFFABRRRQB4z%2B3h/yRDQ/wDss3w4/wDU10SpvGVr%2B2x4I8V6h4j%2BH%2Bp%2BDfHfh%2B4unmt/DGsQyaPqFnETxBDdx%2BbFLgfxSxqT3b1h/bw/5Ihof/ZZvhx/6muiV7JHLFKCYpFbaxU7TnBHUfWrhPkeyfqc2KwyxMUueUGtU4uz/JpryaaPEYf26fA/hGVdO/aN%2BGvi74Y3W4I114k0gz6Y7%2BiahaebAR7uyfTpXrXg3x54H%2BImjp4h8AeMdL1ywk%2B5e6RqEdzEf%2BBxsRWpNDFcRNBPEro6lXR1yGB6gg9RXkvjH9hr9mfxXrD%2BKtL%2BH/8Awi2utkrr/ge%2Bm0a8Vv7xe0ZA5/3w1XehLdOP4r8bP8WcXJnOH%2BGUKq/vL2cvvjzQfzjE9cqj4j8L%2BGfGOkS6B4u8O2Oq2E4xNZalaJPDIP8AaRwVP4ivHP8AhSH7Xfw4%2Bb4RftXReIrOP/U6L8UfDyXZI9DfWZgm/Flf8e/pPwk1T4v6r4Ykf42%2BENE0fWYbx4lj8PavJeWtzCFUrMrSRRvHliw2MCRtBzzgKUORc0ZJ/en925tQxk68/ZVqE4O3VKUX/wBvRbXyaV%2Bx5lqn/BOv9m221CXXfhLZ%2BIPhnqczbnvvhr4juNJUn3t0Y2zD2aIjt0qEfB/9vL4cfN8Nf2rPD3jS1T5YtM%2BJvhARyhfQ3umtESf9poW981l/tW/tT/Dz9mz4j6P4o1n453tnGL1E8R%2BHyIp7JLJYpCQIxGZPtbv5YRI33nO5k8tWYcB/w2v%2B278e/iQngX4A/BDQvhzpmo2SzaLq3xitLyK71BDvPmQwwfIrbUJETFzjaxO1hXrUMNmVeiqsrez/AJqlreib952/u3sux4eIzLJMLXlRipKopJctK7bb2dotRXb3uXXTV7epH9pH9rb4frj4w/sPalqNtEMTav8ADLxVaaqj/wC0trc/ZZwPYBj/ACrzT4lf8Fuv2QvCHg%2B9ufDK%2BINR8VQO9vD4T1DRpbCSK5HygXE0wEUSBuGYM5ABO01znh/4GeI/2gvEk1h%2B2v8AtW/ELX9Amg1Gazh0cWvh/wAN6jFYy%2BVdq6W0rTOiHJV5Vi3oC6kgGvpr9mnwp%2By9o3gG58Jfs6eA9N0vRraRYNQsF0GW0kkYxq6tMtxGss25GVhI%2B4ODkMRXTOGSYRc1WLqyVtIc0IfOUryf/bqj6ozw%2BLzjMJcmHqqlF3t7TlnU06qMOVK295OXdXPP/wDgmD4d0D4ffs02fhMfFjwn4g1bUdVvNZv7LwnrkF7baa11J5n2WN43YuqZ5Yk/MWwSACfpCvJ/HX7Cn7HPxIuDfeK/2bfCL3Zbcb%2Bx0eOzuSfXzrcJJn33Vzv/AA7%2B8DaB8vwn%2BPnxe8FRL/qrTRPiJdXNsh/643/2hMfhXm4utQx%2BJnXnNqUm2/d01/wv9D2cHRxmXYWGHhTjKMEkrTaen%2BKP6/ge9UV4MPgD%2B2x4Z58F/t4LqcUf%2BqtPGvw3sbrcPRprN7Z/xwTR9v8A%2BCmPhz57nw58FPFcSdVs9S1XR5pB7CSO5QH/AIFiuf6tF/DUi/m1%2Ba/U6frs4/HRmvRKX/pMv0Pd5Yo5o2hmjV0YYZWGQR6EVxHiz9mL9mvx6WPjn9nvwPrJf751XwnZ3BP4yRmvP/8Ahor9szRefFX/AAT7vrmNf9ZN4W%2BJOl3n4hLj7M5%2BmKP%2BG5tQ075PFn7Fvxz01l/1jQ%2BCI9QQfQ2VxMSPwq4YfFwd6b/8Bkv0khPMME1791/ihJfnBhq3/BMD9gHVrk3v/DLXhmxmPSXRIpdPYfQ2rx4/Cqv/AA7K/Zl07nwZqfxG8NkdDoPxa16Hb9A12wH4Crf/AA8f/ZnsPk8Xr458Ov3j174Ya3Bt%2BpFoyj8TUlr/AMFL/wBhG6mFvL%2B0t4ftJD/yz1PzrRh9RNGpFdHPnaW8397/APkjL63k1/jgvml%2BfKUB/wAE%2BrS140X9s79oKyA%2B6B8UJbnH/gVFL%2BtH/DD/AMTrH/kB/wDBRD44Regvr/R7rH/fenCuv039uf8AYt1cD7D%2B1n8OCT0WTxpZRsfweUGtuy/af/Zq1IA6d%2B0N4Gnz08nxbZtn8pah4jM18Sfzgv1pm0amXS%2BGcflNf/Jnm3/DI/7T9vxp3/BSf4iqB0%2B0%2BFvD8387EUn/AAyz%2B2MvEX/BTLxgB/t/Dvw43/tnXrkHxt%2BDF0M2vxd8MSD/AKZ6/bH%2BT1YX4rfC5xlfiToB%2BmsQf/FVH1vGLeK/8Aj/APIGijhXtL/yb/7Y8b/4ZW/bBk4uP%2BCmPjMj/pn8P/Dqfys6X/hj/wDaQuuNU/4KR/E5wev2TQdBg/lYHFexP8WvhXEMyfEzw%2Bo9W1mAf%2Bz1Uufjv8D7ME3nxl8KRAdTJ4itl/m9CxWNe0V/4BH/AOQBrCreX/k3/wBseT/8MK%2BOLz5tb/4KDfHmc91tdf0u1U/9%2BtOBH50f8O8fDV5x4g/aw%2BPupqfvRz/Fu9hRvqtt5Qr0S%2B/au/Zb0sE6l%2B0n4AtwOvn%2BMbFMfnLWFqn7fX7EWkAm7/az%2BHrY6i28WWsx/wDIbtVqvmkvhT%2BUF%2BlMylVy2HxVI/Oa/wDkzmP%2BHX37H998/ivw34t8QSH7z%2BIPiXrt1u%2BqtebD/wB81qeHP%2BCa/wCwN4XlE2nfsj%2BBZ3Bzv1TQY75ifUm4D5NV3/4KafsMFzHYftAWGosDjbo%2Bl3t6fwEEL5pv/DxP4Halx4I8C/FHxMT93%2BwvhRrL7voZLZBVuWdNWbml6tfrEyWLydPScH6Wf5KR6n4R%2BCvwb8AFT4D%2BEvhnRCn3DpGg29tt%2BnloMV01eDH9tTx1rH7rwR%2Bwn8Z7%2BQ/cbVNGsNLiP1a6vFYfitH/AAvD9u7Xf3Xh79hfS9I3/duPFXxUtF2e7R2UFxn6Bq5pYbEyd5tfOS/%2BSbNVmGEStBSfpCb/APbUj3mivBv7N/4KYeJf3V34o%2BC3hOJ%2Br2OmaprE8Y9jJJbIT9VpP%2BGXv2pPFH7r4k/8FA/FXkN9%2B38E%2BEdL0fH%2B7I8dxKP%2B%2BzU/V6a%2BKrFel3%2BS/Uf1yrL4KE368sfzlf8AA96rhPiJ%2B1D%2Bzd8JBIPiZ8ePCOhyR53W2o%2BILeOYn0EZfex9gCa4D/h3P8Atc%2Bf4seJPiB4%2Bf/qc/iHqVzH/AN%2BY5Y4ce2zHtXd/Dv8AZT/Zm%2BEpjk%2BGvwB8H6LNHjbdWHh63SfI7mXZvY%2B5Jo5cHHeUpeiS/Nv8g58yntCMfWTk/uikvxODP/BRP4MeI/k%2BCvgH4i/Edugk8GeBLx7fPbNzcrDBj/a8zHvR/wALb/b6%2BIX7v4f/ALKfhjwVbtzHqXxH8aC4k2%2BptNNSTB9jMvocV73RR7ahH4Ka/wC3m3%2BHuoPq2LqfxKz9IpR/F8zOG%2BCPhb4%2B%2BHrPULr4%2B/FnRfEt7eyxvZ22geGTp1tpqgNvjQtNLJMGJB3OQRt6c1lfE74V/F/xj8bvDfjrwr4y8Oabovh/S7hI49S0ae8uhdzyIsssYWeKNT9nQxq7b9vmyHYciuw8c/FT4Y/DGz/tD4kfEXQ9Ag27hLrOrQ2qkexkYZry%2Bf8Ab9%2BBWsStZ/CLTfFvxFuUYq0XgTwndXkQPvcsqW4HuZMUoOvKbqRjv5advJfiYYnE5XhYKhXrJNNOznebs77Lmm//AAE7vWPgL8N/FmsaX4n8d6MNb1fSJfMtNUvMRyHEglRXWAIkqI6qyq6sFKg9ea7OvDz8Tf25PiH8ngH9nPw34ItW5TUfiH4m%2B1TlT3%2Bx6eGw3s06%2B%2BKQ/ss/Gfx/%2B8%2BPX7X/AIrvoW5bRfAttF4es8HqjPFvuZF7czDP6UpQbS9pNafP8Fp%2BJnDHuTf1TDTlfq0qafq52k//AABnofxS%2BPvwT%2BCdn9t%2BLPxT0PQAV3Rw6jqKJNL/ANc4s75D7KpNedf8NfeNviN%2B4/Zo/Zl8WeKIn/1XiHxJF/YGklT0kWS7Xz5l9o4Tn19Ow%2BF37J37OXwZvP7W%2BHnwh0e01ItufWbmA3V%2B7dy11OXmJ%2Br16HU81COyb9dPwX%2BZfsc4xH8SrGku0FzS/wDA56L5QPBPjRJ43l%2BIP7McnxItdLg11vi/enU4tEmkktEl/wCEK8U5ETSqrsuMcsAa97rxn9qD/kt/7OP/AGWa%2B/8AUK8UV7NWTd3c9SEeSCjdu3V7v121%2BQUUUUigooooAKKKKACiiigD5d%2BA37Y3xt%2BIHxi8LSeNtM8LL4D%2BJmteLtM8FWel6bcxarpcmi3csUMl5cPcvFdLd29tczFY4YDbt5ceZ8mQXfhX%2B1P8Xdd/bS8V/A34seJtE8M6Lb%2BJ7nTfAGgX/wAJ9btLnxPbRaXb3ZuLXXp7safdyK7XZa3ggaQR2rkgBGcdF4O/YM8DeAviTN8RvC/xd8bwC2utZuvCmhPPp0th4Wn1a9W81KWxR7IuzTyhx/pLziFJpY4BCr4rfvv2WoPEXxy0X41%2BPfjf418RQ%2BFtaudX8I%2BDtSOmR6Tot9NZ3Fk08X2ayiupittd3UaC5uJlUTsQNyoygHGf8FC/i58KPDXg/wAGfCjxH8TvD2n%2BKfEHxh%2BHsug%2BGr3WoItQ1JI/GejNI1vbs4kmCqrFiikAKScYNdr4v/ZD%2BFPiHxLe%2BOvC9/4h8H%2BINQnaa%2B1rwfr81lJcSHktJHloZST13xnPesv9vD/kiGh/9lm%2BHH/qa6JXTeIvit8T/B%2Bu3cWs/APVdR0aOdhaar4a1CG7lePPys9sxjkU46hd/wCNZVq9Ogk53t5Jv77J2%2B483MqWXVaUVjKfNFPR8snyu294%2B9HTqmu1znP%2BEL/bQ%2BH3PhL4veGPHdmvSz8ZaO2n3YUfwi6ssoze7Q/X1o/4ah8feDv3fxq/Za8Z6Mq/f1Lw2keu2Sr3YtanzlH%2B9CPeui0T9qP4HaverpF/42j0TUDw2neJbaTTplPpi4VAT9Ca720vLTULZLywuo54ZBmOWFwysPUEcGlSxFCur05qXo0/%2BCvmkcFDCwqK%2BX42WnRyjVivVT99f%2BBo878K/tf/ALMPjGOZtJ%2BOHh6GS3RnuLXVb4WM8SqMsWiufLdQB1yvHevHtQ/bZ%2BO37S2q3nhP/gn38H4NU0u3untbr4seM3a20ON1OHNrGv728IPGVGARyrKQTk/tZ/D3w5%2B2V%2B3L4P8A2TPE1j5nhPwn4Wl8WeOxbN5Ul%2BXlEFnZNKvzqoYGRlBG5XJBBVSPWrf9hr4P%2BGIFh%2BD3iHxh4ACDCReD/FVxDAPT/R5jJDj22Yr6CMMJlmHhUqwVSrNcyi78kYu9nJJpyk7XUbqKVr3bsefKvxLjZzp0%2BV06cnGUoP2c5tJXUedVIxSbs2ndv4WrXOI%2BAv8AwTF%2BF3w98T3Pxn%2BMniO48b/EvUdQk1C68VSW62kVlcyNudrS2j/dxHPO9gzZ5G3JWvX/ABF8FNS8XePNO8SeJvidqt7o2k6wmq6f4cks7VY4btFZYyJkjWVo13swRiTu2/NgYPN/8Kw/bB8IfP4M/aX0bxHEnEdl448IIGx6G4sZIiT7mM/jR/wtH9sDwp%2B68X/sw6R4gROZL3wV40jBI9RBfRwn8N5NcGIx2KxVX2lWV3strJdktorySX6m2HWWYGh7GWDqUo3u7Rc03e95SpynzO%2Brck79exyGtfsq/Fa5%2BFt54S1jUdM1JdE8PPpfhyx02Zkl1SN7kS3TzvKESGaeBfI2glFMjsXwQF9P%2BDfhvxZL4x8XfFnxloNzo8/iW6tIdP0W8nikmtLO1hKJ5phd4/MeWSd8I7AKyDccVz//AA2f4M0X/kpfwl%2BI/hJV/wBZcax4KuJoFP8A11sxMh%2Bua2fC37YH7LnjKQQaF8evC5mJwLa81aO1mz6eXMUfPtispV5zi0ysJW4cpYmLp4lKS%2BzKSi20mlpNQlom0la3q1d1fiN8fPir8OfGV5pY/ZN8Y%2BIvD8Pl/ZPEPha/0%2B5a4zGrP/oslxHKm1iy9Dnbkdaw/wDhv34I6P8AL8SfDHj/AMGN/wBTR8PNShQf9tI4ZI8e%2B7HvXs2m6rpes2q3%2Bj6lb3cD/dmtplkQ/QqSKsUlOlazh9zf/BPWlh8xcnOjidHqlKEZL0TjKLt239WeXeFv22/2QfGTCPQf2lPBjSMcLBda/Bbyk%2BmyZlbP4V6FoXinwx4og%2B1eGvEdhqMWM%2BZY3iTLj6oSKpeKfhh8NfHAZfGvw80PWAwww1TSYbjP18xTXnuu/sCfsYeIJ/tV1%2Bzb4VtZc5Euk6cLFgfUG2KEfhT/ANnfdfc/8ib55DpSn86kH%2BU0evUV4kP2AvgbpnPgfxL8QvDB7f8ACP8AxL1eID6B7hwPpjFH/DHXinTvn8L/ALaPxjs2H3VvNfs75B9Rc2jsf%2B%2BqOSi9p/en%2BjYfWs2j8WFT/wANWP8A7dGLPbaiu7Kzv4jb31pFNGeqSxhh%2BRrxf/hn79rOw%2BXRv29dWdB91dY%2BH2k3GPqY0iJ/Oj/hWP7eWmc2H7VvgrU8dBqfwweLP1MN/wD0o9lDpNfj/kH9o4pfFhKny9m/yqI9J1L4OfCLWSTq/wAK/Dd0T1%2B06Hbvn/vpDWJe/so/st6kSdR/Zs8AXBPXzvB1i%2Bfzirkf7L/4KM2nyxeNPgvfAdGm8O6tAx/75u3H6Uef/wAFHIf%2BYX8Erj/t/wBYhz/5CetF7WO1Vf8AgTMZY2hL48JU/wDBUX/7czcn/Yg/YwuTum/ZI%2BGZJ6keBdPB/SGq7fsGfsSucn9kn4c/h4Osx/KOsv8Atv8A4KLw/wCs%2BHHwam/65eLtVX/0Kxo/4Sn/AIKGLwfg38J2918cagP52FXz4pf8vv8Ayd/5mbxGXPfBz/8ABBqx/sH/ALE0Zyv7JPw4P%2B94Msj/ADjq3bfsU/sb2Z3Wv7Jnw0jI/iXwJp4P5%2BTXP/8ACT/8FDn4X4P/AAlT3fxvqJ/lYUf2t/wUZm%2B54D%2BC0H/XTxTqzn9LIfzoc8U963/k7/zBYjL1tg5/%2BCEdpY/sw/s1aWQdN/Z58DW%2BOnkeErNMflFW7pnwx%2BG2iEHRvh7odoR0NrpMMeP%2B%2BVFeXbv%2BCjs3/LH4JW3/AG11ifH/AI6lH9g/8FE7/wCW5%2BJnwe08H%2BKz8I6nOw/7%2BXqg/lUNVJfFUX/gTZrHG0Y/BhKn/guK/wDb0e2JGkSCONAqgYCqMAUteJf8Kj/bm1D5r/8AbH8NWGeqaX8K0bH0aa9b%2BVH/AAzh%2B0zqfyeJf29vFRjPVNG8H6NZ/kxt5GH5ms/ZQ6zX4/5Gv9oYt/DhKnzdNfnNnttFeJH9i24vefEn7Xfxq1At95V8bJZKfoLOCIgfjVOH9hT9kjWNXm0PxO%2BueJ9Tt41kurbX/iNql5MiN0Z4musAH1K80clBbz%2B5f5sl4vNXZLDxjf8Amqx/9tgz13xN8Tfhv4KVm8ZfEHQ9JC/eOp6tDBj672Feea9%2B33%2Bxp4eufsVx%2B0X4avZ84EGiXh1FyfQLaiQk%2Bwqt8Lv2Xf2CL2Ga9%2BFvwW%2BG%2BrCyuDDPdWumWl%2B0MoAJUyMHKtg%2Bua9Z0Hwr4X8K232Pwv4bsNNhxjyrCzSFfyQAUf7Ou7%2B5f5ipzznEQUoSopPquep%2BN4xZ5B/w3V4J1nn4b/A/4r%2BLUb/V3Gj/AA9uoIW/7a3ogQfiaP8AheX7Yfij5fBH7FY0uKT/AFV7428e2dttHq0Noty/4ZBr26s3xF4x8IeELf7X4s8VabpcWM%2BbqN9HAuPq5Ao9pSW0Pvbf%2BQ54XHcvNXxbiv7sacF98ud/ieRf8Ih/wUD8YjZr3xm%2BHHgqI848MeFbnVZx7eZeTRp%2BPlfgaP8AhjLVPFH7z4xftV/FHxOX/wCPiyttfTRrOUenk6dHCcexc1t63%2B27%2Bylol3/Z4%2BNukalc9rbw%2BZNTkY%2BgW0WQmqX/AA1rf6/%2B7%2BGf7M/xM15n/wBRcz%2BH10u2f382%2BkiOPcKaPb1F8Nl6Jf8ABZ5UqvDTly1MQ6z7e0nV/wDJad1%2BBoeB/wBij9lD4d3n9qeGvgN4ea%2B3bv7S1Sz%2B33W718%2B6MkmffdXp8MMNvEsFvEqIihURFwFA6AAdK8g/4S79uDxb/wAgH4OeBvCEX/PTxN4nm1KbHr5VnEiZ9vN/Gk/4UR%2B0Z4t/5KT%2B13qlrA/Mlh4G8O2umBfYTzCeXHuCKzlOc3eTb9Tsw%2BLo0IcmAwU7eUI0o/fNxf8A5K2euahqWnaRZyajqt/Da28S5lnuJQiIPUsSAK8x8Q/tqfs2aJqLaFpfxHi8RamOF0rwhaTatOzf3cWiyBT/ALxFUbH9i/8AZnj1mF/HOj3PjDWCpkSbxx4guNUlkA6sIriRo8fRAK7v4faz8KIZrnwV8NodNs/7PYiXT9OsBbRrtYoxQBVVwGG0lMgHgkGsnUgpJNq7NHWzqrJRbpUb6K7dSXpZezhe3qcH/wAL0/aL8dDZ8Jv2Vr%2Bwgk4j1b4iaxFpiIfU20PnTkexVD/Kg/Bb9pr4gfP8WP2mm0W1k/1mj/DfR0sse32y5Msx%2BqhP8PVdf8TeG/CtkdS8UeILHTbYdbi/u0hQf8CcgVwlz%2B1Z8KLud7HwH/bHi%2B6RsNB4T0aa8UfWUAQge5esquKw1B2qTSfa%2Bv3av8DCvhcJTdswxcpt/Z5lBP0hStJ/fI5D44eFrPwV8R/2ZfCmn6hf3cNj8YL2NLnVL57m4k/4orxQd0kshLOxz1Jr3ivC/j3q17rvxQ/Zo1jUdAutLnuPjDfPJp96yGWA/wDCFeKPlbYzLn6E17pW8ZKUU11PfpKnGlFU1aNlbfa2m%2Bu3fXuFFFFM0CiiigAooooAKKKKACiiigDxn9vD/kiGh/8AZZvhx/6muiV6lZeN/B2o6rNoVj4p0%2BW%2Bt5TFPZpdp5qODggpnP6V5b%2B3h/yRDQ/%2ByzfDj/1NdEr0Tx94V%2BFl7pF1r3xJ0bRRZ2kDS3eo6okaLbxqMs7StjYAOpyMVx4xZk4x%2BpKDlfVT59V2Thdp37xkvImbcVdW%2BZra34e0DxNZNpniPQ7PULZvvW99bJKh%2BqsCK%2BOP2g/GPw4i%2BJ13%2Bzz%2BwZ8MLzVfiohxq194X1u407R/DAJwZL%2BSFxEWBz%2B5UbjgrkNhWzPHn7TWrfFaz1bwR/wTZ8IeO9XlVZLSTx7Lq7WXhfTH5VpVlvd3nsnJ2oFzgFSw4Pt37MX7L/j39kv4U2fw/wDhvrfhrWTIftet32pWU0NzqV9IN0s7zq7mQs2cFlOFCjgCtJNZXS9rnWX89dNctKEoVZKLV/aTjGVOrGF/djFqMpSvtFO/y2KdPP6ip4eC9mviqqN/%2B3aUmleW7ck5KK2vJq3N/s5/sO/Gj9nmTVPiPaftFW/iHx94qWGXxjq3iTQTdR3sqA7Io5BKksUKA7VAPIAOF4VfUf8AhMv2ovDfy6/8GtA8QoOtx4Z8SG3fH/XK7RRn28ytb/hY3xF0j/kafgrqLIODPoWoQ3gPuEYxv%2BlLH8fvhrC4g1%2B/vdFmJwYtb0ue2x/wJ02/rXjYviTKsXiZV8RipUZy6VFKml0SSq01BJJJJRkkktPP0KGV4XB0lTw1SdNLpzNq73bU1JNt6t31d2ZH/DTuhaTx4%2B%2BF/jfw4F4kuL7w1JcQKf8Arra%2BauPfitXw5%2B0j8BPFbiHRfi5oLTE4FvcagkEufTy5SrfpXSaL4y8I%2BJAD4e8U6dfZ6fY71JP/AEEmmeI/AngjxhGYvFvg7StUUjBXUdPjnGP%2BBqa76M8RWpqdCtCpHvZW/wDAoSaOlU80gvcqwmv70WvxhL9DRtbu1vYFurK5jmicZWSJwyn6EdayvFPw6%2BH3jiMw%2BNfAmjawhGCuqaXFcAj0xIprkbr9kr4AvO15pPgU6POxyJ9A1K4sGU%2BoEEij8xUf/DPOu6V%2B88H/ALRHj2wZfuR3upw6hEP%2BA3MTsf8Avqtfa46PxUk/8Ml%2BUkvzJqTx0octbDxmvKcWvunFFHUv2GP2UL%2B7a/tPg1YaVcN/y38PXM%2BmsPobWSPFQf8ADH1jpn/Il/tEfFbQ1X/VQQeM3u4k9gl4kwx7Vq/8IR%2B1Do3z6R8ddB1fHSLXfB/l5%2Br206fooo/tr9rbSPnvfAfgXWlHbTteurN2/CWBwP8Avo0fXGvjpTXyv/6TJ/keW8Bkyd5YCUH3jC340akfyMr/AIUl%2B1HpPy%2BG/wBs26njX7kXiLwLYXXHoXg8hj9c0f2Z%2B3npH7u28WfCnW0Xo95o%2Bo2EjfUxzTKPwWtX/hcHxr075vEH7LesbB959H8RWF3%2BStJGx/Kl/wCGlbe2/wCQ18DviPYgfeZ/CjTqv427yCj%2B0MKvibXrGS/9tF7LKYfDXrU/%2B36y/wDS4TRk/wDCfftsaL8uqfs6eDNZx1fRfiBJBn6C4sx%2BpFH/AAvz9orT/m1/9ifxEEHV9J8WaVdfkDNGx/IVrf8ADW/wNg%2BXV9c1XTX7pqfhi/gx9S0GP1qzY/tXfs3agdsPxp8PofS5v1hx9fMximswwDdvax/8CS/Noanhr2p5m15SlRf/AKVCLMD/AIay1e1%2BXWP2Tfi5bEfeMXhu2uV/AwXLk/lS/wDDZ3gm3/5DXwg%2BKenDubz4bajgfikbA/hXb2Pxu%2BDGp4OnfF3wxcZ6eTr9u38nrWtPGfg%2B/wAGx8V6bNnp5V9G2fyNbxr0J/DNP0af5M6oQx8/4ePjL/uHSf8A6TUR5l/w3T%2BzrDxqereJbFu63ngHWEx%2BP2Uij/hvT9lBf9f8U2h/6%2BdAv4v/AEOAV67FPDOu%2BCZXHqjA06tTb2Ge9MRTf/cJ/pVPH/8Ahvr9j4ff%2BOulJ/11hnX%2BcYpR%2B3z%2Bxwf%2BbgtA/GVx/wCy16/SFVPUA/WgPY5//wA/qX/guf8A8tPIT%2B31%2BxwOn7QOgn2WSQ/yWj/hvj9kI/6v43adJ/1ytLh//QYzXr4AHQUUB7HP/wDn9S/8Fz/%2BWnkH/Def7Kzf6j4kXU//AF7eGNSl/wDQLc0f8NyfAaf/AJBC%2BL9QPYWXw91ds/8AfVsK9fqK4vrK0Gbq8iiHrJIF/nQ2luDoZ7bXE016Un%2BtU5v4WfFrRvi3p11qmieGPEemxWswjI8R%2BHrjT2lyM7o1nVS6%2B44zxXEfHKyvfC/xK8NfEPSNSkhiGt2kGseX4mujPIsjeSsEVgSbdlbeC7Da/wApIBPNek3nxA8B6fn7f420iDHXztSiXH5tXJ6v8Q/2VIPEsfjTW/GvgD%2B2oECQ6pPqFkbtFGcKshO8AZPAPc%2BtYyxGHh8U0vVpfqZ42MauCjSq14c6afM2obO90lJ%2Blr2et2rnmn7Ql94ePjjWNd1O5tpdZk0nTn%2BGt1E6tLLPHdfv4LN%2BpmdiFdUO5kcg5UHEE3hO81Lx5e%2BBtP0W6tvFk/iHXWu9TFlIofTbu0cpKZ8bTHvMaIu7KtGAAAuR6Y/7V/7Mulqtna/FjRWCDCQ6eWmwPYRKf0pP%2BGsPhHdfLoEXiXV27Lpng7UJM/QmEA/nWLzHAf8AP2Pyaf5XPGq4XKauIlUni4au7Ss3rvqm3zdIytdR01Mb4Daf4ju/H0Gt3HhTU9Ih03wFY6LrMeoabJbJLqEErf6ncoEyKu8eYmVIZMH06r4p/Cjxt8RdWtptE%2BPnibwpp8Vt5dxYeHbezDTvuJ8zzpoJHU4IGBxxnGc1nf8ADReoXny6F%2Bzz8Rrtj90zaFHaqfqbiZCPypP%2BFo/tCah/yB/2YZIFb7sms%2BMLSHHuVhEp/Cl9fwz%2BFt%2BkZP8A9tR6NH%2BzI4L6tKU6ibu%2BWNRX2/kUbLRXSlZ6t72WV/wxb4B1T5fHnxS%2BJPidD96HWfH16sR/4BbNEo/ACtHw9%2Bxb%2Byl4Yn%2B16f8AATw3PPnP2jVLAXsmfXfcb2z75zUn2j9r3VPmi034eaMjdBNc3t9Iv4KsKk/jR/wrX9ozVfm1z9pKGyVvvw6B4Qt48D0D3Dyn8cCj63OXwUZv5KP/AKVL9CIYHKVLmp5e5PvKEb/fVnNnf6J4d8P%2BGrQWHhzQrPT4B0hsrVIkH4KAKt7l3bNw3EZAzzivNf8Ahmmy1H/kb/jL8QNZVv8AWQzeJnton9tlqsQxW/8AD/4G/Cv4XalNrXgfwklpe3MHk3F7JcyzzSR7g21pJXZiMgHr2q4VMXOa5qaivOV39yVvxPYoVMa5KPsYwh/jTaXkoxt%2BKKXxr8QfEDwjpUfibwheNJDbkedp8OiG5MhGWZpZA%2BYoggOSqFs4wTkLUHxR8P6/4ruNE8V%2BG7%2B1utLtreaS8tLnxHc2FtMrBGjlJgBEuCvAfC4Y81c%2BK0um6nqGkeDtRvtXih1Kdo7saXeCEGJsRgSnBYqzMFwpByeuKzPHWnaPZtc6RB4N0e90zRNOh1G5sNWsjcB1XdGBFvbbFtSNjnackYwM5rxsdmOFpOvzSbUXFNK7alZz27cqblvomrN6GGIw9WrUqpv3Xy21eklrpZOy7rr2ONvtYtdf1mPxynhy7i1nxAdE1PwrI9m7ypuXyprbzAPlWNdzSKSARIWwd1dL4G8E%2BL9I8W%2BHtDudAuobfwrLqaHWWljMF5ZTsfIiUBt5f/UlsrgGE8ncK0o/EPilL%2Ba9sdaIifV5NKt9N8iNYoAYg0DqAu7cMhmySCCcAAU74V6gv9qWNvpmoTTQ6h4dS81KCe7eZ7e8DIrbi5JUtucEcDMR4rzcNmmGqY%2BFLlleUt/dV/ednZXveUW3qpQja6avbGjlsY1VOU23dPRJX1vrvvJXvulZbHUeJvh74E8a3lnqHjDwdpmqzadvNi%2Bo2STeQX27iu8HBO1efYVqQw2mn2ohgijghiXCoihVRR7DgCsXxhoXiHxFPb2WgfEGfRVRWN3HZ2sMkswONpDSA%2BXjnkA5yOmOchPgL4Hu3E3i261bxDIDkNrmqyzKP%2B2YKx/%2BO17dfFZisTOGDwql0c5VIRi3ZdIqdR221Ufusz1vZqFRyjBJvd6K/rpd/M4v9pi4t7v40fs33NrOksb/ABlvikkbBlYf8IV4o6Eda9prxL9o7TNN0b4wfs26XpFhDa20Hxkvlht7eIIiD/hCvFHAUcCvba9en7T2a9pbmsr2va/W19bX2vr3NlcKKKKsAooooAKKKKACiiigDmPDnxt%2BDHjH4g6z8JPCPxd8Mar4r8OIr%2BIfDOm6/bT6hpatja1xbI5kgB3LguozketFr8bfgzffFO5%2BBdl8XPDE3jezsBe3ng6LX7dtVgtSFIne0D%2BcsZDp85Xb8y88ivjj9njw94z8F/GrwHofiD4QeNdO1L4Y%2BJ/iTf8Aj/xMfA%2Bota6lbaxrEkloLW5SArqRvXntb1ktzKYRaN54ieMLV3wd8P8A4gxftSeHvhvL8KPFEOvaD%2B074k8e614zl8NXSaVN4dvNC1O3tpE1Mx/Zp5Ct7Yaf9lWQzJ9mZjGI4VegD3v9vD/kiGh/9lm%2BHH/qa6JXizeANK/4KFfth%2BOvCnj7Wr6X4U/CfUotOuPCEWtSrHr2ukl5J7lEb/UxFWRU4yy8EZda9f8A22fg/wDtP/GHwroumfAHxT4CW20nxh4b17UPDnjDTb2F9VbS9esdTMceqW0sgsQyWhXJsbrcxA%2BQNuXxT/gn7p37YfgL4TeItR8BfszfCi%2BudU%2BJXiiPxBrWsfGzUYbu/v7LWrzT5nfyvDLAxiS1fyyTkowYqjMyjuwc8Jh1PEyX7%2BGlJ21g5XU5J30fJ7qer95tWeq8vMcLXxtWlRavRu3UV/isvci11Tk7tbPlSd1o/qzXPA6aJ4ctPDPgbQdOtNJsrZbWx0eztvIitgSFBRYxtVVUnAxgcmrXjOXTZ9PtmnvrNPs%2B6YWV0SPP2qV2rypyD0ODyBxzXn3/AAnH/BQv/o1/4M/%2BH41b/wCZekfxp/wUHkAEn7LfwXYA5G7476scH/wlq%2BFzLhaGNnjKkKj5sSoqXPeSTi%2BZNWtLez5W5RdrWtKV/fo4r2UacbWUNraeXp%2BX4I7%2B41G%2BMzS2V1NbraPawwWe4EOzgMyvnJJ2sB14xmrOna9f6hfWxuhC9nqLTiCDyjuVEzhyxOCGA6Y/iFeXyeIP295dRXVpP2UfgsblBhZT8d9WyOCP%2BhX64J596g03Vf2/NLujdw/sx/B9yFZYUk%2BPerFYVY5KoP8AhFuASB69AK4KOR8RYfHxlGvem53dpNLlTVm4tNawvT9nC0E%2BWTvZW1lXw0qbTjrbt%2Bvrrd67o9T1r4QfC3xCxk1f4f6TK56zLZIkn/fSgN%2BtZv8AwonwtZf8iz4i8R6MOyab4gn2f98SM6/hivGJvjl%2B3Z4y%2BMut/A62/Zo%2BGdjqvhjwxpOu3V5a/H7VI4JYNSuNSt4UU/8ACMEs6tpU5YMoAEkeCxLBev0zxZ/wUQsLGOzn/Zu%2BD90yA5nn%2BPGq735J5x4WA9unavVnkuXYnMpxq5dBRtdVU4Jyel01BU6kXvq5NO3mjglRoOCldX7Wa/HY7j/hX3xQ07jQ/jfdug%2B7Hq%2BjW9x%2BbII2/Wjb%2B0Lp/Ak8Iamq92W5tHb8vMGa47/hOP8AgoX/ANGv/Bn/AMPxq3/zL0f8Jx/wUL/6Nf8Agz/4fjVv/mXro/1ew0P4FatT/wANabX3T9ojL2a6N/f/AMOdj/wnHxesv%2BQl8EjMB959M8QwSZ9wsojNH/C5ZLbjV/hP4xtSPvMujidR%2BMLvXHf8Jx/wUL/6Nf8Agz/4fjVv/mXrl9W/aO/bt0f4z6B8Drj9lD4SNqniLwvq%2Bu2dynx11TyI4NOudNt5kcnwxuDs2qQFQFIISTJUhQx/ZebU/wCFj5/9v06M/wAlTYcs%2BkvyPWv%2BGgvhdF8up6te2Dd11DRrqHH1LR4/Wtrwp8RPA3jlpU8IeKbPUGhUNMltMGZAehI6ivM/%2BE4/4KF/9Gv/AAZ/8Pxq3/zL0xPF/wDwUCilaeP9lf4LK7j5nX466qCfqf8AhFq3w1HPadde3r05w62pyjL5NVJR%2B9DSqJ6tfd/wT0Px7421Lw7JBY%2BH9PjurgzQG780NshhklEYJx/ExJCj254qD4g65Da3DWFv4UsNTkgsJL29F/gKkCZGF%2BRsucHAOBxyRXk/i7S/22PGs0V5rf7IfwQe5jmif7X/AMLw1TzWWNwwQsfC2dpxgj0JxUHiWD/gov4gIki%2BAfwbt5JrGSxv5F%2BNuqMZ7Zznav8AxTACMASA3ONx4NedjaXEXNiXTd1Jx5OVq6SUrq01ZNvkbbck1zWtZJxOM5Jp6r%2Bu5395pfwn1rVo4rj4H%2BHrqwa4t7e5vbrTbcuksyBkAQxkMo3KGO4EE8A8mqWj/Cn9nDxbqkVnN%2Bz34bt4L6KWXS7tdHtlF2kbAOQqKCn3geeoNeSfF74k/t5fBewtPHGt/s1/CKXRb7xv4d0/%2BzLL416o0322/wBQs9Jtm8xvDaqIVmuYZZBtLYRyueEPU%2BF7X/god4eu9Nln/Z3%2BC9xDo9hNaadEvxu1dGVJGQku3/CMncwEajIC9z345aWFzyWKj7anFw5tbxpWteztpdQ5dY/a59HocssDhaj9%2BlB%2BsYf/ACJ6JL%2ByF%2BzTK2//AIU7pCH1hjaP/wBBYU3/AIZB/Z2H%2Bq%2BHnl/9cdWu0/8AQZRXF%2BLrv/goh4sigjh%2BBnwx0kwMx36R%2B0DqkZkzjht3hRsgY4%2BprD/4Rz/gpNH/AKjwX4IH/XT9oC9b%2Bfg%2BvQxVKdGu40sujUj/ADKVGN/%2B3ZJNW23IllOWX0w0P/AYr9Eeof8ADIvwCH3PCmoJ/wBc/FGor/K4o/4ZG%2BBPbw/rA%2BnjDVP/AJJry/8Asb/gp0v%2Br8IfD0f73xzu2/8AdQrl/jb8Qv8AgpN8B/gx4u%2BOPinwJ4DutL8GeGL/AF3UrWw%2BNNw1xNb2ltJcSJGH8JqpcrGQoZlGSMkDmufmr/8AQqf/AIHQ/wDkkT/ZWW/9A0fuie8f8MjfAjv4d1c/Xxfqh/8Abmj/AIZE%2BAHR/B96/wD108S6g38568v/ALK/4Khn73hP4c/h8bbof%2B6jR/Yn/BTZv9b4P%2BH5/wBz463a/wDuoUc1d7ZU/wDwOh/8kw/srLf%2BgaP3RPUP%2BGQP2cm/1vw0hl/676hcyf8AoUpqW3/ZI/ZptTmP4MaGx/6a2u//ANCJryr/AIRn/gpC/M/gjwU3sn7Qt8n8vCFH/CI/8FC3/wBf8NfBr/8AdyurJ/6B4UFC%2BudMqj86lD/5BjWVZatsLD/wGH/yLPZrP9nL9n6wwbb4I%2BFAR0ZvD9ux/MoTWvY/DD4aaXj%2BzPh5oVvjp5GkQpj8lrwL/hBv265P%2BP34IeBbn1E/7UHiD%2BnhkVy/wRvf2m/j38GPCHxy0H9jv4aDTfGfhfT9d0631n9pPX2nit7u2juI0lVfDzIHCyAMFLDIOCRzW0ZZyv4eApR9asf/AGygzeGEw9P4KMF6KK/KB9dImlaPDtRbe1jHYBUX%2BlUL34geA9Nz/aPjbSLfHXz9SiTH5tXz/B8Nv2o4H8wfsNfAiRvW4%2BOmryn/AMf8MGtOy0b9r/TsGw/Yc/Z9hI7x/GPUAfz/AOEVrZT4nltToQ9Z1ZflCB0r2iVkkvvPVrz49fBqybZJ8SNKkPYW9yJSfpszmoD8fPAFxxo0Wtak3ZdP8PXcmfofLAP51w9n4m/b509dth%2Byf8EoB6Q/HPVV/l4Wqf8A4Tj/AIKF/wDRr/wZ/wDD8at/8y9H1fiWp8WIpR/w0pS/GdVfigtV7r7v%2BCdj/wALc1q8%2BTRPgz4snY9DdWsNqp/GWUEflR/wlnxt1D5NP%2BEdhZZ6Sap4jU4%2Bqwxv/OvJvAP7R37dvxE8V%2BN/CGj/ALKHwkhuPAfiiLQtVkufjrqgSeeTStP1MPFt8MElPJ1GFSWCnejjGAGbqP8AhOP%2BChf/AEa/8Gf/AA/Grf8AzL0f2VmdT%2BLj6n/bkKUP/bJv8Q5JPeX5HY/2f%2B0DqXyXXiXwtpSnvZ6bPdOPxkkQH8q1/CPhrxho13Ld%2BKfiJcaz5ke1IG06G3jiOc7gEG4ntyxrzf8A4Tj/AIKF/wDRr/wZ/wDD8at/8y9H/Ccf8FC/%2BjX/AIM/%2BH41b/5l63w%2BS4ehWjWlVqzktuerNr/wFcsH84sagk73f3ne%2BN/hjH4vu31KHxLqNnOwt8JBcbYv3MhdCQoDZBZsYYYJzUXxA8Jf2jp73Rv5/tk0b2ipa7UFzAxJMEgYPlQu4lhhvvEEZNefXvin/gojd3NvPH%2Bzl8IIFgcs8UPx41TbN7NnwqTj6Y61yw%2BOn7bfjL4x658Cbn9kn4StqXhrw1pGv3Ny/wAedWW3eDUbjU7aFEK%2BGdxdW0ycuCoXEkeCxLBfNzPJFi8LjIYeioVKlkpOeknb4klzcrjzSSvHV62cW09qcKEakZT1XVa/5r8LHteq%2BFLC9bTvGGhaVMt2zQvIbV13FDHtDbZD5ZcKQocjcF4BqC5/sk3UmpWrtZObKWQyDEbvcwyYcybMCRu3ORjp1rzzT9S/b907Sk0a3/Zm%2BECwIm1Vi%2BPurxkck5BTwsCDzjrU8eu/t6RWiWP/AAyd8FHijfeiy/HbVnw2c7st4XJJz3614lfhfM8cud8lOU4wc1duPtYxSbjycsoptylKSacnGGmjOynXw1F%2B6r2btok7Pve%2BttPS56DEJBqqNJbFNRl1SKeNxEcvbsi7wWx91RvGCeqium1Szur%2Bwe0tNTltJGxi4hVSyjPONwI5HH415F/wnH/BQodP2Xvgz/4fjVv/AJl6P%2BE4/wCChf8A0a/8Gf8Aw/Grf/MvX0WVcPU8uw9ejOo5xq72vB7Su24yT53zO804t2j1jd41cS6koyStb5/n00216kP7SNo1j8Yv2bbR7ua4MfxkvgZp2Bd/%2BKK8UckgAZ/CvbK%2BV/if4l/at1f9pP8AZ0tfjX8F/h74f0cfFzUWjvvC3xOvtYuTP/whfibahgn0WyUIQWJfzSQQBsOSV%2BqK96lShRpRpwVlFJLd6JWWrbb9W2%2B7b1Odtyd2FFFFaCCiiigAooooAKKKKACqPijxDYeEvDWo%2BK9VDm10yxmu7kRLlvLjQu2B3OFNXqju7S1v7WWxvbdJoZo2jmilUMrqRgqQeCCOMUAfN/7Gv7Uvx8%2BKnjDRvCvx/wBN8JI/jf4T6d8QPC6%2BE9Pubf8Asu3uJQk%2BmXTT3EwupIRNabbuMQLKXl/cRbBu8rsP%2BCj3xl%2BHXwwPxp8S/D/wZdeG/Hfwv8V%2BOvhnoGhadcWNzZS2N7aC3tNSuHnlS5e8XU4Z5J4oYPJdJlKTblevefgB%2Bwv4Q/Z01W31fwn8ZfHWpy6dounaBoY1%2B5064GleH7J5Xg0aErZITb5l%2BeaQveSCKLfct5a4xtJ/4JnfAa2tPEHh7xJ4q8W6/wCHtW8Ja54Y0Pwxq2o2y2nhbSdXuEuL%2B105re3inQPJDblHnlnkhW2iSJ41XaQDpv2ZPi58Y/Efj7x/8C/j/d%2BGdQ8TeBbrTJl1zwho9xp1jqFjf2nmxN9muLm5eGVJYrmJh5zhljjkGzeY09irzv4Afs56V8Bj4h1i4%2BJHibxp4i8V6jDd%2BIPFnjCSzN9d%2BRbR20EW2ytra3jijijAVY4lyzyO255HZvRKACvl34DftjfG34gfGLwtJ420zwsvgP4ma14u0zwVZ6XptzFqulyaLdyxQyXlw9y8V0t3b21zMVjhgNu3lx5nyZB9RV4Z4O/YM8DeAviTN8RvC/xd8bwC2utZuvCmhPPp0th4Wn1a9W81KWxR7IuzTyhx/pLziFJpY4BCr4oAp658VPjj8PP21PCPwz1rUfAOu6V8RG1NF0jQ/C91ba7oOj2FrNPFqN3eveSx3VuLp4rUoLeALNqkexmw%2B7I/4Jw/tT/F39o/wL537RfifRLLx3/wjOkarrPw8t/hPrfhS%2B8ONdRymRZF1e7mfUYDKjxR3UCRxFraXlycJ1vgb9jT/hAf2lPFn7S%2BnftKfEK7vfGk6nWfD2pRaHNYrbxW7w2tlDL/AGYL2C1tzI80cKXIXznkkfeZZfM2Pg3%2By/bfC34i6p8X/Fvxp8ZfEHxTqWiW%2BjJrfjI6bG9np8Mskwt4YtNsrSBQ0srO7tG0jEIC%2B1FUAHqNFFFAHy7%2B01%2B2N8bfhX8U/GL/AA80zws3g34TaL4b1Px3bazptzNqOsR6pfXEU0djNHcxx2jW1rb%2BeGkiuBPJKIsQhTIZv2yP2lfiZ8Cv2hfB1nbav4e8JeBpPCOpXniX4i%2BI/hFrPiK202Rb2wRbSW9sLu3g0iGSNpZXnu28r/RlJ4Su2%2BM/7EPw4%2BN3xSPxM1zxz4q0uLUbXSLXxf4a0a6tU07xTBpd7Je2MV8stvJMFjmmlz9nlgMschimMsYVBP8AHT9km6/aE8Ey/DHx5%2B0t8Q4vDGqaPcaT4u0HTF0WGLxJZTlxNDcy/wBmmeENE7QFrSS3byz13/PQB55qX7Y3xttf2gLuWDTPC3/CsdP%2BM1n8NLmwfTbk63LeXGmwTjU1uvtPkLEt5cxW32U25Yxq8/ng4hr6irxe4/Yd%2BGs/x7/4XgPG3imO0fxTD4on8Bx3NoNDm16LTl06LU2T7N9p81bZIwIhcC38yJJjCZR5le0UAFfPX7Xn7RP7QHgP4gQfC79nC18Irqen/DXXfG%2Bs3HjLTbm6huoLCS1ih02EW9xAYJLh7iTN0xlWAQj9xMZML9C15H%2B0v%2Bx54P8A2mdQsta1H4k%2BL/COoW/h/U/D99qPg28tYZtS0XUPIN5p8xubacLHI1tCwliEdxEUJimj3vuAOa/ac%2BO/jKD9iv8A4a6%2BF/izwnoejab4LHjK8s/GvgO415rqFLVL22ggit9SsjHc%2BYECHMhMmwKobBrhr39rH9q34ffHXwH8NP2htc8H%2BCNIu/h94QvPFuu/8Kh17UdL1HxLqF7e22o6Vb6tFfrZ6QFaC0SD7YZmL3sf%2Bt4Q%2B4%2BPP2YfBfxH%2BGll8H/E/iTWW8Oad4o0nV7TSrUWkMaw6beW93a6YQluN1kJLWIMjZkdAUaQqxFVPjp%2By1B%2B0Frlsnjb43%2BNbfwks1jNqfw90w6ZHpWqyWtytzGZ5WsmvgGkSPekV1GjrGFK4Zw4B6pRRRQB4v8A8FBfi78cP2fv2R/Gnx6%2BAV74Uj1jwToV3rl1B4w0W5vra7tLW2lme3RLa6tmSV2RFEhcqgLEo/Aq7%2B2D8T/F3gTwd4a8C/D3TNBuNe%2BI/jK18KabL4q02S90y1WeGe4uZrm2jlha5RbS1ucQiWPzHKKXUEkan7WP7ONl%2B1p8CNe/Z91r4q%2BKfCOk%2BJ7KWx1y/wDCC6d9rubKWJ4prbdf2l1GiOr8siLICo2uvOc7xv8AsrSfEr4dWfgjx5%2B0F461HU9J1PTtU0DxiYtHg1PSdSsySt5CINOS2Z5AzrIksEkLJI6eWFYqQDwST9u79q3xlof/AAhnwz0bwBbeNvCeheOtS8cXOs6RezabqT%2BHNYGlR21lHHdpJaC%2BbdOJpJLj7IoCGO5J3D62%2BF/j3TPip8NPDvxP0S2lhsvEmhWmqWkM%2BN6RXEKSorY7gOAfevEPEP8AwTS%2BE%2BseBdJ8H6N8XPiBoN5Z6b4h07XfE%2Bi6lYrqXiS0127W91iK9eWzeMG5ulE3mW0cEsDZFu8CkqfoLQ9E0jwzoln4b8P6fFaWGn2sdtZWkC7UhhjUKiKOwCgAD0FAFqua%2BMUnxNh%2BGWsT/BzWtB07xLFa79MvfE2lTX1jEVYFzLBBPbySjyw%2BFWWP5iuWxmulrC%2BJng7VPiD4D1PwXo3xB1nwrcajb%2BSniDw/DZyXlmCQWaJb23uLckgFT5kLjDHABwQAcF8BPij8YP2hv2I/h/8AGvw/c%2BGtH8a%2BOPhxomuNLeaVcXGl2d5eWUFxKfsy3CTSRKZH2x%2BerEBQZOrV4Be/tmftRaD8HNPXwHpHhW6g0f453fgTUPHng74Na7r%2BjyaFZ6JdXL6jaaJpt611GsWowppLkXMsSSwStnaVC%2BxeEv2Gp/Bn7JafseaT%2B1v8V10G18EJ4V0rX4Z9EttY02xjRIonguLbS41WZIEEKylCdpLnMuJRo%2BD/ANkbxN8PfghpPwN8A/tefEbRLXQrhF0nV9L0TwrDcWtglusEempCuifY1tk2h1It/ODHHm7MIAD0L4O%2BN9N%2BJXwn8NfEDSPHGkeJrfWdDtbtPEPh%2B0a3sdSLxKxuIInllaGNySyxtJIyAhWdiCT0lcv8FfhD4N%2BAfwp0H4OfD%2BK5XSPD2npaWbX1y008oGS0ssjcvI7FnZu7MTgdK6igArxf9jn4u/HD4lXXxS8HfH698KXes/D/AOJjeHra%2B8H6Lc2FrcWraNpWpIWiubq5cyK2oPGXDhXEasETJFe0V4v8Cf2PNY%2BBPjTxf41tP2sviV4jk8ceK4fEGvWPiG08OiB7tLW3syE%2ByaRA6Rvb2ltEwD5xCGUq7OzAHhngj9v/AOKvg34b/GL4ifF6Dw1beLvDWl%2BINY0T4YN8KNa8M31/HZX76fZXjalf3UkWrW8ka6eslzaw7IvtMXIGxD7z%2BzJ8XPjH4j8feP8A4F/H%2B78M6h4m8C3WmTLrnhDR7jTrHULG/tPNib7NcXNy8MqSxXMTDznDLHHINm8xpma5%2BwR4G%2BImq%2BINV%2BPXxg8c/EM654J1fwlaQeJJ9Otk0XSdTkge9htP7NsrU%2BY5tLTE8xlmT7Mm11Jct2PwA/Zz0r4DHxDrFx8SPE3jTxF4r1GG78QeLPGElmb678i2jtoIttlbW1vHFHFGAqxxLlnkdtzyOzAHolFFFAHi/wAFfi78cNa/a4%2BLPwF%2BKl74UutH8MaF4e1zwhP4f0W5tbmK01K51mH7PePNdTLcSoumRN5kaQLmVxsOAa5/xJ8RP2lvCv7fngv4QaZ4q%2BHOq%2BHPF2kaxrHiGzg%2BH15b6zpeg6ciRW%2B/Uf7VeKWQ6hqNuqq1oqsjXRVVKk10Gi/seaxoH7RfjD9pLTv2sviUNQ8Z6VZaZe6E9p4dOn2dpZz3U1pFAP7I88eUb26UNJNIzLMd5cqhXtNL%2BBfhXS/jh4l/aBTVtTm1/wASeGNN0BvPmjMOnWVlLdzItsojBRnlvZXkZi%2B8pEOBGoAB47/wTh/an%2BLv7R/gXzv2i/E%2BiWXjv/hGdI1XWfh5b/CfW/Cl94ca6jlMiyLq93M%2BowGVHijuoEjiLW0vLk4T6Wry74N/sv23wt%2BIuqfF/wAW/Gnxl8QfFOpaJb6Mmt%2BMjpsb2enwyyTC3hi02ytIFDSys7u0bSMQgL7UVR6jQAV4P%2B1r8Zv2gvgN4k8L%2BLvBniDwRe%2BHta8XaF4dtvAt94cvJNc1y5vb5YblrS9jvVihMFq0l1sa0mHl2kzO8aAvH7xXjPxJ/Y5X4iftO6J%2B1Nb/ALR3xA0LVfD%2BhjStM0DTIdEuNLggebzblo0vtMuJoZbkCOOaWKVHaOGNFZAOQDhf22P2ofjN8LfGXiCz%2BDXhzwddJ8J/hTdfErxMPFmlT3M2owq11DFp9hJFcQixnlhtdQU3bidU3Rr5Lq7kVY/22fjFqHxrOvaVp3hc/CuL4vWHw6exl0u5/tyW5u9Mt7hdUW5%2B0%2BSkS3l1FbG1NuWMavN54OIa7j46fsI%2BCv2g2im8bfGDxxbTXfhe78MeL59IuNOgbxXoVzMJZNMvh9iKrF99Fkthbzok0oWUeY5Nqf8AYc%2BGk3x6/wCF3r418URWjeKYfFE/gKK5tBoc2vQ6cunRamyfZvtIlW2SMCIXAt/MiSYwmUeZQB7RRRRQAUUUUAFFFFABRRRQAUUUUAFFFFABRRRQAUUUUAFFFFABRRRQAUUUUAFFFFABRRRQAUUUUAFFFFABRRRQAUUUUAFFFFABRRRQAUUUUAFFFFABRRRQAUUUUAFFFFABRRRQAUUUUAFFFFABRRRQAUUUUAf/2Q%3D%3D\">"
      ]
     },
     "metadata": {},
     "output_type": "display_data"
    }
   ],
   "source": [
    "try:\n",
    "    display_html(HTML(anim.to_html5_video()))\n",
    "# In case the build-in renderers are unaviable, fall back to\n",
    "# a custom one, that doesn't require external libraries\n",
    "except RuntimeError:\n",
    "    anim.save(None, writer=matplotlib_utils.SimpleMovieWriter(0.001))"
   ]
  },
  {
   "cell_type": "markdown",
   "metadata": {},
   "source": [
    "# Logistic regression\n",
    "Your assignment is to implement the logistic regression\n",
    "\n",
    "Plan:\n",
    "* Use a shared variable for weights\n",
    "* Use a matrix placeholder for `X`\n",
    " \n",
    "We shall train on a two-class MNIST dataset\n",
    "* please note that target `y` are `{0,1}` and not `{-1,1}` as in some formulae"
   ]
  },
  {
   "cell_type": "code",
   "execution_count": 30,
   "metadata": {},
   "outputs": [
    {
     "name": "stdout",
     "output_type": "stream",
     "text": [
      "y [shape - (360,)]: [0 1 0 1 0 1 0 0 1 1]\n",
      "X [shape - (360, 64)]:\n"
     ]
    }
   ],
   "source": [
    "from sklearn.datasets import load_digits\n",
    "mnist = load_digits(2)\n",
    "\n",
    "X, y = mnist.data, mnist.target\n",
    "\n",
    "print(\"y [shape - %s]:\" % (str(y.shape)), y[:10])\n",
    "print(\"X [shape - %s]:\" % (str(X.shape)))"
   ]
  },
  {
   "cell_type": "code",
   "execution_count": 31,
   "metadata": {},
   "outputs": [
    {
     "name": "stdout",
     "output_type": "stream",
     "text": [
      "X:\n",
      " [[  0.   0.   5.  13.   9.   1.   0.   0.   0.   0.]\n",
      " [  0.   0.   0.  12.  13.   5.   0.   0.   0.   0.]\n",
      " [  0.   0.   1.   9.  15.  11.   0.   0.   0.   0.]]\n",
      "y:\n",
      " [0 1 0 1 0 1 0 0 1 1]\n"
     ]
    },
    {
     "data": {
      "image/png": "[encoded data removed]",
      "text/plain": [
       "<matplotlib.figure.Figure at 0x7fc67344d390>"
      ]
     },
     "metadata": {},
     "output_type": "display_data"
    }
   ],
   "source": [
    "print('X:\\n',X[:3,:10])\n",
    "print('y:\\n',y[:10])\n",
    "plt.imshow(X[0].reshape([8,8]));"
   ]
  },
  {
   "cell_type": "markdown",
   "metadata": {},
   "source": [
    "It's your turn now!\n",
    "Just a small reminder of the relevant math:\n",
    "\n",
    "$$\n",
    "P(y=1|X) = \\sigma(X \\cdot W + b)\n",
    "$$\n",
    "$$\n",
    "\\text{loss} = -\\log\\left(P\\left(y_\\text{predicted} = 1\\right)\\right)\\cdot y_\\text{true} - \\log\\left(1 - P\\left(y_\\text{predicted} = 1\\right)\\right)\\cdot\\left(1 - y_\\text{true}\\right)\n",
    "$$\n",
    "\n",
    "$\\sigma(x)$ is available via `tf.nn.sigmoid` and matrix multiplication via `tf.matmul`"
   ]
  },
  {
   "cell_type": "code",
   "execution_count": 32,
   "metadata": {
    "collapsed": true
   },
   "outputs": [],
   "source": [
    "from sklearn.model_selection import train_test_split\n",
    "X_train, X_test, y_train, y_test = train_test_split(\n",
    "    X, y, random_state=42)"
   ]
  },
  {
   "cell_type": "markdown",
   "metadata": {},
   "source": [
    "__Your code goes here.__ For the training and testing scaffolding to work, please stick to the names in comments."
   ]
  },
  {
   "cell_type": "code",
   "execution_count": 33,
   "metadata": {},
   "outputs": [],
   "source": [
    "# Model parameters - weights and bias\n",
    "# weights = tf.Variable(...) shape should be (X.shape[1], 1)\n",
    "# b = tf.Variable(...)\n",
    "weights = tf.Variable(tf.random_normal(shape=(X.shape[1], 1), stddev=0.01, dtype=tf.float32))\n",
    "b = tf.Variable(0.0, tf.float32)\n",
    "s.run(tf.global_variables_initializer())"
   ]
  },
  {
   "cell_type": "code",
   "execution_count": 34,
   "metadata": {},
   "outputs": [],
   "source": [
    "# Placeholders for the input data\n",
    "# input_X = tf.placeholder(...)\n",
    "# input_y = tf.placeholder(...)\n",
    "input_X = tf.placeholder(tf.float32, (None, None))\n",
    "input_y = tf.placeholder(tf.float32, (None))"
   ]
  },
  {
   "cell_type": "code",
   "execution_count": 35,
   "metadata": {},
   "outputs": [],
   "source": [
    "# The model code\n",
    "\n",
    "# Compute a vector of predictions, resulting shape should be [input_X.shape[0],]\n",
    "# This is 1D, if you have extra dimensions, you can  get rid of them with tf.squeeze .\n",
    "# Don't forget the sigmoid.\n",
    "# predicted_y = <predicted probabilities for input_X>\n",
    "predicted_y = tf.squeeze(tf.sigmoid(tf.matmul(input_X, weights) + b))\n",
    "# Loss. Should be a scalar number - average loss over all the objects\n",
    "# tf.reduce_mean is your friend here\n",
    "# loss = <logistic loss (scalar, mean over sample)>\n",
    "loss = - tf.reduce_mean(input_y * tf.log(predicted_y) + (1-input_y) * tf.log(1-predicted_y))\n",
    "# See above for an example. tf.train.*Optimizer\n",
    "# optimizer = <optimizer that minimizes loss>\n",
    "optimizer = tf.train.AdamOptimizer(0.01).minimize(loss)"
   ]
  },
  {
   "cell_type": "markdown",
   "metadata": {},
   "source": [
    "A test to help with the debugging"
   ]
  },
  {
   "cell_type": "code",
   "execution_count": 36,
   "metadata": {},
   "outputs": [],
   "source": [
    "validation_weights = 1e-3 * np.fromiter(map(lambda x:\n",
    "        s.run(weird_psychotic_function, {my_scalar:x, my_vector:[1, 0.1, 2]}),\n",
    "                                   0.15 * np.arange(1, X.shape[1] + 1)),\n",
    "                                   count=X.shape[1], dtype=np.float32)[:, np.newaxis]\n",
    "# Compute predictions for given weights and bias\n",
    "prediction_validation = s.run(\n",
    "    predicted_y, {\n",
    "    input_X: X,\n",
    "    weights: validation_weights,\n",
    "    b: 1e-1})\n",
    "\n",
    "# Load the reference values for the predictions\n",
    "validation_true_values = np.loadtxt(\"validation_predictons.txt\")\n",
    "\n",
    "assert prediction_validation.shape == (X.shape[0],),\\\n",
    "       \"Predictions must be a 1D array with length equal to the number \" \\\n",
    "       \"of examples in input_X\"\n",
    "assert np.allclose(validation_true_values, prediction_validation)\n",
    "loss_validation = s.run(\n",
    "        loss, {\n",
    "            input_X: X[:100],\n",
    "            input_y: y[-100:],\n",
    "            weights: validation_weights+1.21e-3,\n",
    "            b: -1e-1})\n",
    "assert np.allclose(loss_validation, 0.728689)"
   ]
  },
  {
   "cell_type": "code",
   "execution_count": 37,
   "metadata": {},
   "outputs": [
    {
     "name": "stdout",
     "output_type": "stream",
     "text": [
      "loss at iter 0:0.3994\n",
      "train auc: 0.999066754502\n",
      "test auc: 1.0\n",
      "loss at iter 1:0.1863\n",
      "train auc: 0.999835309618\n",
      "test auc: 1.0\n",
      "loss at iter 2:0.0939\n",
      "train auc: 0.999890206412\n",
      "test auc: 1.0\n",
      "loss at iter 3:0.0742\n",
      "train auc: 0.999945103206\n",
      "test auc: 1.0\n",
      "loss at iter 4:0.0639\n",
      "train auc: 1.0\n",
      "test auc: 1.0\n"
     ]
    }
   ],
   "source": [
    "from sklearn.metrics import roc_auc_score\n",
    "s.run(tf.global_variables_initializer())\n",
    "for i in range(5):\n",
    "    s.run(optimizer, {input_X: X_train, input_y: y_train})\n",
    "    loss_i = s.run(loss, {input_X: X_train, input_y: y_train})\n",
    "    print(\"loss at iter %i:%.4f\" % (i, loss_i))\n",
    "    print(\"train auc:\", roc_auc_score(y_train, s.run(predicted_y, {input_X:X_train})))\n",
    "    print(\"test auc:\", roc_auc_score(y_test, s.run(predicted_y, {input_X:X_test})))"
   ]
  },
  {
   "cell_type": "markdown",
   "metadata": {},
   "source": [
    "### Coursera submission"
   ]
  },
  {
   "cell_type": "code",
   "execution_count": 38,
   "metadata": {
    "collapsed": true
   },
   "outputs": [],
   "source": [
    "grade_submitter = grading.Grader(\"BJCiiY8sEeeCnhKCj4fcOA\")"
   ]
  },
  {
   "cell_type": "code",
   "execution_count": 39,
   "metadata": {
    "collapsed": true
   },
   "outputs": [],
   "source": [
    "test_weights = 1e-3 * np.fromiter(map(lambda x:\n",
    "    s.run(weird_psychotic_function, {my_scalar:x, my_vector:[1, 2, 3]}),\n",
    "                               0.1 * np.arange(1, X.shape[1] + 1)),\n",
    "                               count=X.shape[1], dtype=np.float32)[:, np.newaxis]"
   ]
  },
  {
   "cell_type": "markdown",
   "metadata": {},
   "source": [
    "First, test prediction and loss computation. This part doesn't require a fitted model."
   ]
  },
  {
   "cell_type": "code",
   "execution_count": 40,
   "metadata": {
    "collapsed": true
   },
   "outputs": [],
   "source": [
    "prediction_test = s.run(\n",
    "    predicted_y, {\n",
    "    input_X: X,\n",
    "    weights: test_weights,\n",
    "    b: 1e-1})"
   ]
  },
  {
   "cell_type": "code",
   "execution_count": 41,
   "metadata": {
    "collapsed": true
   },
   "outputs": [],
   "source": [
    "assert prediction_test.shape == (X.shape[0],),\\\n",
    "       \"Predictions must be a 1D array with length equal to the number \" \\\n",
    "       \"of examples in X_test\""
   ]
  },
  {
   "cell_type": "code",
   "execution_count": 42,
   "metadata": {
    "collapsed": true
   },
   "outputs": [],
   "source": [
    "grade_submitter.set_answer(\"0ENlN\", prediction_test)"
   ]
  },
  {
   "cell_type": "code",
   "execution_count": 43,
   "metadata": {
    "collapsed": true
   },
   "outputs": [],
   "source": [
    "loss_test = s.run(\n",
    "    loss, {\n",
    "        input_X: X[:100],\n",
    "        input_y: y[-100:],\n",
    "        weights: test_weights+1.21e-3,\n",
    "        b: -1e-1})\n",
    "# Yes, the X/y indices mistmach is intentional"
   ]
  },
  {
   "cell_type": "code",
   "execution_count": 44,
   "metadata": {
    "collapsed": true
   },
   "outputs": [],
   "source": [
    "grade_submitter.set_answer(\"mMVpM\", loss_test)"
   ]
  },
  {
   "cell_type": "code",
   "execution_count": 45,
   "metadata": {
    "collapsed": true
   },
   "outputs": [],
   "source": [
    "grade_submitter.set_answer(\"D16Rc\", roc_auc_score(y_test, s.run(predicted_y, {input_X:X_test})))"
   ]
  },
  {
   "cell_type": "markdown",
   "metadata": {},
   "source": [
    "Please use the credentials obtained from the Coursera assignment page."
   ]
  },
  {
   "cell_type": "code",
   "execution_count": 48,
   "metadata": {},
   "outputs": [
    {
     "name": "stdout",
     "output_type": "stream",
     "text": [
      "Submitted to Coursera platform. See results on assignment page!\n"
     ]
    }
   ],
   "source": [
    "grade_submitter.submit('', '')"
   ]
  }
 ],
 "metadata": {
  "kernelspec": {
   "display_name": "Python 3",
   "language": "python",
   "name": "python3"
  },
  "language_info": {
   "codemirror_mode": {
    "name": "ipython",
    "version": 3
   },
   "file_extension": ".py",
   "mimetype": "text/x-python",
   "name": "python",
   "nbconvert_exporter": "python",
   "pygments_lexer": "ipython3",
   "version": "3.6.5"
  }
 },
 "nbformat": 4,
 "nbformat_minor": 1
}
