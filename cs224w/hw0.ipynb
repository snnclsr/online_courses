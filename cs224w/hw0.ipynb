{
 "cells": [
  {
   "cell_type": "code",
   "execution_count": 1,
   "metadata": {},
   "outputs": [],
   "source": [
    "from itertools import chain\n",
    "\n",
    "import snap\n",
    "\n",
    "import numpy as np\n",
    "import matplotlib.pyplot as plt"
   ]
  },
  {
   "cell_type": "markdown",
   "metadata": {},
   "source": [
    "# Analyzing the Wikipedia voters network"
   ]
  },
  {
   "cell_type": "code",
   "execution_count": 2,
   "metadata": {},
   "outputs": [],
   "source": [
    "small_example_nodes = [\n",
    "    1, 2, 3\n",
    "]\n",
    "\n",
    "small_example_edges = [\n",
    "    [1, 2],\n",
    "    [2, 1],\n",
    "    [1, 3],\n",
    "    [1, 1]\n",
    "]"
   ]
  },
  {
   "cell_type": "code",
   "execution_count": 3,
   "metadata": {},
   "outputs": [],
   "source": [
    "small_graph = snap.TNGraph.New()\n",
    "\n",
    "for node in small_example_nodes:\n",
    "    small_graph.AddNode(node)\n",
    "    \n",
    "for edge in small_example_edges:\n",
    "    small_graph.AddEdge(*edge)"
   ]
  },
  {
   "cell_type": "code",
   "execution_count": 4,
   "metadata": {},
   "outputs": [],
   "source": [
    "with open(\"Wiki-Vote.txt\", \"r\") as f:\n",
    "    data = f.read().split('\\n')"
   ]
  },
  {
   "cell_type": "code",
   "execution_count": 5,
   "metadata": {},
   "outputs": [],
   "source": [
    "edge_list = [d.split('\\t') for d in data[4:-1]]\n",
    "edge_list = [list(map(int, edge)) for edge in edge_list]"
   ]
  },
  {
   "cell_type": "code",
   "execution_count": 6,
   "metadata": {},
   "outputs": [],
   "source": [
    "nodes = list(set(list(chain.from_iterable(edge_list))))"
   ]
  },
  {
   "cell_type": "code",
   "execution_count": 7,
   "metadata": {},
   "outputs": [
    {
     "data": {
      "text/plain": [
       "[[30, 1412], [30, 3352], [30, 5254]]"
      ]
     },
     "execution_count": 7,
     "metadata": {},
     "output_type": "execute_result"
    }
   ],
   "source": [
    "edge_list[:3]"
   ]
  },
  {
   "cell_type": "code",
   "execution_count": 8,
   "metadata": {},
   "outputs": [],
   "source": [
    "# Initializing the graph\n",
    "wiki_voters_graph = snap.TNGraph.New()"
   ]
  },
  {
   "cell_type": "code",
   "execution_count": 9,
   "metadata": {},
   "outputs": [],
   "source": [
    "# Adding nodes to the graph.\n",
    "for node in nodes:\n",
    "    wiki_voters_graph.AddNode(node)\n",
    "    \n",
    "# Adding edges to the graph.\n",
    "for edge in edge_list:\n",
    "    wiki_voters_graph.AddEdge(*edge) # edge[0], edge[1]"
   ]
  },
  {
   "cell_type": "code",
   "execution_count": 10,
   "metadata": {},
   "outputs": [
    {
     "name": "stdout",
     "output_type": "stream",
     "text": [
      "Small-Network: Nodes 3, Edges 4\n",
      "Wiki-Network: Nodes 7115, Edges 103689\n"
     ]
    }
   ],
   "source": [
    "print(\"Small-Network: Nodes %d, Edges %d\" % (small_graph.GetNodes(), small_graph.GetEdges()))\n",
    "print(\"Wiki-Network: Nodes %d, Edges %d\" % (wiki_voters_graph.GetNodes(), wiki_voters_graph.GetEdges()))"
   ]
  },
  {
   "cell_type": "markdown",
   "metadata": {},
   "source": [
    "### 1-) The number of nodes in the network"
   ]
  },
  {
   "cell_type": "code",
   "execution_count": 11,
   "metadata": {},
   "outputs": [
    {
     "name": "stdout",
     "output_type": "stream",
     "text": [
      "The number of nodes in the small network: 3\n",
      "The number of nodes in the wiki-network is: 7115\n"
     ]
    }
   ],
   "source": [
    "print(\"The number of nodes in the small network:\", small_graph.GetNodes())\n",
    "print(\"The number of nodes in the wiki-network is:\", wiki_voters_graph.GetNodes())"
   ]
  },
  {
   "cell_type": "markdown",
   "metadata": {},
   "source": [
    "### 2-) The number of nodes with a self-edge (self-loop), i.e., the number of nodes a ∈ V where (a, a) ∈ E. (Gsmall has 1 self-edge.)"
   ]
  },
  {
   "cell_type": "code",
   "execution_count": 12,
   "metadata": {},
   "outputs": [
    {
     "name": "stdout",
     "output_type": "stream",
     "text": [
      "Small-Graph the number of nodes with a self-loop: 1\n",
      "The number of nodes with a self-loop: 0\n",
      "1\n",
      "0\n"
     ]
    }
   ],
   "source": [
    "def get_self_edge_count(graph):\n",
    "        \n",
    "    self_edge_count = 0\n",
    "    for edge in graph.Edges():\n",
    "        if edge.GetSrcNId() == edge.GetDstNId():\n",
    "            self_edge_count += 1\n",
    "        \n",
    "    return self_edge_count\n",
    "\n",
    "\n",
    "small_self_edge_count = get_self_edge_count(small_graph)\n",
    "print(\"Small-Graph the number of nodes with a self-loop:\", small_self_edge_count)\n",
    "\n",
    "self_edge_count = get_self_edge_count(wiki_voters_graph)\n",
    "print(\"The number of nodes with a self-loop:\", self_edge_count)\n",
    "\n",
    "print(snap.CntSelfEdges(small_graph))\n",
    "print(snap.CntSelfEdges(wiki_voters_graph))"
   ]
  },
  {
   "cell_type": "markdown",
   "metadata": {},
   "source": [
    "### 3-) The number of directed edges in the network, i.e., the number of ordered pairs (a, b) ∈ E for which a 6= b."
   ]
  },
  {
   "cell_type": "code",
   "execution_count": 13,
   "metadata": {},
   "outputs": [
    {
     "name": "stdout",
     "output_type": "stream",
     "text": [
      "Small-Graph the number of directed edges: 3\n",
      "Wiki-Graph the number of directed edges: 103689\n",
      "3\n",
      "103689\n"
     ]
    }
   ],
   "source": [
    "def get_directed_edge_count(graph):\n",
    "    \n",
    "    count = 0\n",
    "    for edge in graph.Edges():\n",
    "        if edge.GetSrcNId() != edge.GetDstNId():\n",
    "            count += 1\n",
    "            \n",
    "    return count\n",
    "\n",
    "\n",
    "small_directed_edge_count = get_directed_edge_count(small_graph)\n",
    "print(\"Small-Graph the number of directed edges:\", small_directed_edge_count)\n",
    "\n",
    "directed_edge_count = get_directed_edge_count(wiki_voters_graph)\n",
    "print(\"Wiki-Graph the number of directed edges:\", directed_edge_count)\n",
    "\n",
    "print(snap.CntUniqDirEdges(small_graph))\n",
    "print(snap.CntUniqDirEdges(wiki_voters_graph))"
   ]
  },
  {
   "cell_type": "markdown",
   "metadata": {},
   "source": [
    "### 4-) The number of undirected edges in the network, i.e., the number of unique unordered pairs (a, b), a 6= b, for which (a, b) ∈ E or (b, a) ∈ E (or both)."
   ]
  },
  {
   "cell_type": "code",
   "execution_count": 14,
   "metadata": {},
   "outputs": [
    {
     "name": "stdout",
     "output_type": "stream",
     "text": [
      "Small-Graph the number of undirected edges: 2\n",
      "Wiki-Graph the number of undirected edges: 100762\n",
      "2\n",
      "100762\n"
     ]
    }
   ],
   "source": [
    "def get_undirected_edge_count(graph):\n",
    "    \n",
    "    undirected_edges = set()\n",
    "    for edge in graph.Edges():\n",
    "        if edge.GetSrcNId() != edge.GetDstNId():\n",
    "            undirected_edges.add(frozenset((edge.GetSrcNId(), edge.GetDstNId())))\n",
    "        \n",
    "    return len(undirected_edges)\n",
    "\n",
    "\n",
    "small_undirected_edge_count = get_undirected_edge_count(small_graph)\n",
    "print(\"Small-Graph the number of undirected edges:\", small_undirected_edge_count)\n",
    "\n",
    "undirected_edge_count = get_undirected_edge_count(wiki_voters_graph)\n",
    "print(\"Wiki-Graph the number of undirected edges:\", undirected_edge_count)\n",
    "\n",
    "print(snap.CntUniqUndirEdges(small_graph))\n",
    "print(snap.CntUniqUndirEdges(wiki_voters_graph))"
   ]
  },
  {
   "cell_type": "markdown",
   "metadata": {},
   "source": [
    "### 5-) The number of reciprocated edges in the network, i.e., the number of unique unordered pairs of nodes (a, b), a 6= b, for which (a, b) ∈ E and (b, a) ∈ E. (Gsmall has 1 reciprocated edge.)"
   ]
  },
  {
   "cell_type": "code",
   "execution_count": 76,
   "metadata": {},
   "outputs": [
    {
     "name": "stdout",
     "output_type": "stream",
     "text": [
      "Number of reciprocated edges:  1\n",
      "Number of reciprocated edges:  2927\n"
     ]
    }
   ],
   "source": [
    "# Some weird, dirty solution.\n",
    "\n",
    "def n_of_reciprocated_edges(graph):\n",
    "    \n",
    "    undirected_edges = set()\n",
    "    count = 0\n",
    "\n",
    "    for edge in graph.Edges():\n",
    "        if edge.GetSrcNId() != edge.GetDstNId():\n",
    "            pair = frozenset((edge.GetSrcNId(), edge.GetDstNId()))\n",
    "            if pair in undirected_edges:\n",
    "                count += 1\n",
    "            else:\n",
    "                undirected_edges.add(pair)\n",
    "    \n",
    "    return count\n",
    "\n",
    "small_graph_count = n_of_reciprocated_edges(small_graph)\n",
    "wiki_voters_graph_count = n_of_reciprocated_edges(wiki_voters_graph)\n",
    "\n",
    "print(\"Number of reciprocated edges: \", small_graph_count)            \n",
    "print(\"Number of reciprocated edges: \", wiki_voters_graph_count)"
   ]
  },
  {
   "cell_type": "markdown",
   "metadata": {},
   "source": [
    "### 6-) The number of nodes of zero out-degree."
   ]
  },
  {
   "cell_type": "code",
   "execution_count": 15,
   "metadata": {},
   "outputs": [
    {
     "name": "stdout",
     "output_type": "stream",
     "text": [
      "1\n",
      "1005\n"
     ]
    }
   ],
   "source": [
    "print(snap.CntOutDegNodes(small_graph, 0))\n",
    "print(snap.CntOutDegNodes(wiki_voters_graph, 0))"
   ]
  },
  {
   "cell_type": "markdown",
   "metadata": {},
   "source": [
    "### 7-) The number of nodes of zero in-degree."
   ]
  },
  {
   "cell_type": "code",
   "execution_count": 16,
   "metadata": {},
   "outputs": [
    {
     "name": "stdout",
     "output_type": "stream",
     "text": [
      "0\n",
      "4734\n"
     ]
    }
   ],
   "source": [
    "print(snap.CntInDegNodes(small_graph, 0))\n",
    "print(snap.CntInDegNodes(wiki_voters_graph, 0))"
   ]
  },
  {
   "cell_type": "markdown",
   "metadata": {},
   "source": [
    "### 8-) The number of nodes with more than 10 outgoing edges"
   ]
  },
  {
   "cell_type": "code",
   "execution_count": 18,
   "metadata": {},
   "outputs": [],
   "source": [
    "out_deg_v = snap.TIntPrV()\n",
    "snap.GetNodeOutDegV(wiki_voters_graph, out_deg_v)"
   ]
  },
  {
   "cell_type": "code",
   "execution_count": 25,
   "metadata": {},
   "outputs": [
    {
     "name": "stdout",
     "output_type": "stream",
     "text": [
      "Number of nodes with more than 10 outgoing edges:  1612\n"
     ]
    }
   ],
   "source": [
    "count = 0\n",
    "for pair in out_deg_v:\n",
    "    if pair.GetVal2() > 10:\n",
    "        count += 1\n",
    "\n",
    "print(\"Number of nodes with more than 10 outgoing edges: \", count)"
   ]
  },
  {
   "cell_type": "markdown",
   "metadata": {},
   "source": [
    "### 9-) The number of nodes with fewer than 10 incoming edges"
   ]
  },
  {
   "cell_type": "code",
   "execution_count": 27,
   "metadata": {},
   "outputs": [
    {
     "name": "stdout",
     "output_type": "stream",
     "text": [
      "Number of nodes with less than 10 incoming edges:  5165\n"
     ]
    }
   ],
   "source": [
    "in_deg_v = snap.TIntPrV()\n",
    "snap.GetNodeInDegV(wiki_voters_graph, in_deg_v)\n",
    "\n",
    "count = 0\n",
    "for pair in in_deg_v:\n",
    "    if pair.GetVal2() < 10:\n",
    "        count += 1\n",
    "\n",
    "print(\"Number of nodes with less than 10 incoming edges: \", count)"
   ]
  },
  {
   "cell_type": "markdown",
   "metadata": {},
   "source": [
    "# Further Analyzing the Wikipedia voters network"
   ]
  },
  {
   "cell_type": "markdown",
   "metadata": {},
   "source": [
    "### 1-) \n",
    "(18 points) Plot the distribution of out-degrees of nodes in the network on a log-log scale.\n",
    "Each data point is a pair (x, y) where x is a positive integer and y is the number of nodes\n",
    "in the network with out-degree equal to x. Restrict the range of x between the minimum\n",
    "and maximum out-degrees. You may filter out data points with a 0 entry. For the log-log\n",
    "scale, use base 10 for both x and y axes."
   ]
  },
  {
   "cell_type": "code",
   "execution_count": 77,
   "metadata": {},
   "outputs": [],
   "source": [
    "snap.PlotOutDegDistr(wiki_voters_graph, \"example\", \"out-degree\")"
   ]
  },
  {
   "cell_type": "code",
   "execution_count": 78,
   "metadata": {},
   "outputs": [],
   "source": [
    "with open(\"outDeg.example.tab\", \"r\") as f:\n",
    "    plt_data = f.read().split('\\n')"
   ]
  },
  {
   "cell_type": "code",
   "execution_count": 79,
   "metadata": {},
   "outputs": [
    {
     "data": {
      "text/plain": [
       "['#',\n",
       " '# out-degree. G(7115, 103689). 870 (0.1223) nodes with out-deg > avg deg (29.1), 462 (0.0649) with >2*avg.deg (Sat Sep 19 17:34:43 2020)',\n",
       " '#',\n",
       " '# Out-degree\\tCount']"
      ]
     },
     "execution_count": 79,
     "metadata": {},
     "output_type": "execute_result"
    }
   ],
   "source": [
    "plt_data[:4]"
   ]
  },
  {
   "cell_type": "code",
   "execution_count": 80,
   "metadata": {},
   "outputs": [],
   "source": [
    "degree_count_list = []\n",
    "for degree_count in plt_data[4:-1]:\n",
    "    degree_count_list.append(list(map(int, degree_count.split('\\t'))))\n",
    "    \n",
    "degrees, counts = zip(*degree_count_list)"
   ]
  },
  {
   "cell_type": "code",
   "execution_count": 81,
   "metadata": {},
   "outputs": [
    {
     "data": {
      "text/plain": [
       "((0, 1, 2), (1005, 2382, 704))"
      ]
     },
     "execution_count": 81,
     "metadata": {},
     "output_type": "execute_result"
    }
   ],
   "source": [
    "degrees[:3], counts[:3]"
   ]
  },
  {
   "cell_type": "code",
   "execution_count": 82,
   "metadata": {},
   "outputs": [
    {
     "name": "stdout",
     "output_type": "stream",
     "text": [
      "Number of nodes: 7115\n"
     ]
    }
   ],
   "source": [
    "print(\"Number of nodes:\", sum(counts))"
   ]
  },
  {
   "cell_type": "code",
   "execution_count": 92,
   "metadata": {},
   "outputs": [
    {
     "data": {
      "image/png": "[encoded data removed]",
      "text/plain": [
       "<Figure size 720x360 with 1 Axes>"
      ]
     },
     "metadata": {
      "needs_background": "light"
     },
     "output_type": "display_data"
    }
   ],
   "source": [
    "plt.figure(figsize=(10, 5))\n",
    "# Skipping the first element which is the number of zero out degree nodes.\n",
    "log_scale_counts = np.log10(counts[1:])\n",
    "log_scale_degrees = np.log10(degrees[1:])\n",
    "\n",
    "plt.plot(log_scale_degrees, log_scale_counts, alpha=0.5)\n",
    "plt.scatter(log_scale_degrees, log_scale_counts)\n",
    "plt.xlim([log_scale_degrees.min(), log_scale_degrees.max()])\n",
    "plt.xlabel(\"log10 out-degree\")\n",
    "plt.ylabel(\"log10 out-degree count\")\n",
    "plt.show()"
   ]
  },
  {
   "cell_type": "markdown",
   "metadata": {},
   "source": [
    "### 2-)\n",
    "\n",
    "Compute and plot the least-square regression line for the out-degree distribution\n",
    "in the log-log scale plot. Note we want to find coefficients a and b such that the function\n",
    "log10 y = a · log10 x + b, equivalently, y = 10b\n",
    "· x\n",
    "a\n",
    ", best fits the out-degree distribution.\n",
    "What are the coefficients a and b? For this part, you might want to use the method called\n",
    "polyfit in NumPy with deg parameter equal to 1."
   ]
  },
  {
   "cell_type": "code",
   "execution_count": 95,
   "metadata": {},
   "outputs": [
    {
     "data": {
      "text/plain": [
       "(-1.281064705674565, 3.1324547044999114)"
      ]
     },
     "execution_count": 95,
     "metadata": {},
     "output_type": "execute_result"
    }
   ],
   "source": [
    "a, b = np.polyfit(log_scale_degrees, log_scale_counts, deg=1)\n",
    "a, b"
   ]
  },
  {
   "cell_type": "code",
   "execution_count": 96,
   "metadata": {},
   "outputs": [
    {
     "data": {
      "image/png": "[encoded data removed]",
      "text/plain": [
       "<Figure size 432x288 with 1 Axes>"
      ]
     },
     "metadata": {
      "needs_background": "light"
     },
     "output_type": "display_data"
    }
   ],
   "source": [
    "x = log_scale_degrees\n",
    "y = a * x + b\n",
    "\n",
    "plt.plot(log_scale_degrees, log_scale_counts, alpha=0.5)\n",
    "plt.scatter(log_scale_degrees, log_scale_counts)\n",
    "plt.xlim([log_scale_degrees.min(), log_scale_degrees.max()])\n",
    "plt.plot(x, y)\n",
    "plt.xlabel(\"log10 out-degree\")\n",
    "plt.ylabel(\"log10 out-degree count\")\n",
    "plt.show()"
   ]
  },
  {
   "cell_type": "markdown",
   "metadata": {},
   "source": [
    "# Finding Experts on the Java Programming Language on StackOverflow"
   ]
  },
  {
   "cell_type": "code",
   "execution_count": 97,
   "metadata": {},
   "outputs": [],
   "source": [
    "stack_overflow_network = snap.LoadEdgeList(snap.PNGraph, \"stackoverflow-Java.txt\", 0, 1)"
   ]
  },
  {
   "cell_type": "code",
   "execution_count": 120,
   "metadata": {},
   "outputs": [
    {
     "data": {
      "text/plain": [
       "(146874, 333606)"
      ]
     },
     "execution_count": 120,
     "metadata": {},
     "output_type": "execute_result"
    }
   ],
   "source": [
    "stack_overflow_network.GetNodes(), stack_overflow_network.GetEdges()"
   ]
  },
  {
   "cell_type": "markdown",
   "metadata": {},
   "source": [
    "### 1-) 1. The number of weakly connected components in the network. This value can be calculated ain Snap.py via function GetWccs."
   ]
  },
  {
   "cell_type": "code",
   "execution_count": 98,
   "metadata": {},
   "outputs": [],
   "source": [
    "components = snap.TCnComV()\n",
    "\n",
    "snap.GetWccs(stack_overflow_network, components)"
   ]
  },
  {
   "cell_type": "code",
   "execution_count": 99,
   "metadata": {},
   "outputs": [
    {
     "data": {
      "text/plain": [
       "10143"
      ]
     },
     "execution_count": 99,
     "metadata": {},
     "output_type": "execute_result"
    }
   ],
   "source": [
    "len(components)"
   ]
  },
  {
   "cell_type": "markdown",
   "metadata": {},
   "source": [
    "### 2-) 2. The number of edges and the number of nodes in the largest weakly connected component. The largest weakly connected component is calculated in Snap.py with function GetMxWcc."
   ]
  },
  {
   "cell_type": "code",
   "execution_count": 100,
   "metadata": {},
   "outputs": [
    {
     "name": "stdout",
     "output_type": "stream",
     "text": [
      "Number of nodes in largest weakly connected component: 131188\n",
      "Number of edges in largest weakly connected component: 322486\n"
     ]
    }
   ],
   "source": [
    "lw_cc = snap.GetMxWcc(stack_overflow_network)\n",
    "print(\"Number of nodes in largest weakly connected component:\", lw_cc.GetNodes())\n",
    "print(\"Number of edges in largest weakly connected component:\", lw_cc.GetEdges())"
   ]
  },
  {
   "cell_type": "markdown",
   "metadata": {},
   "source": [
    "### 3-) IDs of the top 3 most central nodes in the network by PagePank scores. PageRank scores are calculated in Snap.py with function GetPageRank."
   ]
  },
  {
   "cell_type": "code",
   "execution_count": 103,
   "metadata": {},
   "outputs": [],
   "source": [
    "page_rank_scores = snap.TIntFltH()\n",
    "\n",
    "snap.GetPageRank(stack_overflow_network, page_rank_scores)"
   ]
  },
  {
   "cell_type": "code",
   "execution_count": 104,
   "metadata": {},
   "outputs": [],
   "source": [
    "page_rank_scores.SortByDat(False)"
   ]
  },
  {
   "cell_type": "code",
   "execution_count": 105,
   "metadata": {},
   "outputs": [
    {
     "name": "stdout",
     "output_type": "stream",
     "text": [
      "992484 0.013980540412209575\n",
      "135152 0.010005538895741885\n",
      "22656 0.007103532693128619\n"
     ]
    }
   ],
   "source": [
    "for idx, k in enumerate(page_rank_scores):\n",
    "    print(k, page_rank_scores[k])\n",
    "    if idx == 2:\n",
    "        break"
   ]
  },
  {
   "cell_type": "code",
   "execution_count": 115,
   "metadata": {},
   "outputs": [
    {
     "data": {
      "text/plain": [
       "(1940, 1)"
      ]
     },
     "execution_count": 115,
     "metadata": {},
     "output_type": "execute_result"
    }
   ],
   "source": [
    "node = stack_overflow_network.GetNI(992484)\n",
    "node.GetInDeg(), node.GetOutDeg()"
   ]
  },
  {
   "cell_type": "markdown",
   "metadata": {},
   "source": [
    "### 4-) IDs of the top 3 hubs and top 3 authorities in the network by HITS scores. HITS scores are calculated in Snap.py with function GetHits"
   ]
  },
  {
   "cell_type": "code",
   "execution_count": 116,
   "metadata": {},
   "outputs": [],
   "source": [
    "n_id_hub_h = snap.TIntFltH()\n",
    "n_id_auth_h = snap.TIntFltH()\n",
    "\n",
    "snap.GetHits(stack_overflow_network, n_id_hub_h, n_id_auth_h)\n",
    "\n",
    "n_id_hub_h.SortByDat(False)\n",
    "n_id_auth_h.SortByDat(False)"
   ]
  },
  {
   "cell_type": "code",
   "execution_count": 117,
   "metadata": {},
   "outputs": [
    {
     "name": "stdout",
     "output_type": "stream",
     "text": [
      "Top 3 hubs by id:\n",
      "892029 0.07336380373389548\n",
      "Node in degree: 3\n",
      "Node out degree: 434\n",
      "\n",
      "1194415 0.05955074418794487\n",
      "Node in degree: 5\n",
      "Node out degree: 374\n",
      "\n",
      "359862 0.05687564588068672\n",
      "Node in degree: 6\n",
      "Node out degree: 193\n",
      "\n",
      "==================================================\n",
      "Top 3 authorities by id:\n",
      "22656 0.6047239730413133\n",
      "Node in degree: 3999\n",
      "Node out degree: 0\n",
      "\n",
      "157882 0.2986993488728824\n",
      "Node in degree: 2828\n",
      "Node out degree: 6\n",
      "\n",
      "571407 0.2839071934144654\n",
      "Node in degree: 2714\n",
      "Node out degree: 2\n",
      "\n"
     ]
    }
   ],
   "source": [
    "print(\"Top 3 hubs by id:\")\n",
    "for idx, k in enumerate(n_id_hub_h):\n",
    "    print(k, n_id_hub_h[k])\n",
    "    node = stack_overflow_network.GetNI(k)\n",
    "    print(\"Node in degree: {}\".format(node.GetInDeg()))\n",
    "    print(\"Node out degree: {}\\n\".format(node.GetOutDeg()))\n",
    "    if idx == 2:\n",
    "        break\n",
    "\n",
    "print(\"=\"*50)\n",
    "\n",
    "print(\"Top 3 authorities by id:\")\n",
    "for idx, k in enumerate(n_id_auth_h):\n",
    "    print(k, n_id_auth_h[k])\n",
    "    node = stack_overflow_network.GetNI(k)\n",
    "    print(\"Node in degree: {}\".format(node.GetInDeg()))\n",
    "    print(\"Node out degree: {}\\n\".format(node.GetOutDeg()))\n",
    "    if idx == 2:\n",
    "        break"
   ]
  }
 ],
 "metadata": {
  "kernelspec": {
   "display_name": "Python 3",
   "language": "python",
   "name": "python3"
  },
  "language_info": {
   "codemirror_mode": {
    "name": "ipython",
    "version": 3
   },
   "file_extension": ".py",
   "mimetype": "text/x-python",
   "name": "python",
   "nbconvert_exporter": "python",
   "pygments_lexer": "ipython3",
   "version": "3.7.7"
  }
 },
 "nbformat": 4,
 "nbformat_minor": 4
}
